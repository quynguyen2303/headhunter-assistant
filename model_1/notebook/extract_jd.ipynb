{
 "cells": [
  {
   "cell_type": "code",
   "execution_count": 1,
   "id": "6f8ad5d2",
   "metadata": {},
   "outputs": [],
   "source": [
    "from langchain.vectorstores.chroma import Chroma\n",
    "from langchain.chat_models import ChatOpenAI\n",
    "from langchain.embeddings.openai import OpenAIEmbeddings\n",
    "from langchain.chains import ConversationalRetrievalChain\n",
    "from langchain.schema import HumanMessage, AIMessage\n",
    "from dotenv import load_dotenv\n",
    "import time"
   ]
  },
  {
   "cell_type": "code",
   "execution_count": 2,
   "id": "5be077d1",
   "metadata": {},
   "outputs": [],
   "source": [
    "def make_chain():\n",
    "    model = ChatOpenAI(\n",
    "        model_name=\"gpt-3.5-turbo\",\n",
    "        temperature=\"0\",\n",
    "        # verbose=True\n",
    "    )\n",
    "    embedding = OpenAIEmbeddings()\n",
    "\n",
    "    vector_store = Chroma(\n",
    "        embedding_function=embedding,\n",
    "        collection_name=\"jd_1\",\n",
    "        persist_directory=\"data/chroma/jd\",\n",
    "    )\n",
    "\n",
    "    return ConversationalRetrievalChain.from_llm(\n",
    "        model,\n",
    "        retriever=vector_store.as_retriever()\n",
    "        #         return_source_documents=True,\n",
    "        # verbose=True,\n",
    "    )"
   ]
  },
  {
   "cell_type": "code",
   "execution_count": 3,
   "id": "42fe15da",
   "metadata": {},
   "outputs": [
    {
     "name": "stderr",
     "output_type": "stream",
     "text": [
      "Number of requested results 4 is greater than number of elements in index 3, updating n_results = 3\n"
     ]
    },
    {
     "name": "stdout",
     "output_type": "stream",
     "text": [
      "Answer: {\n",
      "  \"job_title\": \"Full Stack Engineer\",\n",
      "  \"country\": \"Not Specific\",\n",
      "  \"city\": \"Not Specific\",\n",
      "  \"job_type\": \"Not Specific\",\n",
      "  \"job_details\": \"Design and build a marketplace for tech talents and recruiters everywhere in the world. Participate in hiring and building the technical team. Participate in defining and improving the product. Work closely with the entire product development team. Seek to understand and satisfy customers' needs and problems.\",\n",
      "  \"job_requirements\": \"3+ years of experience of web development. Strong experience of backend and API design. Understanding of javascript, node.js, react, next.js. Familiarity with popular relational and NoSQL databases. Good understanding of web app security, scalability, and performance. Good product mindset and ownership. Can communicate in English.\",\n",
      "  \"job_benefits\": \"Not Specific\",\n",
      "  \"number_of_years_of_experience\": \"3\",\n",
      "  \"workplace\": \"Not Specific\"\n",
      "}\n",
      "Execution time: 15.745410919189453 seconds\n"
     ]
    }
   ],
   "source": [
    "# Get API Key\n",
    "load_dotenv()\n",
    "\n",
    "\n",
    "chain = make_chain()\n",
    "chat_history = []\n",
    "\n",
    "query = \"\"\"\n",
    "This is a job description. Can you give me the job title, country, city, job type (FULLTIME, PART_TIME, FREELANCE, CONTRACT), \\\n",
    "        job requirements, job benefits, number of years of experience (in NUMBER only) \\\n",
    "        workplace type (ONSITE, HYBRID, REMOTE) ?\\\n",
    "        Give the answer in json format. If not available, please put \\'Not Specific\\' \\\n",
    "        For example, {\"job_title\": <job title>, \\\n",
    "                \"country\": <country>, \\\n",
    "                \"city\": <city>, \\\n",
    "                \"job_type\": <FULLTIME, PART_TIME, FREELANCE, CONTRACT>, \\\n",
    "                \"job_details\": <job details>, \\\n",
    "                \"job_requirements\": <job requirements>, \\\n",
    "                \"job_benefits\": <job benefits>, \\\n",
    "                \"number_of_years_of_experience\": <number of years of experience>, \\\n",
    "                \"workplace\": <ONSITE, HYBRID, REMOTE> } \n",
    "\"\"\"\n",
    "start_time = time.time()\n",
    "\n",
    "response = chain({\"question\": query, \"chat_history\": chat_history})\n",
    "answer = response[\"answer\"]\n",
    "chat_history.append(HumanMessage(content=query))\n",
    "chat_history.append(AIMessage(content=response[\"answer\"]))\n",
    "\n",
    "print(f\"{answer}\")\n",
    "\n",
    "end_time = time.time()\n",
    "execution_time = end_time - start_time\n",
    "print(f\"Execution time: {execution_time} seconds\")"
   ]
  },
  {
   "cell_type": "code",
   "execution_count": null,
   "id": "05329cf9",
   "metadata": {},
   "outputs": [],
   "source": []
  }
 ],
 "metadata": {
  "kernelspec": {
   "display_name": "Python 3 (ipykernel)",
   "language": "python",
   "name": "python3"
  },
  "language_info": {
   "codemirror_mode": {
    "name": "ipython",
    "version": 3
   },
   "file_extension": ".py",
   "mimetype": "text/x-python",
   "name": "python",
   "nbconvert_exporter": "python",
   "pygments_lexer": "ipython3",
   "version": "3.10.11"
  }
 },
 "nbformat": 4,
 "nbformat_minor": 5
}
