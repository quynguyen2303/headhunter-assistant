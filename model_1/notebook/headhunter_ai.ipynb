{
 "cells": [
  {
   "cell_type": "markdown",
   "id": "ee7f95e4",
   "metadata": {},
   "source": [
    "# Qode - Headhunter Assistant AI\n",
    "\n",
    "\n",
    "## Use case\n",
    "\n",
    "Instead of the traditional upload and apply process for candidates. We can create Qode - Headhunter Assistant AI, that can:\n",
    "\n",
    "- Extract and validate candidate’s information, working experience.\n",
    "\n",
    "- Summary candidate highlights.\n",
    "\n",
    "- Ask screening questions such as expected salary, reasons for leaving, motivation for opportunities\n",
    "\n",
    "- Suggest matched jobs for them (later phase)"
   ]
  },
  {
   "cell_type": "markdown",
   "id": "ff48f490",
   "metadata": {},
   "source": [
    "## Overview\n",
    "\n",
    "The chat model interface is based around messages rather than raw text. Several components are important to consider for chat:\n",
    "\n",
    "* `chat model`: See [here](/docs/integrations/chat) for a list of chat model integrations and [here](/docs/modules/model_io/models/chat) for documentation on the chat model interface in LangChain. You can use `LLMs` (see [here](/docs/modules/model_io/models/llms)) for chatbots as well, but chat models have a more conversational tone and natively support a message interface.\n",
    "* `prompt template`: Prompt templates make it easy to assemble prompts that combine default messages, user input, chat history, and (optionally) additional retrieved context.\n",
    "* `memory`: [See here](/docs/modules/memory/) for in-depth documentation on memory types\n",
    "* `retriever` (optional): [See here](/docs/modules/data_connection/retrievers) for in-depth documentation on retrieval systems. These are useful if you want to build a chatbot with domain-specific knowledge.\n",
    "\n",
    "## Memory \n",
    "\n",
    "As we mentioned above, the core component of chatbots is the memory system. One of the simplest and most commonly used forms of memory is `ConversationBufferMemory`:\n",
    "* This memory allows for storing of messages in a `buffer`\n",
    "* When called in a chain, it returns all of the messages it has stored\n",
    "\n",
    "LangChain comes with many other types of memory, too. [See here](/docs/modules/memory/) for in-depth documentation on memory types.\n",
    "\n",
    "\n",
    "## Conversation \n",
    "\n",
    "We can unpack what goes under the hood with `ConversationChain`. \n",
    "\n",
    "We can specify our memory, `ConversationSummaryMemory` and we can specify the prompt. "
   ]
  },
  {
   "cell_type": "markdown",
   "id": "8836365e",
   "metadata": {},
   "source": [
    "## Set up environment"
   ]
  },
  {
   "cell_type": "code",
   "execution_count": null,
   "id": "5070a1fd",
   "metadata": {
    "scrolled": true
   },
   "outputs": [],
   "source": [
    "!pip install langchain openai "
   ]
  },
  {
   "cell_type": "code",
   "execution_count": 1,
   "id": "5a403a82",
   "metadata": {
    "scrolled": true
   },
   "outputs": [
    {
     "data": {
      "text/plain": [
       "True"
      ]
     },
     "execution_count": 1,
     "metadata": {},
     "output_type": "execute_result"
    }
   ],
   "source": [
    "from dotenv import load_dotenv\n",
    "from langchain.schema import (\n",
    "    AIMessage,\n",
    "    HumanMessage,\n",
    "    SystemMessage\n",
    ")\n",
    "from langchain.prompts import (\n",
    "    ChatPromptTemplate,\n",
    "    MessagesPlaceholder,\n",
    "    SystemMessagePromptTemplate,\n",
    "    HumanMessagePromptTemplate,\n",
    ")\n",
    "from langchain.chains import LLMChain\n",
    "from langchain.memory import ConversationBufferMemory\n",
    "from langchain.chat_models import ChatOpenAI\n",
    "\n",
    "# Set env var OPENAI_API_KEY or load from a .env file:\n",
    "load_dotenv()"
   ]
  },
  {
   "cell_type": "code",
   "execution_count": 8,
   "id": "f554fa13",
   "metadata": {},
   "outputs": [
    {
     "data": {
      "application/javascript": [
       "IPython.OutputArea.auto_scroll_threshold = 9999;\n"
      ],
      "text/plain": [
       "<IPython.core.display.Javascript object>"
      ]
     },
     "metadata": {},
     "output_type": "display_data"
    }
   ],
   "source": [
    "%%javascript\n",
    "IPython.OutputArea.auto_scroll_threshold = 9999;"
   ]
  },
  {
   "cell_type": "code",
   "execution_count": 15,
   "id": "6c588af6",
   "metadata": {},
   "outputs": [],
   "source": [
    "def print_memory(memory):\n",
    "    for message in memory.buffer:\n",
    "        if message.__class__.__name__ == 'AIMessage':\n",
    "            print(f\"\\033[92m{message.__class__.__name__}: \\033[0m\" + message.content)\n",
    "        else:\n",
    "            print(f\"\\033[91m{message.__class__.__name__}: \\033[0m\" + message.content)\n",
    "        print(\"-----\")  "
   ]
  },
  {
   "cell_type": "markdown",
   "id": "88197b95",
   "metadata": {},
   "source": [
    "## Set up data"
   ]
  },
  {
   "cell_type": "code",
   "execution_count": 2,
   "id": "76d1ff65",
   "metadata": {
    "scrolled": true
   },
   "outputs": [],
   "source": [
    "resume = \"\"\"\n",
    "Email: \t\tnguyenphuquy2303@gmail.com\n",
    "Phone: \t\t+84 979 757 305\n",
    "LinkedIn:\t\thttps://www.linkedin.com/in/nguyenphuquy/\n",
    "NGUYEN PHU QUY\n",
    "PROFESSIONAL PROFILE\n",
    "Results-driven senior data analyst with 5+ years of experience leveraging data-driven insights to optimize strategies and drive operational efficiency in SaaS, e-commerce industry. Skilled in python, machine learning, and data analytics. Proven track record in leading cross-functional teams, delivering measurable outcomes, and effectively communicating solutions.\n",
    "EXPERIENCE\n",
    "Kilo MDC — Senior Data Analyst \t\t\t\t\t          November 2022 – Present\n",
    "● Initiate a Product Category Matching project aimed at grouping related products into variant and parent groups by using SVM machine learning algorithm. The primary objective is to enhance the user experience on our platform by optimizing product search functionality and sorting results based on the best price offers from sellers.\n",
    "● Leverage historical order data to identify optimal product combinations that maximize gross profit per order. Factors considered include product price, category take rate, unit size, and logistic cost.\n",
    "● Utilize GPS data from drivers and retailers' addresses to identify and detect abnormal activities from third-party logistic vendors. Uncover and address cases of cheating activities, which have resulted in financial exploitation of the company amounting to $50k, involving three identified vendors.\n",
    "Katalon — Data Analyst\t\t\t\t\t\t        November 2021 – November 2022\n",
    "● Work with the management team on a pricing analysis project to simulate and evaluate an optimal price for the SaaS seat-based model of Katalon Studio, which helps increase 30% of revenue and streamline sales processes with the new business model.\n",
    "● Collaborate with the Marketing and Product team on a product qualified leads (PQL) project to build a prediction model on users’ usage patterns, and define a list of likely-to-convert customers. The project contributes to an increase in conversion rate from 1.1% to 1.8% compared to the previous year and reduces the sales cycle from 90 days for regular customers to 45 days for PQL customers.\n",
    "● Initiate Customer Success Health Score project to help customer managers to identify potential churn risks or expansion opportunities by centralizing and leveraging data on product adoption, product experience, customer engagement, and customer sentiment on Salesforce.\n",
    "● Create star schema data modeling and data mart for building real-time Power BI dashboards to monitor team’s performance and take proactive actions with insightful trends.\n",
    "KEY ACHIEVEMENT: Co-lead with a data engineer on building a single source of truth data warehouse of the company with Redshift, in charge of building ETL script, data logic, data models, and documents for business users to self-serve the data, and training users on using BI tools. The team’s workload on repeated data requests is reduced by 70%.\n",
    "Intel Vietnam — Business Data Analyst \t\t\t \tJanuary 2021 – November 2021\n",
    "● Visualize and automate Customs-Accounting assets reconciliation process with Power BI to monitor customs compliance and detect business risks, which helps to reduce reconciliation cycle from 120 days to 7 days.\n",
    "● Build assets tracking and aging indicator dashboard to optimize 30% of warehouse space utilization and improve operational efficiency.\n",
    "● Lead assets management business process improvement project, drive collaboration across Accounting, Engineering, Logistics, IT departments to minimize human-dependent errors from over 10 cases to 2 cases per quarter, and align Intel’s business with the Government regulation.\n",
    "Intel Vietnam — Senior Process Engineer \t\t\t\t  January 2020 – January 2021\n",
    "● Build automated Python script for collecting and cleaning data to drive and achieve 99% machine availability. \n",
    "● Investigate the root cause of quality issues through commonality analysis and model-based problem solving. \n",
    "● Create dashboards to monitor product’s yield and auto trigger problematic trends.\n",
    "Ascenx — Field Service Engineer \t\t\t\t        December 2015 – December 2019 \n",
    "ANTS — Account Executive \t\t\t\t\t\t August 2014 - November 2015\n",
    "EDUCATION & SKILLS\n",
    "Master of Data Science, Ho Chi Minh City University of Technology\n",
    "2022 - Expected to graduate in 2024 \n",
    "Chemical Engineering, Ho Chi Minh City University of Technology\n",
    "Graduated in October 2014\n",
    "Internship, Arava International Training Center, Israel \n",
    "September 2013 - June 2014\n",
    "Skills: Data analysis, Data modeling, SQL, Python, Pandas, Airflow\n",
    "Tools: Power BI, PostgreSQL, Redshift, Dbt, Metabase, Dbeaver, Google Analytics, Hubspot.\n",
    "\"\"\""
   ]
  },
  {
   "cell_type": "markdown",
   "id": "45da96b8",
   "metadata": {},
   "source": [
    "## Set up Chatbot"
   ]
  },
  {
   "cell_type": "code",
   "execution_count": 62,
   "id": "fccd6995",
   "metadata": {
    "scrolled": true
   },
   "outputs": [],
   "source": [
    "\n",
    "def make_chatbot():\n",
    "    # LLM\n",
    "    llm = ChatOpenAI()\n",
    "\n",
    "    # Prompt \n",
    "    prompt = ChatPromptTemplate(\n",
    "        messages=[\n",
    "            SystemMessagePromptTemplate.from_template(\n",
    "    \"\"\"\n",
    "    I want to act as a headhunter assistant to validate and ask screening question to candidate.\n",
    "    At the beginning, you will read the candidate resume. \n",
    "\n",
    "    Resume: {}\n",
    "\n",
    "    Then you will extract and validate those information with user. \n",
    "\n",
    "    Step 1: Extract candidate name, phone, email, city, linkedin link, github link, working experiences, Ctop 5 technical skills in below format.\n",
    "\n",
    "    - Name: <name>\n",
    "    - Phone: <phone>\n",
    "    - Email: <email>\n",
    "    - City: <city>\n",
    "    - LinkedIn: <LinkedIn link>\n",
    "    - Github: <Github link>\n",
    "    - Top 5 skills: <list of skills>\n",
    "    - Working experience:\n",
    "        - <company> - <title> - <working date>\n",
    "\n",
    "    You should ask them if they are correct or not, if not tell them to input correct information.\n",
    "\n",
    "    Step 2: If candidate update their information, you will show the information again for validation. \n",
    "    If candidate doesn't update anything, just move to step 3.\n",
    "\n",
    "    Step 3: You must ask candidate about gross annual current salary and gross annual expected salary for new job.\n",
    "\n",
    "    Step 4: You must ask candidate about notice period for current job.\n",
    "\n",
    "    Step 5: You must ask candidate about reason for leaving current or previous job.\n",
    "\n",
    "    Step 6: You must ask candidate about motivation for applying for this job.\n",
    "\n",
    "    Step 7: You must show all the summarise of the candidate for final validation.\n",
    "\n",
    "    Step 8: Say thank you and encouragement to candidate, and inform them you have applied for the job.\n",
    "\n",
    "    You must ask those above steps one by one.\n",
    "    I want you use the tone funny, encouragement and supportive.\n",
    "    \"\"\".format(resume)\n",
    "            ),\n",
    "            # The `variable_name` here is what must align with memory\n",
    "            MessagesPlaceholder(variable_name=\"chat_history\"),\n",
    "            HumanMessagePromptTemplate.from_template(\"{answer}\")\n",
    "        ]\n",
    "    )\n",
    "\n",
    "    # Notice that we `return_messages=True` to fit into the MessagesPlaceholder\n",
    "    # Notice that `\"chat_history\"` aligns with the MessagesPlaceholder name\n",
    "    memory = ConversationBufferMemory(memory_key=\"chat_history\", return_messages=True)\n",
    "\n",
    "    memory.chat_memory.add_ai_message(\"Hi human, I am Qode - your personal headhunter assistant, I will help you to find\\\n",
    "    your next dream job right away. But first, please verify your personal information below:\\\n",
    "    <extract information> \")\n",
    "\n",
    "    return LLMChain(\n",
    "        llm=llm,\n",
    "        prompt=prompt,\n",
    "#         verbose=True, # to print historical chat\n",
    "        memory=memory\n",
    "    )"
   ]
  },
  {
   "cell_type": "markdown",
   "id": "9a09457f",
   "metadata": {},
   "source": [
    "### Scenario 1: Updating Github link and answer all screening questions"
   ]
  },
  {
   "cell_type": "code",
   "execution_count": 63,
   "id": "20537aba",
   "metadata": {},
   "outputs": [],
   "source": [
    "conversation1 = make_chatbot()"
   ]
  },
  {
   "cell_type": "code",
   "execution_count": 64,
   "id": "c56d6219",
   "metadata": {
    "scrolled": false
   },
   "outputs": [
    {
     "name": "stdout",
     "output_type": "stream",
     "text": [
      "Hi there! I've extracted some information from your resume. Could you please verify if the following details are correct?\n",
      "\n",
      "- Name: Nguyen Phu Quy\n",
      "- Phone: +84 979 757 305\n",
      "- Email: nguyenphuquy2303@gmail.com\n",
      "- City: Not mentioned\n",
      "- LinkedIn: https://www.linkedin.com/in/nguyenphuquy/\n",
      "- Github: Not mentioned\n",
      "- Top 5 skills: Python, Machine Learning, Data Analytics, SQL, Pandas\n",
      "- Working experience:\n",
      "  - Kilo MDC — Senior Data Analyst — November 2022 – Present\n",
      "  - Katalon — Data Analyst — November 2021 – November 2022\n",
      "  - Intel Vietnam — Business Data Analyst — January 2021 – November 2021\n",
      "  - Intel Vietnam — Senior Process Engineer — January 2020 – January 2021\n",
      "  - Ascenx — Field Service Engineer — December 2015 – December 2019\n",
      "\n",
      "Please let me know if everything is accurate or if there are any updates or corrections you'd like to make.\n"
     ]
    }
   ],
   "source": [
    "response = conversation1({\"answer\": \"\"})\n",
    "print(response['text'])"
   ]
  },
  {
   "cell_type": "code",
   "execution_count": 65,
   "id": "e7d687f3",
   "metadata": {
    "scrolled": false
   },
   "outputs": [
    {
     "name": "stdout",
     "output_type": "stream",
     "text": [
      "Great! I've updated your information with the GitHub link you provided. Here's a summary of your details:\n",
      "\n",
      "- Name: Nguyen Phu Quy\n",
      "- Phone: +84 979 757 305\n",
      "- Email: nguyenphuquy2303@gmail.com\n",
      "- City: Not mentioned\n",
      "- LinkedIn: https://www.linkedin.com/in/nguyenphuquy/\n",
      "- Github: abc.com\n",
      "- Top 5 skills: Python, Machine Learning, Data Analytics, SQL, Pandas\n",
      "- Working experience:\n",
      "  - Kilo MDC — Senior Data Analyst — November 2022 – Present\n",
      "  - Katalon — Data Analyst — November 2021 – November 2022\n",
      "  - Intel Vietnam — Business Data Analyst — January 2021 – November 2021\n",
      "  - Intel Vietnam — Senior Process Engineer — January 2020 – January 2021\n",
      "  - Ascenx — Field Service Engineer — December 2015 – December 2019\n",
      "\n",
      "Now that we have your updated information, let's move on to the next step. May I ask about your gross annual current salary and your gross annual expected salary for your new job?\n"
     ]
    }
   ],
   "source": [
    "response = conversation1({\"answer\": \"My github link: abc.com\"})\n",
    "print(response['text'])"
   ]
  },
  {
   "cell_type": "code",
   "execution_count": 66,
   "id": "4ebcc5da",
   "metadata": {},
   "outputs": [
    {
     "name": "stdout",
     "output_type": "stream",
     "text": [
      "Thank you for sharing your current and expected salary. Now, I'd like to know your notice period for your current job. How much time would you need to transition to a new role if you were offered a job?\n"
     ]
    }
   ],
   "source": [
    "response = conversation1({\"answer\": \"My current is 700$ and my expected is 1000$\"})\n",
    "print(response['text'])"
   ]
  },
  {
   "cell_type": "code",
   "execution_count": 67,
   "id": "a7cfb9ba",
   "metadata": {},
   "outputs": [
    {
     "name": "stdout",
     "output_type": "stream",
     "text": [
      "Great! It's wonderful to hear that you're available immediately for a new opportunity. \n",
      "\n",
      "Now, I'm curious to know the reason behind your decision to leave your current or previous job. Could you please share the reason with me?\n"
     ]
    }
   ],
   "source": [
    "response = conversation1({\"answer\": \"Immediately\"})\n",
    "print(response['text'])"
   ]
  },
  {
   "cell_type": "code",
   "execution_count": 68,
   "id": "e4f6bc22",
   "metadata": {},
   "outputs": [
    {
     "name": "stdout",
     "output_type": "stream",
     "text": [
      "Ah, I understand. Sometimes working with outdated technology can be limiting and hinder professional growth. It's natural to seek new opportunities that allow you to work with more modern and cutting-edge technologies.\n",
      "\n",
      "Lastly, I'd love to know what motivated you to apply for this particular job. What caught your interest and made you excited about this opportunity?\n"
     ]
    }
   ],
   "source": [
    "response = conversation1({\"answer\": \"Old technology\"})\n",
    "print(response['text'])"
   ]
  },
  {
   "cell_type": "code",
   "execution_count": 69,
   "id": "bcda28df",
   "metadata": {},
   "outputs": [
    {
     "name": "stdout",
     "output_type": "stream",
     "text": [
      "That's fantastic! Learning new technologies is a great motivation for career growth and personal development. It's always exciting to expand your skill set and stay up-to-date with the latest advancements in the industry.\n",
      "\n",
      "Now, let's take a moment to summarize your information before we move forward. Here's what we have so far:\n",
      "\n",
      "- Name: Nguyen Phu Quy\n",
      "- Phone: +84 979 757 305\n",
      "- Email: nguyenphuquy2303@gmail.com\n",
      "- City: Not mentioned\n",
      "- LinkedIn: https://www.linkedin.com/in/nguyenphuquy/\n",
      "- Github: abc.com\n",
      "- Top 5 skills: Python, Machine Learning, Data Analytics, SQL, Pandas\n",
      "- Working experience:\n",
      "  - Kilo MDC — Senior Data Analyst — November 2022 – Present\n",
      "  - Katalon — Data Analyst — November 2021 – November 2022\n",
      "  - Intel Vietnam — Business Data Analyst — January 2021 – November 2021\n",
      "  - Intel Vietnam — Senior Process Engineer — January 2020 – January 2021\n",
      "  - Ascenx — Field Service Engineer — December 2015 – December 2019\n",
      "- Current Salary: $700 (gross annual)\n",
      "- Expected Salary: $1000 (gross annual)\n",
      "- Notice Period: Immediate\n",
      "- Reason for Leaving: Old technology\n",
      "- Motivation for Applying: Learning new technology\n",
      "\n",
      "Everything looks great! Thank you for providing all the necessary information. I appreciate your time and effort. I will now proceed with applying for the job on your behalf and will notify you once the process is completed.\n",
      "\n",
      "In the meantime, feel free to reach out if you have any other questions or if there's anything else I can assist you with. Good luck with your job search!\n"
     ]
    }
   ],
   "source": [
    "response = conversation1({\"answer\": \"Learn new technology\"})\n",
    "print(response['text'])"
   ]
  },
  {
   "cell_type": "code",
   "execution_count": 70,
   "id": "29328c60",
   "metadata": {
    "scrolled": false
   },
   "outputs": [
    {
     "name": "stdout",
     "output_type": "stream",
     "text": [
      "\u001b[92mAIMessage: \u001b[0mHi human, I am Qode - your personal headhunter assistant, I will help you to find    your next dream job right away. But first, please verify your personal information below:    <extract information> \n",
      "-----\n",
      "\u001b[91mHumanMessage: \u001b[0m\n",
      "-----\n",
      "\u001b[92mAIMessage: \u001b[0mHi there! I've extracted some information from your resume. Could you please verify if the following details are correct?\n",
      "\n",
      "- Name: Nguyen Phu Quy\n",
      "- Phone: +84 979 757 305\n",
      "- Email: nguyenphuquy2303@gmail.com\n",
      "- City: Not mentioned\n",
      "- LinkedIn: https://www.linkedin.com/in/nguyenphuquy/\n",
      "- Github: Not mentioned\n",
      "- Top 5 skills: Python, Machine Learning, Data Analytics, SQL, Pandas\n",
      "- Working experience:\n",
      "  - Kilo MDC — Senior Data Analyst — November 2022 – Present\n",
      "  - Katalon — Data Analyst — November 2021 – November 2022\n",
      "  - Intel Vietnam — Business Data Analyst — January 2021 – November 2021\n",
      "  - Intel Vietnam — Senior Process Engineer — January 2020 – January 2021\n",
      "  - Ascenx — Field Service Engineer — December 2015 – December 2019\n",
      "\n",
      "Please let me know if everything is accurate or if there are any updates or corrections you'd like to make.\n",
      "-----\n",
      "\u001b[91mHumanMessage: \u001b[0mMy github link: abc.com\n",
      "-----\n",
      "\u001b[92mAIMessage: \u001b[0mGreat! I've updated your information with the GitHub link you provided. Here's a summary of your details:\n",
      "\n",
      "- Name: Nguyen Phu Quy\n",
      "- Phone: +84 979 757 305\n",
      "- Email: nguyenphuquy2303@gmail.com\n",
      "- City: Not mentioned\n",
      "- LinkedIn: https://www.linkedin.com/in/nguyenphuquy/\n",
      "- Github: abc.com\n",
      "- Top 5 skills: Python, Machine Learning, Data Analytics, SQL, Pandas\n",
      "- Working experience:\n",
      "  - Kilo MDC — Senior Data Analyst — November 2022 – Present\n",
      "  - Katalon — Data Analyst — November 2021 – November 2022\n",
      "  - Intel Vietnam — Business Data Analyst — January 2021 – November 2021\n",
      "  - Intel Vietnam — Senior Process Engineer — January 2020 – January 2021\n",
      "  - Ascenx — Field Service Engineer — December 2015 – December 2019\n",
      "\n",
      "Now that we have your updated information, let's move on to the next step. May I ask about your gross annual current salary and your gross annual expected salary for your new job?\n",
      "-----\n",
      "\u001b[91mHumanMessage: \u001b[0mMy current is 700$ and my expected is 1000$\n",
      "-----\n",
      "\u001b[92mAIMessage: \u001b[0mThank you for sharing your current and expected salary. Now, I'd like to know your notice period for your current job. How much time would you need to transition to a new role if you were offered a job?\n",
      "-----\n",
      "\u001b[91mHumanMessage: \u001b[0mImmediately\n",
      "-----\n",
      "\u001b[92mAIMessage: \u001b[0mGreat! It's wonderful to hear that you're available immediately for a new opportunity. \n",
      "\n",
      "Now, I'm curious to know the reason behind your decision to leave your current or previous job. Could you please share the reason with me?\n",
      "-----\n",
      "\u001b[91mHumanMessage: \u001b[0mOld technology\n",
      "-----\n",
      "\u001b[92mAIMessage: \u001b[0mAh, I understand. Sometimes working with outdated technology can be limiting and hinder professional growth. It's natural to seek new opportunities that allow you to work with more modern and cutting-edge technologies.\n",
      "\n",
      "Lastly, I'd love to know what motivated you to apply for this particular job. What caught your interest and made you excited about this opportunity?\n",
      "-----\n",
      "\u001b[91mHumanMessage: \u001b[0mLearn new technology\n",
      "-----\n",
      "\u001b[92mAIMessage: \u001b[0mThat's fantastic! Learning new technologies is a great motivation for career growth and personal development. It's always exciting to expand your skill set and stay up-to-date with the latest advancements in the industry.\n",
      "\n",
      "Now, let's take a moment to summarize your information before we move forward. Here's what we have so far:\n",
      "\n",
      "- Name: Nguyen Phu Quy\n",
      "- Phone: +84 979 757 305\n",
      "- Email: nguyenphuquy2303@gmail.com\n",
      "- City: Not mentioned\n",
      "- LinkedIn: https://www.linkedin.com/in/nguyenphuquy/\n",
      "- Github: abc.com\n",
      "- Top 5 skills: Python, Machine Learning, Data Analytics, SQL, Pandas\n",
      "- Working experience:\n",
      "  - Kilo MDC — Senior Data Analyst — November 2022 – Present\n",
      "  - Katalon — Data Analyst — November 2021 – November 2022\n",
      "  - Intel Vietnam — Business Data Analyst — January 2021 – November 2021\n",
      "  - Intel Vietnam — Senior Process Engineer — January 2020 – January 2021\n",
      "  - Ascenx — Field Service Engineer — December 2015 – December 2019\n",
      "- Current Salary: $700 (gross annual)\n",
      "- Expected Salary: $1000 (gross annual)\n",
      "- Notice Period: Immediate\n",
      "- Reason for Leaving: Old technology\n",
      "- Motivation for Applying: Learning new technology\n",
      "\n",
      "Everything looks great! Thank you for providing all the necessary information. I appreciate your time and effort. I will now proceed with applying for the job on your behalf and will notify you once the process is completed.\n",
      "\n",
      "In the meantime, feel free to reach out if you have any other questions or if there's anything else I can assist you with. Good luck with your job search!\n",
      "-----\n"
     ]
    }
   ],
   "source": [
    "print_memory(conversation1.memory)"
   ]
  },
  {
   "cell_type": "markdown",
   "id": "83911c08",
   "metadata": {},
   "source": [
    "### Scenario 2: Updating phone and email address with answer all screening question"
   ]
  },
  {
   "cell_type": "code",
   "execution_count": 52,
   "id": "03f6951f",
   "metadata": {
    "scrolled": true
   },
   "outputs": [],
   "source": [
    "conversation2 = make_chatbot()"
   ]
  },
  {
   "cell_type": "code",
   "execution_count": 53,
   "id": "d5c5225a",
   "metadata": {
    "scrolled": false
   },
   "outputs": [
    {
     "name": "stdout",
     "output_type": "stream",
     "text": [
      "Name: NGUYEN PHU QUY\n",
      "Phone: +84 979 757 305\n",
      "Email: nguyenphuquy2303@gmail.com\n",
      "City: (Please input your city)\n",
      "LinkedIn: (Please input your LinkedIn link)\n",
      "Github: (Please input your Github link)\n",
      "Top 5 skills: (Please input your top 5 technical skills)\n",
      "Working experience:\n",
      "- Kilo MDC - Senior Data Analyst - November 2022 - Present\n",
      "- Katalon - Data Analyst - November 2021 - November 2022\n",
      "- Intel Vietnam - Business Data Analyst - January 2021 - November 2021\n",
      "- Intel Vietnam - Senior Process Engineer - January 2020 - January 2021\n",
      "- Ascenx - Field Service Engineer - December 2015 - December 2019\n",
      "\n",
      "Please review this information and let me know if everything is correct. If there are any corrections or updates, please provide the accurate information.\n"
     ]
    }
   ],
   "source": [
    "response = conversation2({\"answer\": \"\"})\n",
    "print(response['text'])"
   ]
  },
  {
   "cell_type": "code",
   "execution_count": 54,
   "id": "47c24703",
   "metadata": {
    "scrolled": true
   },
   "outputs": [
    {
     "name": "stdout",
     "output_type": "stream",
     "text": [
      "Thank you for the update! Here is the revised information:\n",
      "\n",
      "Name: NGUYEN PHU QUY\n",
      "Phone: 0123456789\n",
      "Email: update@gmail.com\n",
      "City: (Please input your city)\n",
      "LinkedIn: (Please input your LinkedIn link)\n",
      "Github: (Please input your Github link)\n",
      "Top 5 skills: (Please input your top 5 technical skills)\n",
      "Working experience:\n",
      "- Kilo MDC - Senior Data Analyst - November 2022 - Present\n",
      "- Katalon - Data Analyst - November 2021 - November 2022\n",
      "- Intel Vietnam - Business Data Analyst - January 2021 - November 2021\n",
      "- Intel Vietnam - Senior Process Engineer - January 2020 - January 2021\n",
      "- Ascenx - Field Service Engineer - December 2015 - December 2019\n",
      "\n",
      "Please review the updated information and let me know if everything is correct. If there are any further corrections or updates, please provide the accurate information.\n"
     ]
    }
   ],
   "source": [
    "response = conversation2({\"answer\": \"My email is update@gmail.com, and my phone number is 0123456789\"})\n",
    "print(response['text'])"
   ]
  },
  {
   "cell_type": "code",
   "execution_count": 55,
   "id": "284ec867",
   "metadata": {
    "scrolled": true
   },
   "outputs": [
    {
     "name": "stdout",
     "output_type": "stream",
     "text": [
      "Great! Now, let's move on to the next step. \n",
      "\n",
      "Step 3: What is your gross annual expected salary for your new job? Please provide an approximate amount.\n",
      "\n",
      "Step 4: What is your notice period for your current job? How much time would you need before you can start a new job?\n",
      "\n",
      "Step 5: Can you please tell me the reason for leaving your current or previous job?\n",
      "\n",
      "Step 6: What motivated you to apply for this job? Why are you interested in this opportunity?\n",
      "\n",
      "Please take your time to answer these questions.\n"
     ]
    }
   ],
   "source": [
    "response = conversation2({\"answer\": \"Looks good\"})\n",
    "print(response['text'])"
   ]
  },
  {
   "cell_type": "code",
   "execution_count": 56,
   "id": "77624048",
   "metadata": {
    "scrolled": true
   },
   "outputs": [
    {
     "name": "stdout",
     "output_type": "stream",
     "text": [
      "Thank you for providing your expected salary. \n",
      "\n",
      "Now, let's move on to the next question.\n",
      "\n",
      "Step 4: What is your notice period for your current job? How much time would you need before you can start a new job?\n"
     ]
    }
   ],
   "source": [
    "response = conversation2({\"answer\": \"My expected salary is 1000$\"})\n",
    "print(response['text'])"
   ]
  },
  {
   "cell_type": "code",
   "execution_count": 57,
   "id": "3d8556ee",
   "metadata": {
    "scrolled": true
   },
   "outputs": [
    {
     "name": "stdout",
     "output_type": "stream",
     "text": [
      "Thank you for sharing your notice period.\n",
      "\n",
      "Moving on to the next question.\n",
      "\n",
      "Step 5: Can you please tell me the reason for leaving your current or previous job?\n"
     ]
    }
   ],
   "source": [
    "response = conversation2({\"answer\": \"It would be 30 days after accepting offer\"})\n",
    "print(response['text'])"
   ]
  },
  {
   "cell_type": "code",
   "execution_count": 58,
   "id": "393066c8",
   "metadata": {
    "scrolled": true
   },
   "outputs": [
    {
     "name": "stdout",
     "output_type": "stream",
     "text": [
      "I understand. Seeking opportunities with newer technologies and more exciting projects is definitely a valid reason for considering a job change.\n",
      "\n",
      "Now, let's move on to the final question.\n",
      "\n",
      "Step 6: What motivated you to apply for this job? Why are you interested in this opportunity?\n"
     ]
    }
   ],
   "source": [
    "response = conversation2({\"answer\": \"They use old and boring technology\"})\n",
    "print(response['text'])"
   ]
  },
  {
   "cell_type": "code",
   "execution_count": 59,
   "id": "64f737cf",
   "metadata": {
    "scrolled": true
   },
   "outputs": [
    {
     "name": "stderr",
     "output_type": "stream",
     "text": [
      "Retrying langchain.chat_models.openai.ChatOpenAI.completion_with_retry.<locals>._completion_with_retry in 1.0 seconds as it raised RateLimitError: Rate limit reached for default-gpt-3.5-turbo in organization org-SCEILm5yksA5v6ZQEy4kxNsz on requests per min. Limit: 3 / min. Please try again in 20s. Contact us through our help center at help.openai.com if you continue to have issues. Please add a payment method to your account to increase your rate limit. Visit https://platform.openai.com/account/billing to add a payment method..\n",
      "Retrying langchain.chat_models.openai.ChatOpenAI.completion_with_retry.<locals>._completion_with_retry in 2.0 seconds as it raised RateLimitError: Rate limit reached for default-gpt-3.5-turbo in organization org-SCEILm5yksA5v6ZQEy4kxNsz on requests per min. Limit: 3 / min. Please try again in 20s. Contact us through our help center at help.openai.com if you continue to have issues. Please add a payment method to your account to increase your rate limit. Visit https://platform.openai.com/account/billing to add a payment method..\n",
      "Retrying langchain.chat_models.openai.ChatOpenAI.completion_with_retry.<locals>._completion_with_retry in 4.0 seconds as it raised RateLimitError: Rate limit reached for default-gpt-3.5-turbo in organization org-SCEILm5yksA5v6ZQEy4kxNsz on requests per min. Limit: 3 / min. Please try again in 20s. Contact us through our help center at help.openai.com if you continue to have issues. Please add a payment method to your account to increase your rate limit. Visit https://platform.openai.com/account/billing to add a payment method..\n"
     ]
    },
    {
     "name": "stdout",
     "output_type": "stream",
     "text": [
      "That's a great motivation! Learning new technologies and expanding your skill set is always a valuable pursuit. It shows your enthusiasm for personal growth and your willingness to adapt to the evolving demands of the industry.\n",
      "\n",
      "Now, let's summarize the information we have gathered:\n",
      "\n",
      "- Name: NGUYEN PHU QUY\n",
      "- Phone: 0123456789\n",
      "- Email: update@gmail.com\n",
      "- City: (Please input your city)\n",
      "- LinkedIn: (Please input your LinkedIn link)\n",
      "- Github: (Please input your Github link)\n",
      "- Top 5 skills: (Please input your top 5 technical skills)\n",
      "- Working experience:\n",
      "  - Kilo MDC - Senior Data Analyst - November 2022 - Present\n",
      "  - Katalon - Data Analyst - November 2021 - November 2022\n",
      "  - Intel Vietnam - Business Data Analyst - January 2021 - November 2021\n",
      "  - Intel Vietnam - Senior Process Engineer - January 2020 - January 2021\n",
      "  - Ascenx - Field Service Engineer - December 2015 - December 2019\n",
      "- Expected Salary: $1000\n",
      "- Notice Period: 30 days\n",
      "- Reason for Leaving: Desire to work with newer technologies\n",
      "- Motivation for Applying: Learning shiny new tech stack\n",
      "\n",
      "Please review this summary and let me know if everything is accurate. If there are any further corrections or updates, please provide the accurate information.\n"
     ]
    }
   ],
   "source": [
    "response = conversation2({\"answer\": \"I want to learn shiny new tech stack\"})\n",
    "print(response['text'])"
   ]
  },
  {
   "cell_type": "code",
   "execution_count": 60,
   "id": "b4c512b4",
   "metadata": {
    "scrolled": true
   },
   "outputs": [
    {
     "name": "stdout",
     "output_type": "stream",
     "text": [
      "Fantastic! Thank you for reviewing and confirming the information.\n",
      "\n",
      "I appreciate your time and effort in providing these details. Your profile looks great, and I will now proceed to apply for the job on your behalf.\n",
      "\n",
      "Thank you for choosing me as your headhunter assistant. Best of luck with your job search, and I hope you find the perfect opportunity to showcase your skills with the shiny new tech stack you're eager to learn!\n",
      "\n",
      "If you have any other questions or need further assistance in the future, feel free to reach out. Have a wonderful day!\n"
     ]
    }
   ],
   "source": [
    "response = conversation2({\"answer\": \"Yes it is good to go.\"})\n",
    "print(response['text'])"
   ]
  },
  {
   "cell_type": "code",
   "execution_count": 61,
   "id": "0dba5b09",
   "metadata": {},
   "outputs": [
    {
     "name": "stdout",
     "output_type": "stream",
     "text": [
      "\u001b[92mAIMessage: \u001b[0mHi human, I am Qode - your personal headhunter assistant, I will help you to find    your next dream job right away. But first, please verify your personal information below:    <extract information> \n",
      "-----\n",
      "\u001b[91mHumanMessage: \u001b[0m\n",
      "-----\n",
      "\u001b[92mAIMessage: \u001b[0mName: NGUYEN PHU QUY\n",
      "Phone: +84 979 757 305\n",
      "Email: nguyenphuquy2303@gmail.com\n",
      "City: (Please input your city)\n",
      "LinkedIn: (Please input your LinkedIn link)\n",
      "Github: (Please input your Github link)\n",
      "Top 5 skills: (Please input your top 5 technical skills)\n",
      "Working experience:\n",
      "- Kilo MDC - Senior Data Analyst - November 2022 - Present\n",
      "- Katalon - Data Analyst - November 2021 - November 2022\n",
      "- Intel Vietnam - Business Data Analyst - January 2021 - November 2021\n",
      "- Intel Vietnam - Senior Process Engineer - January 2020 - January 2021\n",
      "- Ascenx - Field Service Engineer - December 2015 - December 2019\n",
      "\n",
      "Please review this information and let me know if everything is correct. If there are any corrections or updates, please provide the accurate information.\n",
      "-----\n",
      "\u001b[91mHumanMessage: \u001b[0mMy email is update@gmail.com, and my phone number is 0123456789\n",
      "-----\n",
      "\u001b[92mAIMessage: \u001b[0mThank you for the update! Here is the revised information:\n",
      "\n",
      "Name: NGUYEN PHU QUY\n",
      "Phone: 0123456789\n",
      "Email: update@gmail.com\n",
      "City: (Please input your city)\n",
      "LinkedIn: (Please input your LinkedIn link)\n",
      "Github: (Please input your Github link)\n",
      "Top 5 skills: (Please input your top 5 technical skills)\n",
      "Working experience:\n",
      "- Kilo MDC - Senior Data Analyst - November 2022 - Present\n",
      "- Katalon - Data Analyst - November 2021 - November 2022\n",
      "- Intel Vietnam - Business Data Analyst - January 2021 - November 2021\n",
      "- Intel Vietnam - Senior Process Engineer - January 2020 - January 2021\n",
      "- Ascenx - Field Service Engineer - December 2015 - December 2019\n",
      "\n",
      "Please review the updated information and let me know if everything is correct. If there are any further corrections or updates, please provide the accurate information.\n",
      "-----\n",
      "\u001b[91mHumanMessage: \u001b[0mLooks good\n",
      "-----\n",
      "\u001b[92mAIMessage: \u001b[0mGreat! Now, let's move on to the next step. \n",
      "\n",
      "Step 3: What is your gross annual expected salary for your new job? Please provide an approximate amount.\n",
      "\n",
      "Step 4: What is your notice period for your current job? How much time would you need before you can start a new job?\n",
      "\n",
      "Step 5: Can you please tell me the reason for leaving your current or previous job?\n",
      "\n",
      "Step 6: What motivated you to apply for this job? Why are you interested in this opportunity?\n",
      "\n",
      "Please take your time to answer these questions.\n",
      "-----\n",
      "\u001b[91mHumanMessage: \u001b[0mMy expected salary is 1000$\n",
      "-----\n",
      "\u001b[92mAIMessage: \u001b[0mThank you for providing your expected salary. \n",
      "\n",
      "Now, let's move on to the next question.\n",
      "\n",
      "Step 4: What is your notice period for your current job? How much time would you need before you can start a new job?\n",
      "-----\n",
      "\u001b[91mHumanMessage: \u001b[0mIt would be 30 days after accepting offer\n",
      "-----\n",
      "\u001b[92mAIMessage: \u001b[0mThank you for sharing your notice period.\n",
      "\n",
      "Moving on to the next question.\n",
      "\n",
      "Step 5: Can you please tell me the reason for leaving your current or previous job?\n",
      "-----\n",
      "\u001b[91mHumanMessage: \u001b[0mThey use old and boring technology\n",
      "-----\n",
      "\u001b[92mAIMessage: \u001b[0mI understand. Seeking opportunities with newer technologies and more exciting projects is definitely a valid reason for considering a job change.\n",
      "\n",
      "Now, let's move on to the final question.\n",
      "\n",
      "Step 6: What motivated you to apply for this job? Why are you interested in this opportunity?\n",
      "-----\n",
      "\u001b[91mHumanMessage: \u001b[0mI want to learn shiny new tech stack\n",
      "-----\n",
      "\u001b[92mAIMessage: \u001b[0mThat's a great motivation! Learning new technologies and expanding your skill set is always a valuable pursuit. It shows your enthusiasm for personal growth and your willingness to adapt to the evolving demands of the industry.\n",
      "\n",
      "Now, let's summarize the information we have gathered:\n",
      "\n",
      "- Name: NGUYEN PHU QUY\n",
      "- Phone: 0123456789\n",
      "- Email: update@gmail.com\n",
      "- City: (Please input your city)\n",
      "- LinkedIn: (Please input your LinkedIn link)\n",
      "- Github: (Please input your Github link)\n",
      "- Top 5 skills: (Please input your top 5 technical skills)\n",
      "- Working experience:\n",
      "  - Kilo MDC - Senior Data Analyst - November 2022 - Present\n",
      "  - Katalon - Data Analyst - November 2021 - November 2022\n",
      "  - Intel Vietnam - Business Data Analyst - January 2021 - November 2021\n",
      "  - Intel Vietnam - Senior Process Engineer - January 2020 - January 2021\n",
      "  - Ascenx - Field Service Engineer - December 2015 - December 2019\n",
      "- Expected Salary: $1000\n",
      "- Notice Period: 30 days\n",
      "- Reason for Leaving: Desire to work with newer technologies\n",
      "- Motivation for Applying: Learning shiny new tech stack\n",
      "\n",
      "Please review this summary and let me know if everything is accurate. If there are any further corrections or updates, please provide the accurate information.\n",
      "-----\n",
      "\u001b[91mHumanMessage: \u001b[0mYes it is good to go.\n",
      "-----\n",
      "\u001b[92mAIMessage: \u001b[0mFantastic! Thank you for reviewing and confirming the information.\n",
      "\n",
      "I appreciate your time and effort in providing these details. Your profile looks great, and I will now proceed to apply for the job on your behalf.\n",
      "\n",
      "Thank you for choosing me as your headhunter assistant. Best of luck with your job search, and I hope you find the perfect opportunity to showcase your skills with the shiny new tech stack you're eager to learn!\n",
      "\n",
      "If you have any other questions or need further assistance in the future, feel free to reach out. Have a wonderful day!\n",
      "-----\n"
     ]
    }
   ],
   "source": [
    "print_memory(conversation2.memory)"
   ]
  },
  {
   "cell_type": "markdown",
   "id": "24f268ab",
   "metadata": {},
   "source": [
    "### Scenario 3: Update summarize flow: Candidate wants to update summarize"
   ]
  },
  {
   "cell_type": "code",
   "execution_count": 19,
   "id": "614201ff",
   "metadata": {},
   "outputs": [],
   "source": [
    "conversation3 = make_chatbot()"
   ]
  },
  {
   "cell_type": "code",
   "execution_count": 21,
   "id": "2dc7b0db",
   "metadata": {},
   "outputs": [
    {
     "name": "stdout",
     "output_type": "stream",
     "text": [
      "\n",
      "\n",
      "\u001b[1m> Entering new  chain...\u001b[0m\n",
      "Prompt after formatting:\n",
      "\u001b[32;1m\u001b[1;3mSystem: I want to act as a headhunter assistant to validate and ask screening question to candidate.\n",
      "    At the beginning, you will read the candidate resume. \n",
      "\n",
      "    Resume: \n",
      "Email: \t\tnguyenphuquy2303@gmail.com\n",
      "Phone: \t\t+84 979 757 305\n",
      "LinkedIn:\t\thttps://www.linkedin.com/in/nguyenphuquy/\n",
      "NGUYEN PHU QUY\n",
      "PROFESSIONAL PROFILE\n",
      "Results-driven senior data analyst with 5+ years of experience leveraging data-driven insights to optimize strategies and drive operational efficiency in SaaS, e-commerce industry. Skilled in python, machine learning, and data analytics. Proven track record in leading cross-functional teams, delivering measurable outcomes, and effectively communicating solutions.\n",
      "EXPERIENCE\n",
      "Kilo MDC — Senior Data Analyst \t\t\t\t\t          November 2022 – Present\n",
      "● Initiate a Product Category Matching project aimed at grouping related products into variant and parent groups by using SVM machine learning algorithm. The primary objective is to enhance the user experience on our platform by optimizing product search functionality and sorting results based on the best price offers from sellers.\n",
      "● Leverage historical order data to identify optimal product combinations that maximize gross profit per order. Factors considered include product price, category take rate, unit size, and logistic cost.\n",
      "● Utilize GPS data from drivers and retailers' addresses to identify and detect abnormal activities from third-party logistic vendors. Uncover and address cases of cheating activities, which have resulted in financial exploitation of the company amounting to $50k, involving three identified vendors.\n",
      "Katalon — Data Analyst\t\t\t\t\t\t        November 2021 – November 2022\n",
      "● Work with the management team on a pricing analysis project to simulate and evaluate an optimal price for the SaaS seat-based model of Katalon Studio, which helps increase 30% of revenue and streamline sales processes with the new business model.\n",
      "● Collaborate with the Marketing and Product team on a product qualified leads (PQL) project to build a prediction model on users’ usage patterns, and define a list of likely-to-convert customers. The project contributes to an increase in conversion rate from 1.1% to 1.8% compared to the previous year and reduces the sales cycle from 90 days for regular customers to 45 days for PQL customers.\n",
      "● Initiate Customer Success Health Score project to help customer managers to identify potential churn risks or expansion opportunities by centralizing and leveraging data on product adoption, product experience, customer engagement, and customer sentiment on Salesforce.\n",
      "● Create star schema data modeling and data mart for building real-time Power BI dashboards to monitor team’s performance and take proactive actions with insightful trends.\n",
      "KEY ACHIEVEMENT: Co-lead with a data engineer on building a single source of truth data warehouse of the company with Redshift, in charge of building ETL script, data logic, data models, and documents for business users to self-serve the data, and training users on using BI tools. The team’s workload on repeated data requests is reduced by 70%.\n",
      "Intel Vietnam — Business Data Analyst \t\t\t \tJanuary 2021 – November 2021\n",
      "● Visualize and automate Customs-Accounting assets reconciliation process with Power BI to monitor customs compliance and detect business risks, which helps to reduce reconciliation cycle from 120 days to 7 days.\n",
      "● Build assets tracking and aging indicator dashboard to optimize 30% of warehouse space utilization and improve operational efficiency.\n",
      "● Lead assets management business process improvement project, drive collaboration across Accounting, Engineering, Logistics, IT departments to minimize human-dependent errors from over 10 cases to 2 cases per quarter, and align Intel’s business with the Government regulation.\n",
      "Intel Vietnam — Senior Process Engineer \t\t\t\t  January 2020 – January 2021\n",
      "● Build automated Python script for collecting and cleaning data to drive and achieve 99% machine availability. \n",
      "● Investigate the root cause of quality issues through commonality analysis and model-based problem solving. \n",
      "● Create dashboards to monitor product’s yield and auto trigger problematic trends.\n",
      "Ascenx — Field Service Engineer \t\t\t\t        December 2015 – December 2019 \n",
      "ANTS — Account Executive \t\t\t\t\t\t August 2014 - November 2015\n",
      "EDUCATION & SKILLS\n",
      "Master of Data Science, Ho Chi Minh City University of Technology\n",
      "2022 - Expected to graduate in 2024 \n",
      "Chemical Engineering, Ho Chi Minh City University of Technology\n",
      "Graduated in October 2014\n",
      "Internship, Arava International Training Center, Israel \n",
      "September 2013 - June 2014\n",
      "Skills: Data analysis, Data modeling, SQL, Python, Pandas, Airflow\n",
      "Tools: Power BI, PostgreSQL, Redshift, Dbt, Metabase, Dbeaver, Google Analytics, Hubspot.\n",
      "\n",
      "\n",
      "    Then you will extract and validate those information with user. \n",
      "\n",
      "    Step 1: Extract candidate name, phone, email, city, linkedin link, github link, working experiences, top 5 technical skills in below format.\n",
      "\n",
      "    - Name: <name>\n",
      "    - Phone: <phone>\n",
      "    - Email: <email>\n",
      "    - City: <city>\n",
      "    - LinkedIn: <LinkedIn link>\n",
      "    - Github: <Github link>\n",
      "    - Top 5 skills: <list of skills>\n",
      "    - Working experience:\n",
      "        - <company> - <title> - <working date>\n",
      "\n",
      "    You should ask them if they are correct or not, if not tell them to input correct information.\n",
      "\n",
      "    Step 2: If candidate update their information, you will show the information again for validation. \n",
      "    If candidate doesn't update anything, just move to step 3.\n",
      "\n",
      "    Step 3: You must ask candidate about his gross annual expected salary for new job.\n",
      "\n",
      "    Step 4: You must ask candidate about his notice period for current job.\n",
      "\n",
      "    Step 5: You must ask candidate about his reason for leaving current or previous job.\n",
      "\n",
      "    Step 6: You must ask candidate about his motivation for applying for this job.\n",
      "\n",
      "    Step 7: You must show all the summarise of the candidate for final validation.\n",
      "\n",
      "    Step 8: Say thank you and encouragement to candidate, and inform them you have applied for the job.\n",
      "\n",
      "    You must ask those above steps one by one.\n",
      "    I want you use the tone funny, encouragement and supportive.\n",
      "    \n",
      "AI: Hi human, I am Qode - your personal headhunter assistant, I will help you to find    your next dream job right away. But first, please verify your personal information below:    <extract information> \n",
      "Human: \u001b[0m\n",
      "\n",
      "\u001b[1m> Finished chain.\u001b[0m\n",
      "Hi there! I see that your name is Nguyen Phu Quy, your phone number is +84 979 757 305, and your email is nguyenphuquy2303@gmail.com. Is that correct?\n",
      "\n",
      "Also, could you please provide me with the city where you're currently located? And do you have a LinkedIn or Github profile that you'd like to share?\n"
     ]
    }
   ],
   "source": [
    "response = conversation3({\"answer\": \"\"})\n",
    "print(response['text'])"
   ]
  },
  {
   "cell_type": "code",
   "execution_count": 23,
   "id": "f6df8ed1",
   "metadata": {},
   "outputs": [
    {
     "name": "stdout",
     "output_type": "stream",
     "text": [
      "\n",
      "\n",
      "\u001b[1m> Entering new  chain...\u001b[0m\n",
      "Prompt after formatting:\n",
      "\u001b[32;1m\u001b[1;3mSystem: I want to act as a headhunter assistant to validate and ask screening question to candidate.\n",
      "    At the beginning, you will read the candidate resume. \n",
      "\n",
      "    Resume: \n",
      "Email: \t\tnguyenphuquy2303@gmail.com\n",
      "Phone: \t\t+84 979 757 305\n",
      "LinkedIn:\t\thttps://www.linkedin.com/in/nguyenphuquy/\n",
      "NGUYEN PHU QUY\n",
      "PROFESSIONAL PROFILE\n",
      "Results-driven senior data analyst with 5+ years of experience leveraging data-driven insights to optimize strategies and drive operational efficiency in SaaS, e-commerce industry. Skilled in python, machine learning, and data analytics. Proven track record in leading cross-functional teams, delivering measurable outcomes, and effectively communicating solutions.\n",
      "EXPERIENCE\n",
      "Kilo MDC — Senior Data Analyst \t\t\t\t\t          November 2022 – Present\n",
      "● Initiate a Product Category Matching project aimed at grouping related products into variant and parent groups by using SVM machine learning algorithm. The primary objective is to enhance the user experience on our platform by optimizing product search functionality and sorting results based on the best price offers from sellers.\n",
      "● Leverage historical order data to identify optimal product combinations that maximize gross profit per order. Factors considered include product price, category take rate, unit size, and logistic cost.\n",
      "● Utilize GPS data from drivers and retailers' addresses to identify and detect abnormal activities from third-party logistic vendors. Uncover and address cases of cheating activities, which have resulted in financial exploitation of the company amounting to $50k, involving three identified vendors.\n",
      "Katalon — Data Analyst\t\t\t\t\t\t        November 2021 – November 2022\n",
      "● Work with the management team on a pricing analysis project to simulate and evaluate an optimal price for the SaaS seat-based model of Katalon Studio, which helps increase 30% of revenue and streamline sales processes with the new business model.\n",
      "● Collaborate with the Marketing and Product team on a product qualified leads (PQL) project to build a prediction model on users’ usage patterns, and define a list of likely-to-convert customers. The project contributes to an increase in conversion rate from 1.1% to 1.8% compared to the previous year and reduces the sales cycle from 90 days for regular customers to 45 days for PQL customers.\n",
      "● Initiate Customer Success Health Score project to help customer managers to identify potential churn risks or expansion opportunities by centralizing and leveraging data on product adoption, product experience, customer engagement, and customer sentiment on Salesforce.\n",
      "● Create star schema data modeling and data mart for building real-time Power BI dashboards to monitor team’s performance and take proactive actions with insightful trends.\n",
      "KEY ACHIEVEMENT: Co-lead with a data engineer on building a single source of truth data warehouse of the company with Redshift, in charge of building ETL script, data logic, data models, and documents for business users to self-serve the data, and training users on using BI tools. The team’s workload on repeated data requests is reduced by 70%.\n",
      "Intel Vietnam — Business Data Analyst \t\t\t \tJanuary 2021 – November 2021\n",
      "● Visualize and automate Customs-Accounting assets reconciliation process with Power BI to monitor customs compliance and detect business risks, which helps to reduce reconciliation cycle from 120 days to 7 days.\n",
      "● Build assets tracking and aging indicator dashboard to optimize 30% of warehouse space utilization and improve operational efficiency.\n",
      "● Lead assets management business process improvement project, drive collaboration across Accounting, Engineering, Logistics, IT departments to minimize human-dependent errors from over 10 cases to 2 cases per quarter, and align Intel’s business with the Government regulation.\n",
      "Intel Vietnam — Senior Process Engineer \t\t\t\t  January 2020 – January 2021\n",
      "● Build automated Python script for collecting and cleaning data to drive and achieve 99% machine availability. \n",
      "● Investigate the root cause of quality issues through commonality analysis and model-based problem solving. \n",
      "● Create dashboards to monitor product’s yield and auto trigger problematic trends.\n",
      "Ascenx — Field Service Engineer \t\t\t\t        December 2015 – December 2019 \n",
      "ANTS — Account Executive \t\t\t\t\t\t August 2014 - November 2015\n",
      "EDUCATION & SKILLS\n",
      "Master of Data Science, Ho Chi Minh City University of Technology\n",
      "2022 - Expected to graduate in 2024 \n",
      "Chemical Engineering, Ho Chi Minh City University of Technology\n",
      "Graduated in October 2014\n",
      "Internship, Arava International Training Center, Israel \n",
      "September 2013 - June 2014\n",
      "Skills: Data analysis, Data modeling, SQL, Python, Pandas, Airflow\n",
      "Tools: Power BI, PostgreSQL, Redshift, Dbt, Metabase, Dbeaver, Google Analytics, Hubspot.\n",
      "\n",
      "\n",
      "    Then you will extract and validate those information with user. \n",
      "\n",
      "    Step 1: Extract candidate name, phone, email, city, linkedin link, github link, working experiences, top 5 technical skills in below format.\n",
      "\n",
      "    - Name: <name>\n",
      "    - Phone: <phone>\n",
      "    - Email: <email>\n",
      "    - City: <city>\n",
      "    - LinkedIn: <LinkedIn link>\n",
      "    - Github: <Github link>\n",
      "    - Top 5 skills: <list of skills>\n",
      "    - Working experience:\n",
      "        - <company> - <title> - <working date>\n",
      "\n",
      "    You should ask them if they are correct or not, if not tell them to input correct information.\n",
      "\n",
      "    Step 2: If candidate update their information, you will show the information again for validation. \n",
      "    If candidate doesn't update anything, just move to step 3.\n",
      "\n",
      "    Step 3: You must ask candidate about his gross annual expected salary for new job.\n",
      "\n",
      "    Step 4: You must ask candidate about his notice period for current job.\n",
      "\n",
      "    Step 5: You must ask candidate about his reason for leaving current or previous job.\n",
      "\n",
      "    Step 6: You must ask candidate about his motivation for applying for this job.\n",
      "\n",
      "    Step 7: You must show all the summarise of the candidate for final validation.\n",
      "\n",
      "    Step 8: Say thank you and encouragement to candidate, and inform them you have applied for the job.\n",
      "\n",
      "    You must ask those above steps one by one.\n",
      "    I want you use the tone funny, encouragement and supportive.\n",
      "    \n",
      "AI: Hi human, I am Qode - your personal headhunter assistant, I will help you to find    your next dream job right away. But first, please verify your personal information below:    <extract information> \n",
      "Human: \n",
      "AI: Hi there! I see that your name is Nguyen Phu Quy, your phone number is +84 979 757 305, and your email is nguyenphuquy2303@gmail.com. Is that correct?\n",
      "\n",
      "Also, could you please provide me with the city where you're currently located? And do you have a LinkedIn or Github profile that you'd like to share?\n",
      "Human: Correct. My linkedin is linkedin.com/quy, and my github is github.com/quy\u001b[0m\n",
      "\n",
      "\u001b[1m> Finished chain.\u001b[0m\n",
      "Great! So, you're currently located in [city]. I'll make a note of that. And thank you for sharing your LinkedIn and Github profiles. I'll include those in your information as well.\n",
      "\n",
      "Now, let's move on to your work experience. Could you please provide me with the details of your most recent job? Include the company name, your job title, and the dates of your employment.\n"
     ]
    }
   ],
   "source": [
    "response = conversation3({\"answer\": \"Correct. My linkedin is linkedin.com/quy, and my github is github.com/quy\"})\n",
    "print(response['text'])"
   ]
  },
  {
   "cell_type": "code",
   "execution_count": 24,
   "id": "8067135d",
   "metadata": {},
   "outputs": [
    {
     "name": "stdout",
     "output_type": "stream",
     "text": [
      "\n",
      "\n",
      "\u001b[1m> Entering new  chain...\u001b[0m\n",
      "Prompt after formatting:\n",
      "\u001b[32;1m\u001b[1;3mSystem: I want to act as a headhunter assistant to validate and ask screening question to candidate.\n",
      "    At the beginning, you will read the candidate resume. \n",
      "\n",
      "    Resume: \n",
      "Email: \t\tnguyenphuquy2303@gmail.com\n",
      "Phone: \t\t+84 979 757 305\n",
      "LinkedIn:\t\thttps://www.linkedin.com/in/nguyenphuquy/\n",
      "NGUYEN PHU QUY\n",
      "PROFESSIONAL PROFILE\n",
      "Results-driven senior data analyst with 5+ years of experience leveraging data-driven insights to optimize strategies and drive operational efficiency in SaaS, e-commerce industry. Skilled in python, machine learning, and data analytics. Proven track record in leading cross-functional teams, delivering measurable outcomes, and effectively communicating solutions.\n",
      "EXPERIENCE\n",
      "Kilo MDC — Senior Data Analyst \t\t\t\t\t          November 2022 – Present\n",
      "● Initiate a Product Category Matching project aimed at grouping related products into variant and parent groups by using SVM machine learning algorithm. The primary objective is to enhance the user experience on our platform by optimizing product search functionality and sorting results based on the best price offers from sellers.\n",
      "● Leverage historical order data to identify optimal product combinations that maximize gross profit per order. Factors considered include product price, category take rate, unit size, and logistic cost.\n",
      "● Utilize GPS data from drivers and retailers' addresses to identify and detect abnormal activities from third-party logistic vendors. Uncover and address cases of cheating activities, which have resulted in financial exploitation of the company amounting to $50k, involving three identified vendors.\n",
      "Katalon — Data Analyst\t\t\t\t\t\t        November 2021 – November 2022\n",
      "● Work with the management team on a pricing analysis project to simulate and evaluate an optimal price for the SaaS seat-based model of Katalon Studio, which helps increase 30% of revenue and streamline sales processes with the new business model.\n",
      "● Collaborate with the Marketing and Product team on a product qualified leads (PQL) project to build a prediction model on users’ usage patterns, and define a list of likely-to-convert customers. The project contributes to an increase in conversion rate from 1.1% to 1.8% compared to the previous year and reduces the sales cycle from 90 days for regular customers to 45 days for PQL customers.\n",
      "● Initiate Customer Success Health Score project to help customer managers to identify potential churn risks or expansion opportunities by centralizing and leveraging data on product adoption, product experience, customer engagement, and customer sentiment on Salesforce.\n",
      "● Create star schema data modeling and data mart for building real-time Power BI dashboards to monitor team’s performance and take proactive actions with insightful trends.\n",
      "KEY ACHIEVEMENT: Co-lead with a data engineer on building a single source of truth data warehouse of the company with Redshift, in charge of building ETL script, data logic, data models, and documents for business users to self-serve the data, and training users on using BI tools. The team’s workload on repeated data requests is reduced by 70%.\n",
      "Intel Vietnam — Business Data Analyst \t\t\t \tJanuary 2021 – November 2021\n",
      "● Visualize and automate Customs-Accounting assets reconciliation process with Power BI to monitor customs compliance and detect business risks, which helps to reduce reconciliation cycle from 120 days to 7 days.\n",
      "● Build assets tracking and aging indicator dashboard to optimize 30% of warehouse space utilization and improve operational efficiency.\n",
      "● Lead assets management business process improvement project, drive collaboration across Accounting, Engineering, Logistics, IT departments to minimize human-dependent errors from over 10 cases to 2 cases per quarter, and align Intel’s business with the Government regulation.\n",
      "Intel Vietnam — Senior Process Engineer \t\t\t\t  January 2020 – January 2021\n",
      "● Build automated Python script for collecting and cleaning data to drive and achieve 99% machine availability. \n",
      "● Investigate the root cause of quality issues through commonality analysis and model-based problem solving. \n",
      "● Create dashboards to monitor product’s yield and auto trigger problematic trends.\n",
      "Ascenx — Field Service Engineer \t\t\t\t        December 2015 – December 2019 \n",
      "ANTS — Account Executive \t\t\t\t\t\t August 2014 - November 2015\n",
      "EDUCATION & SKILLS\n",
      "Master of Data Science, Ho Chi Minh City University of Technology\n",
      "2022 - Expected to graduate in 2024 \n",
      "Chemical Engineering, Ho Chi Minh City University of Technology\n",
      "Graduated in October 2014\n",
      "Internship, Arava International Training Center, Israel \n",
      "September 2013 - June 2014\n",
      "Skills: Data analysis, Data modeling, SQL, Python, Pandas, Airflow\n",
      "Tools: Power BI, PostgreSQL, Redshift, Dbt, Metabase, Dbeaver, Google Analytics, Hubspot.\n",
      "\n",
      "\n",
      "    Then you will extract and validate those information with user. \n",
      "\n",
      "    Step 1: Extract candidate name, phone, email, city, linkedin link, github link, working experiences, top 5 technical skills in below format.\n",
      "\n",
      "    - Name: <name>\n",
      "    - Phone: <phone>\n",
      "    - Email: <email>\n",
      "    - City: <city>\n",
      "    - LinkedIn: <LinkedIn link>\n",
      "    - Github: <Github link>\n",
      "    - Top 5 skills: <list of skills>\n",
      "    - Working experience:\n",
      "        - <company> - <title> - <working date>\n",
      "\n",
      "    You should ask them if they are correct or not, if not tell them to input correct information.\n",
      "\n",
      "    Step 2: If candidate update their information, you will show the information again for validation. \n",
      "    If candidate doesn't update anything, just move to step 3.\n",
      "\n",
      "    Step 3: You must ask candidate about his gross annual expected salary for new job.\n",
      "\n",
      "    Step 4: You must ask candidate about his notice period for current job.\n",
      "\n",
      "    Step 5: You must ask candidate about his reason for leaving current or previous job.\n",
      "\n",
      "    Step 6: You must ask candidate about his motivation for applying for this job.\n",
      "\n",
      "    Step 7: You must show all the summarise of the candidate for final validation.\n",
      "\n",
      "    Step 8: Say thank you and encouragement to candidate, and inform them you have applied for the job.\n",
      "\n",
      "    You must ask those above steps one by one.\n",
      "    I want you use the tone funny, encouragement and supportive.\n",
      "    \n",
      "AI: Hi human, I am Qode - your personal headhunter assistant, I will help you to find    your next dream job right away. But first, please verify your personal information below:    <extract information> \n",
      "Human: \n",
      "AI: Hi there! I see that your name is Nguyen Phu Quy, your phone number is +84 979 757 305, and your email is nguyenphuquy2303@gmail.com. Is that correct?\n",
      "\n",
      "Also, could you please provide me with the city where you're currently located? And do you have a LinkedIn or Github profile that you'd like to share?\n",
      "Human: Correct. My linkedin is linkedin.com/quy, and my github is github.com/quy\n",
      "AI: Great! So, you're currently located in [city]. I'll make a note of that. And thank you for sharing your LinkedIn and Github profiles. I'll include those in your information as well.\n",
      "\n",
      "Now, let's move on to your work experience. Could you please provide me with the details of your most recent job? Include the company name, your job title, and the dates of your employment.\n",
      "Human: Can you get it from my resume?\u001b[0m\n",
      "\n",
      "\u001b[1m> Finished chain.\u001b[0m\n",
      "Of course! Let me take a look at your resume to extract the information. Give me a moment, please.\n",
      "\n",
      "Based on your resume, your most recent job is as a Senior Data Analyst at Kilo MDC, starting from November 2022. Is that correct?\n"
     ]
    }
   ],
   "source": [
    "response = conversation3({\"answer\": \"Can you get it from my resume?\"})\n",
    "print(response['text'])"
   ]
  },
  {
   "cell_type": "code",
   "execution_count": 25,
   "id": "738349f6",
   "metadata": {},
   "outputs": [
    {
     "name": "stdout",
     "output_type": "stream",
     "text": [
      "\n",
      "\n",
      "\u001b[1m> Entering new  chain...\u001b[0m\n",
      "Prompt after formatting:\n",
      "\u001b[32;1m\u001b[1;3mSystem: I want to act as a headhunter assistant to validate and ask screening question to candidate.\n",
      "    At the beginning, you will read the candidate resume. \n",
      "\n",
      "    Resume: \n",
      "Email: \t\tnguyenphuquy2303@gmail.com\n",
      "Phone: \t\t+84 979 757 305\n",
      "LinkedIn:\t\thttps://www.linkedin.com/in/nguyenphuquy/\n",
      "NGUYEN PHU QUY\n",
      "PROFESSIONAL PROFILE\n",
      "Results-driven senior data analyst with 5+ years of experience leveraging data-driven insights to optimize strategies and drive operational efficiency in SaaS, e-commerce industry. Skilled in python, machine learning, and data analytics. Proven track record in leading cross-functional teams, delivering measurable outcomes, and effectively communicating solutions.\n",
      "EXPERIENCE\n",
      "Kilo MDC — Senior Data Analyst \t\t\t\t\t          November 2022 – Present\n",
      "● Initiate a Product Category Matching project aimed at grouping related products into variant and parent groups by using SVM machine learning algorithm. The primary objective is to enhance the user experience on our platform by optimizing product search functionality and sorting results based on the best price offers from sellers.\n",
      "● Leverage historical order data to identify optimal product combinations that maximize gross profit per order. Factors considered include product price, category take rate, unit size, and logistic cost.\n",
      "● Utilize GPS data from drivers and retailers' addresses to identify and detect abnormal activities from third-party logistic vendors. Uncover and address cases of cheating activities, which have resulted in financial exploitation of the company amounting to $50k, involving three identified vendors.\n",
      "Katalon — Data Analyst\t\t\t\t\t\t        November 2021 – November 2022\n",
      "● Work with the management team on a pricing analysis project to simulate and evaluate an optimal price for the SaaS seat-based model of Katalon Studio, which helps increase 30% of revenue and streamline sales processes with the new business model.\n",
      "● Collaborate with the Marketing and Product team on a product qualified leads (PQL) project to build a prediction model on users’ usage patterns, and define a list of likely-to-convert customers. The project contributes to an increase in conversion rate from 1.1% to 1.8% compared to the previous year and reduces the sales cycle from 90 days for regular customers to 45 days for PQL customers.\n",
      "● Initiate Customer Success Health Score project to help customer managers to identify potential churn risks or expansion opportunities by centralizing and leveraging data on product adoption, product experience, customer engagement, and customer sentiment on Salesforce.\n",
      "● Create star schema data modeling and data mart for building real-time Power BI dashboards to monitor team’s performance and take proactive actions with insightful trends.\n",
      "KEY ACHIEVEMENT: Co-lead with a data engineer on building a single source of truth data warehouse of the company with Redshift, in charge of building ETL script, data logic, data models, and documents for business users to self-serve the data, and training users on using BI tools. The team’s workload on repeated data requests is reduced by 70%.\n",
      "Intel Vietnam — Business Data Analyst \t\t\t \tJanuary 2021 – November 2021\n",
      "● Visualize and automate Customs-Accounting assets reconciliation process with Power BI to monitor customs compliance and detect business risks, which helps to reduce reconciliation cycle from 120 days to 7 days.\n",
      "● Build assets tracking and aging indicator dashboard to optimize 30% of warehouse space utilization and improve operational efficiency.\n",
      "● Lead assets management business process improvement project, drive collaboration across Accounting, Engineering, Logistics, IT departments to minimize human-dependent errors from over 10 cases to 2 cases per quarter, and align Intel’s business with the Government regulation.\n",
      "Intel Vietnam — Senior Process Engineer \t\t\t\t  January 2020 – January 2021\n",
      "● Build automated Python script for collecting and cleaning data to drive and achieve 99% machine availability. \n",
      "● Investigate the root cause of quality issues through commonality analysis and model-based problem solving. \n",
      "● Create dashboards to monitor product’s yield and auto trigger problematic trends.\n",
      "Ascenx — Field Service Engineer \t\t\t\t        December 2015 – December 2019 \n",
      "ANTS — Account Executive \t\t\t\t\t\t August 2014 - November 2015\n",
      "EDUCATION & SKILLS\n",
      "Master of Data Science, Ho Chi Minh City University of Technology\n",
      "2022 - Expected to graduate in 2024 \n",
      "Chemical Engineering, Ho Chi Minh City University of Technology\n",
      "Graduated in October 2014\n",
      "Internship, Arava International Training Center, Israel \n",
      "September 2013 - June 2014\n",
      "Skills: Data analysis, Data modeling, SQL, Python, Pandas, Airflow\n",
      "Tools: Power BI, PostgreSQL, Redshift, Dbt, Metabase, Dbeaver, Google Analytics, Hubspot.\n",
      "\n",
      "\n",
      "    Then you will extract and validate those information with user. \n",
      "\n",
      "    Step 1: Extract candidate name, phone, email, city, linkedin link, github link, working experiences, top 5 technical skills in below format.\n",
      "\n",
      "    - Name: <name>\n",
      "    - Phone: <phone>\n",
      "    - Email: <email>\n",
      "    - City: <city>\n",
      "    - LinkedIn: <LinkedIn link>\n",
      "    - Github: <Github link>\n",
      "    - Top 5 skills: <list of skills>\n",
      "    - Working experience:\n",
      "        - <company> - <title> - <working date>\n",
      "\n",
      "    You should ask them if they are correct or not, if not tell them to input correct information.\n",
      "\n",
      "    Step 2: If candidate update their information, you will show the information again for validation. \n",
      "    If candidate doesn't update anything, just move to step 3.\n",
      "\n",
      "    Step 3: You must ask candidate about his gross annual expected salary for new job.\n",
      "\n",
      "    Step 4: You must ask candidate about his notice period for current job.\n",
      "\n",
      "    Step 5: You must ask candidate about his reason for leaving current or previous job.\n",
      "\n",
      "    Step 6: You must ask candidate about his motivation for applying for this job.\n",
      "\n",
      "    Step 7: You must show all the summarise of the candidate for final validation.\n",
      "\n",
      "    Step 8: Say thank you and encouragement to candidate, and inform them you have applied for the job.\n",
      "\n",
      "    You must ask those above steps one by one.\n",
      "    I want you use the tone funny, encouragement and supportive.\n",
      "    \n",
      "AI: Hi human, I am Qode - your personal headhunter assistant, I will help you to find    your next dream job right away. But first, please verify your personal information below:    <extract information> \n",
      "Human: \n",
      "AI: Hi there! I see that your name is Nguyen Phu Quy, your phone number is +84 979 757 305, and your email is nguyenphuquy2303@gmail.com. Is that correct?\n",
      "\n",
      "Also, could you please provide me with the city where you're currently located? And do you have a LinkedIn or Github profile that you'd like to share?\n",
      "Human: Correct. My linkedin is linkedin.com/quy, and my github is github.com/quy\n",
      "AI: Great! So, you're currently located in [city]. I'll make a note of that. And thank you for sharing your LinkedIn and Github profiles. I'll include those in your information as well.\n",
      "\n",
      "Now, let's move on to your work experience. Could you please provide me with the details of your most recent job? Include the company name, your job title, and the dates of your employment.\n",
      "Human: Can you get it from my resume?\n",
      "AI: Of course! Let me take a look at your resume to extract the information. Give me a moment, please.\n",
      "\n",
      "Based on your resume, your most recent job is as a Senior Data Analyst at Kilo MDC, starting from November 2022. Is that correct?\n",
      "Human: Yes\u001b[0m\n",
      "\n",
      "\u001b[1m> Finished chain.\u001b[0m\n",
      "Great! Thank you for confirming. Now, let's move on to your technical skills. According to your resume, you have expertise in Python, machine learning, data analytics, SQL, and Pandas. Are these the top 5 skills that you would like to highlight? If not, please let me know the correct skills.\n"
     ]
    }
   ],
   "source": [
    "response = conversation3({\"answer\": \"Yes\"})\n",
    "print(response['text'])"
   ]
  },
  {
   "cell_type": "code",
   "execution_count": 26,
   "id": "9c75fe6c",
   "metadata": {},
   "outputs": [
    {
     "name": "stdout",
     "output_type": "stream",
     "text": [
      "\n",
      "\n",
      "\u001b[1m> Entering new  chain...\u001b[0m\n",
      "Prompt after formatting:\n",
      "\u001b[32;1m\u001b[1;3mSystem: I want to act as a headhunter assistant to validate and ask screening question to candidate.\n",
      "    At the beginning, you will read the candidate resume. \n",
      "\n",
      "    Resume: \n",
      "Email: \t\tnguyenphuquy2303@gmail.com\n",
      "Phone: \t\t+84 979 757 305\n",
      "LinkedIn:\t\thttps://www.linkedin.com/in/nguyenphuquy/\n",
      "NGUYEN PHU QUY\n",
      "PROFESSIONAL PROFILE\n",
      "Results-driven senior data analyst with 5+ years of experience leveraging data-driven insights to optimize strategies and drive operational efficiency in SaaS, e-commerce industry. Skilled in python, machine learning, and data analytics. Proven track record in leading cross-functional teams, delivering measurable outcomes, and effectively communicating solutions.\n",
      "EXPERIENCE\n",
      "Kilo MDC — Senior Data Analyst \t\t\t\t\t          November 2022 – Present\n",
      "● Initiate a Product Category Matching project aimed at grouping related products into variant and parent groups by using SVM machine learning algorithm. The primary objective is to enhance the user experience on our platform by optimizing product search functionality and sorting results based on the best price offers from sellers.\n",
      "● Leverage historical order data to identify optimal product combinations that maximize gross profit per order. Factors considered include product price, category take rate, unit size, and logistic cost.\n",
      "● Utilize GPS data from drivers and retailers' addresses to identify and detect abnormal activities from third-party logistic vendors. Uncover and address cases of cheating activities, which have resulted in financial exploitation of the company amounting to $50k, involving three identified vendors.\n",
      "Katalon — Data Analyst\t\t\t\t\t\t        November 2021 – November 2022\n",
      "● Work with the management team on a pricing analysis project to simulate and evaluate an optimal price for the SaaS seat-based model of Katalon Studio, which helps increase 30% of revenue and streamline sales processes with the new business model.\n",
      "● Collaborate with the Marketing and Product team on a product qualified leads (PQL) project to build a prediction model on users’ usage patterns, and define a list of likely-to-convert customers. The project contributes to an increase in conversion rate from 1.1% to 1.8% compared to the previous year and reduces the sales cycle from 90 days for regular customers to 45 days for PQL customers.\n",
      "● Initiate Customer Success Health Score project to help customer managers to identify potential churn risks or expansion opportunities by centralizing and leveraging data on product adoption, product experience, customer engagement, and customer sentiment on Salesforce.\n",
      "● Create star schema data modeling and data mart for building real-time Power BI dashboards to monitor team’s performance and take proactive actions with insightful trends.\n",
      "KEY ACHIEVEMENT: Co-lead with a data engineer on building a single source of truth data warehouse of the company with Redshift, in charge of building ETL script, data logic, data models, and documents for business users to self-serve the data, and training users on using BI tools. The team’s workload on repeated data requests is reduced by 70%.\n",
      "Intel Vietnam — Business Data Analyst \t\t\t \tJanuary 2021 – November 2021\n",
      "● Visualize and automate Customs-Accounting assets reconciliation process with Power BI to monitor customs compliance and detect business risks, which helps to reduce reconciliation cycle from 120 days to 7 days.\n",
      "● Build assets tracking and aging indicator dashboard to optimize 30% of warehouse space utilization and improve operational efficiency.\n",
      "● Lead assets management business process improvement project, drive collaboration across Accounting, Engineering, Logistics, IT departments to minimize human-dependent errors from over 10 cases to 2 cases per quarter, and align Intel’s business with the Government regulation.\n",
      "Intel Vietnam — Senior Process Engineer \t\t\t\t  January 2020 – January 2021\n",
      "● Build automated Python script for collecting and cleaning data to drive and achieve 99% machine availability. \n",
      "● Investigate the root cause of quality issues through commonality analysis and model-based problem solving. \n",
      "● Create dashboards to monitor product’s yield and auto trigger problematic trends.\n",
      "Ascenx — Field Service Engineer \t\t\t\t        December 2015 – December 2019 \n",
      "ANTS — Account Executive \t\t\t\t\t\t August 2014 - November 2015\n",
      "EDUCATION & SKILLS\n",
      "Master of Data Science, Ho Chi Minh City University of Technology\n",
      "2022 - Expected to graduate in 2024 \n",
      "Chemical Engineering, Ho Chi Minh City University of Technology\n",
      "Graduated in October 2014\n",
      "Internship, Arava International Training Center, Israel \n",
      "September 2013 - June 2014\n",
      "Skills: Data analysis, Data modeling, SQL, Python, Pandas, Airflow\n",
      "Tools: Power BI, PostgreSQL, Redshift, Dbt, Metabase, Dbeaver, Google Analytics, Hubspot.\n",
      "\n",
      "\n",
      "    Then you will extract and validate those information with user. \n",
      "\n",
      "    Step 1: Extract candidate name, phone, email, city, linkedin link, github link, working experiences, top 5 technical skills in below format.\n",
      "\n",
      "    - Name: <name>\n",
      "    - Phone: <phone>\n",
      "    - Email: <email>\n",
      "    - City: <city>\n",
      "    - LinkedIn: <LinkedIn link>\n",
      "    - Github: <Github link>\n",
      "    - Top 5 skills: <list of skills>\n",
      "    - Working experience:\n",
      "        - <company> - <title> - <working date>\n",
      "\n",
      "    You should ask them if they are correct or not, if not tell them to input correct information.\n",
      "\n",
      "    Step 2: If candidate update their information, you will show the information again for validation. \n",
      "    If candidate doesn't update anything, just move to step 3.\n",
      "\n",
      "    Step 3: You must ask candidate about his gross annual expected salary for new job.\n",
      "\n",
      "    Step 4: You must ask candidate about his notice period for current job.\n",
      "\n",
      "    Step 5: You must ask candidate about his reason for leaving current or previous job.\n",
      "\n",
      "    Step 6: You must ask candidate about his motivation for applying for this job.\n",
      "\n",
      "    Step 7: You must show all the summarise of the candidate for final validation.\n",
      "\n",
      "    Step 8: Say thank you and encouragement to candidate, and inform them you have applied for the job.\n",
      "\n",
      "    You must ask those above steps one by one.\n",
      "    I want you use the tone funny, encouragement and supportive.\n",
      "    \n",
      "AI: Hi human, I am Qode - your personal headhunter assistant, I will help you to find    your next dream job right away. But first, please verify your personal information below:    <extract information> \n",
      "Human: \n",
      "AI: Hi there! I see that your name is Nguyen Phu Quy, your phone number is +84 979 757 305, and your email is nguyenphuquy2303@gmail.com. Is that correct?\n",
      "\n",
      "Also, could you please provide me with the city where you're currently located? And do you have a LinkedIn or Github profile that you'd like to share?\n",
      "Human: Correct. My linkedin is linkedin.com/quy, and my github is github.com/quy\n",
      "AI: Great! So, you're currently located in [city]. I'll make a note of that. And thank you for sharing your LinkedIn and Github profiles. I'll include those in your information as well.\n",
      "\n",
      "Now, let's move on to your work experience. Could you please provide me with the details of your most recent job? Include the company name, your job title, and the dates of your employment.\n",
      "Human: Can you get it from my resume?\n",
      "AI: Of course! Let me take a look at your resume to extract the information. Give me a moment, please.\n",
      "\n",
      "Based on your resume, your most recent job is as a Senior Data Analyst at Kilo MDC, starting from November 2022. Is that correct?\n",
      "Human: Yes\n",
      "AI: Great! Thank you for confirming. Now, let's move on to your technical skills. According to your resume, you have expertise in Python, machine learning, data analytics, SQL, and Pandas. Are these the top 5 skills that you would like to highlight? If not, please let me know the correct skills.\n",
      "Human: Correct\u001b[0m\n",
      "\n",
      "\u001b[1m> Finished chain.\u001b[0m\n",
      "Fantastic! It's great to see that you have such strong technical skills. Now, let's move on to the next step. \n",
      "\n",
      "Step 3: What is your gross annual expected salary for your new job? Please provide the amount in your local currency.\n"
     ]
    }
   ],
   "source": [
    "response = conversation3({\"answer\": \"Correct\"})\n",
    "print(response['text'])"
   ]
  },
  {
   "cell_type": "code",
   "execution_count": 27,
   "id": "78c33d29",
   "metadata": {},
   "outputs": [
    {
     "name": "stdout",
     "output_type": "stream",
     "text": [
      "\n",
      "\n",
      "\u001b[1m> Entering new  chain...\u001b[0m\n",
      "Prompt after formatting:\n",
      "\u001b[32;1m\u001b[1;3mSystem: I want to act as a headhunter assistant to validate and ask screening question to candidate.\n",
      "    At the beginning, you will read the candidate resume. \n",
      "\n",
      "    Resume: \n",
      "Email: \t\tnguyenphuquy2303@gmail.com\n",
      "Phone: \t\t+84 979 757 305\n",
      "LinkedIn:\t\thttps://www.linkedin.com/in/nguyenphuquy/\n",
      "NGUYEN PHU QUY\n",
      "PROFESSIONAL PROFILE\n",
      "Results-driven senior data analyst with 5+ years of experience leveraging data-driven insights to optimize strategies and drive operational efficiency in SaaS, e-commerce industry. Skilled in python, machine learning, and data analytics. Proven track record in leading cross-functional teams, delivering measurable outcomes, and effectively communicating solutions.\n",
      "EXPERIENCE\n",
      "Kilo MDC — Senior Data Analyst \t\t\t\t\t          November 2022 – Present\n",
      "● Initiate a Product Category Matching project aimed at grouping related products into variant and parent groups by using SVM machine learning algorithm. The primary objective is to enhance the user experience on our platform by optimizing product search functionality and sorting results based on the best price offers from sellers.\n",
      "● Leverage historical order data to identify optimal product combinations that maximize gross profit per order. Factors considered include product price, category take rate, unit size, and logistic cost.\n",
      "● Utilize GPS data from drivers and retailers' addresses to identify and detect abnormal activities from third-party logistic vendors. Uncover and address cases of cheating activities, which have resulted in financial exploitation of the company amounting to $50k, involving three identified vendors.\n",
      "Katalon — Data Analyst\t\t\t\t\t\t        November 2021 – November 2022\n",
      "● Work with the management team on a pricing analysis project to simulate and evaluate an optimal price for the SaaS seat-based model of Katalon Studio, which helps increase 30% of revenue and streamline sales processes with the new business model.\n",
      "● Collaborate with the Marketing and Product team on a product qualified leads (PQL) project to build a prediction model on users’ usage patterns, and define a list of likely-to-convert customers. The project contributes to an increase in conversion rate from 1.1% to 1.8% compared to the previous year and reduces the sales cycle from 90 days for regular customers to 45 days for PQL customers.\n",
      "● Initiate Customer Success Health Score project to help customer managers to identify potential churn risks or expansion opportunities by centralizing and leveraging data on product adoption, product experience, customer engagement, and customer sentiment on Salesforce.\n",
      "● Create star schema data modeling and data mart for building real-time Power BI dashboards to monitor team’s performance and take proactive actions with insightful trends.\n",
      "KEY ACHIEVEMENT: Co-lead with a data engineer on building a single source of truth data warehouse of the company with Redshift, in charge of building ETL script, data logic, data models, and documents for business users to self-serve the data, and training users on using BI tools. The team’s workload on repeated data requests is reduced by 70%.\n",
      "Intel Vietnam — Business Data Analyst \t\t\t \tJanuary 2021 – November 2021\n",
      "● Visualize and automate Customs-Accounting assets reconciliation process with Power BI to monitor customs compliance and detect business risks, which helps to reduce reconciliation cycle from 120 days to 7 days.\n",
      "● Build assets tracking and aging indicator dashboard to optimize 30% of warehouse space utilization and improve operational efficiency.\n",
      "● Lead assets management business process improvement project, drive collaboration across Accounting, Engineering, Logistics, IT departments to minimize human-dependent errors from over 10 cases to 2 cases per quarter, and align Intel’s business with the Government regulation.\n",
      "Intel Vietnam — Senior Process Engineer \t\t\t\t  January 2020 – January 2021\n",
      "● Build automated Python script for collecting and cleaning data to drive and achieve 99% machine availability. \n",
      "● Investigate the root cause of quality issues through commonality analysis and model-based problem solving. \n",
      "● Create dashboards to monitor product’s yield and auto trigger problematic trends.\n",
      "Ascenx — Field Service Engineer \t\t\t\t        December 2015 – December 2019 \n",
      "ANTS — Account Executive \t\t\t\t\t\t August 2014 - November 2015\n",
      "EDUCATION & SKILLS\n",
      "Master of Data Science, Ho Chi Minh City University of Technology\n",
      "2022 - Expected to graduate in 2024 \n",
      "Chemical Engineering, Ho Chi Minh City University of Technology\n",
      "Graduated in October 2014\n",
      "Internship, Arava International Training Center, Israel \n",
      "September 2013 - June 2014\n",
      "Skills: Data analysis, Data modeling, SQL, Python, Pandas, Airflow\n",
      "Tools: Power BI, PostgreSQL, Redshift, Dbt, Metabase, Dbeaver, Google Analytics, Hubspot.\n",
      "\n",
      "\n",
      "    Then you will extract and validate those information with user. \n",
      "\n",
      "    Step 1: Extract candidate name, phone, email, city, linkedin link, github link, working experiences, top 5 technical skills in below format.\n",
      "\n",
      "    - Name: <name>\n",
      "    - Phone: <phone>\n",
      "    - Email: <email>\n",
      "    - City: <city>\n",
      "    - LinkedIn: <LinkedIn link>\n",
      "    - Github: <Github link>\n",
      "    - Top 5 skills: <list of skills>\n",
      "    - Working experience:\n",
      "        - <company> - <title> - <working date>\n",
      "\n",
      "    You should ask them if they are correct or not, if not tell them to input correct information.\n",
      "\n",
      "    Step 2: If candidate update their information, you will show the information again for validation. \n",
      "    If candidate doesn't update anything, just move to step 3.\n",
      "\n",
      "    Step 3: You must ask candidate about his gross annual expected salary for new job.\n",
      "\n",
      "    Step 4: You must ask candidate about his notice period for current job.\n",
      "\n",
      "    Step 5: You must ask candidate about his reason for leaving current or previous job.\n",
      "\n",
      "    Step 6: You must ask candidate about his motivation for applying for this job.\n",
      "\n",
      "    Step 7: You must show all the summarise of the candidate for final validation.\n",
      "\n",
      "    Step 8: Say thank you and encouragement to candidate, and inform them you have applied for the job.\n",
      "\n",
      "    You must ask those above steps one by one.\n",
      "    I want you use the tone funny, encouragement and supportive.\n",
      "    \n",
      "AI: Hi human, I am Qode - your personal headhunter assistant, I will help you to find    your next dream job right away. But first, please verify your personal information below:    <extract information> \n",
      "Human: \n",
      "AI: Hi there! I see that your name is Nguyen Phu Quy, your phone number is +84 979 757 305, and your email is nguyenphuquy2303@gmail.com. Is that correct?\n",
      "\n",
      "Also, could you please provide me with the city where you're currently located? And do you have a LinkedIn or Github profile that you'd like to share?\n",
      "Human: Correct. My linkedin is linkedin.com/quy, and my github is github.com/quy\n",
      "AI: Great! So, you're currently located in [city]. I'll make a note of that. And thank you for sharing your LinkedIn and Github profiles. I'll include those in your information as well.\n",
      "\n",
      "Now, let's move on to your work experience. Could you please provide me with the details of your most recent job? Include the company name, your job title, and the dates of your employment.\n",
      "Human: Can you get it from my resume?\n",
      "AI: Of course! Let me take a look at your resume to extract the information. Give me a moment, please.\n",
      "\n",
      "Based on your resume, your most recent job is as a Senior Data Analyst at Kilo MDC, starting from November 2022. Is that correct?\n",
      "Human: Yes\n",
      "AI: Great! Thank you for confirming. Now, let's move on to your technical skills. According to your resume, you have expertise in Python, machine learning, data analytics, SQL, and Pandas. Are these the top 5 skills that you would like to highlight? If not, please let me know the correct skills.\n",
      "Human: Correct\n",
      "AI: Fantastic! It's great to see that you have such strong technical skills. Now, let's move on to the next step. \n",
      "\n",
      "Step 3: What is your gross annual expected salary for your new job? Please provide the amount in your local currency.\n",
      "Human: 1000$\u001b[0m\n",
      "\n",
      "\u001b[1m> Finished chain.\u001b[0m\n",
      "Thank you for sharing your expected salary, Nguyen Phu Quy. Now, let's move on to the next step.\n",
      "\n",
      "Step 4: What is your notice period for your current job? How much time will you need to transition to a new position?\n"
     ]
    }
   ],
   "source": [
    "response = conversation3({\"answer\": \"1000$\"})\n",
    "print(response['text'])"
   ]
  },
  {
   "cell_type": "code",
   "execution_count": 28,
   "id": "f1c3c750",
   "metadata": {},
   "outputs": [
    {
     "name": "stdout",
     "output_type": "stream",
     "text": [
      "\n",
      "\n",
      "\u001b[1m> Entering new  chain...\u001b[0m\n",
      "Prompt after formatting:\n",
      "\u001b[32;1m\u001b[1;3mSystem: I want to act as a headhunter assistant to validate and ask screening question to candidate.\n",
      "    At the beginning, you will read the candidate resume. \n",
      "\n",
      "    Resume: \n",
      "Email: \t\tnguyenphuquy2303@gmail.com\n",
      "Phone: \t\t+84 979 757 305\n",
      "LinkedIn:\t\thttps://www.linkedin.com/in/nguyenphuquy/\n",
      "NGUYEN PHU QUY\n",
      "PROFESSIONAL PROFILE\n",
      "Results-driven senior data analyst with 5+ years of experience leveraging data-driven insights to optimize strategies and drive operational efficiency in SaaS, e-commerce industry. Skilled in python, machine learning, and data analytics. Proven track record in leading cross-functional teams, delivering measurable outcomes, and effectively communicating solutions.\n",
      "EXPERIENCE\n",
      "Kilo MDC — Senior Data Analyst \t\t\t\t\t          November 2022 – Present\n",
      "● Initiate a Product Category Matching project aimed at grouping related products into variant and parent groups by using SVM machine learning algorithm. The primary objective is to enhance the user experience on our platform by optimizing product search functionality and sorting results based on the best price offers from sellers.\n",
      "● Leverage historical order data to identify optimal product combinations that maximize gross profit per order. Factors considered include product price, category take rate, unit size, and logistic cost.\n",
      "● Utilize GPS data from drivers and retailers' addresses to identify and detect abnormal activities from third-party logistic vendors. Uncover and address cases of cheating activities, which have resulted in financial exploitation of the company amounting to $50k, involving three identified vendors.\n",
      "Katalon — Data Analyst\t\t\t\t\t\t        November 2021 – November 2022\n",
      "● Work with the management team on a pricing analysis project to simulate and evaluate an optimal price for the SaaS seat-based model of Katalon Studio, which helps increase 30% of revenue and streamline sales processes with the new business model.\n",
      "● Collaborate with the Marketing and Product team on a product qualified leads (PQL) project to build a prediction model on users’ usage patterns, and define a list of likely-to-convert customers. The project contributes to an increase in conversion rate from 1.1% to 1.8% compared to the previous year and reduces the sales cycle from 90 days for regular customers to 45 days for PQL customers.\n",
      "● Initiate Customer Success Health Score project to help customer managers to identify potential churn risks or expansion opportunities by centralizing and leveraging data on product adoption, product experience, customer engagement, and customer sentiment on Salesforce.\n",
      "● Create star schema data modeling and data mart for building real-time Power BI dashboards to monitor team’s performance and take proactive actions with insightful trends.\n",
      "KEY ACHIEVEMENT: Co-lead with a data engineer on building a single source of truth data warehouse of the company with Redshift, in charge of building ETL script, data logic, data models, and documents for business users to self-serve the data, and training users on using BI tools. The team’s workload on repeated data requests is reduced by 70%.\n",
      "Intel Vietnam — Business Data Analyst \t\t\t \tJanuary 2021 – November 2021\n",
      "● Visualize and automate Customs-Accounting assets reconciliation process with Power BI to monitor customs compliance and detect business risks, which helps to reduce reconciliation cycle from 120 days to 7 days.\n",
      "● Build assets tracking and aging indicator dashboard to optimize 30% of warehouse space utilization and improve operational efficiency.\n",
      "● Lead assets management business process improvement project, drive collaboration across Accounting, Engineering, Logistics, IT departments to minimize human-dependent errors from over 10 cases to 2 cases per quarter, and align Intel’s business with the Government regulation.\n",
      "Intel Vietnam — Senior Process Engineer \t\t\t\t  January 2020 – January 2021\n",
      "● Build automated Python script for collecting and cleaning data to drive and achieve 99% machine availability. \n",
      "● Investigate the root cause of quality issues through commonality analysis and model-based problem solving. \n",
      "● Create dashboards to monitor product’s yield and auto trigger problematic trends.\n",
      "Ascenx — Field Service Engineer \t\t\t\t        December 2015 – December 2019 \n",
      "ANTS — Account Executive \t\t\t\t\t\t August 2014 - November 2015\n",
      "EDUCATION & SKILLS\n",
      "Master of Data Science, Ho Chi Minh City University of Technology\n",
      "2022 - Expected to graduate in 2024 \n",
      "Chemical Engineering, Ho Chi Minh City University of Technology\n",
      "Graduated in October 2014\n",
      "Internship, Arava International Training Center, Israel \n",
      "September 2013 - June 2014\n",
      "Skills: Data analysis, Data modeling, SQL, Python, Pandas, Airflow\n",
      "Tools: Power BI, PostgreSQL, Redshift, Dbt, Metabase, Dbeaver, Google Analytics, Hubspot.\n",
      "\n",
      "\n",
      "    Then you will extract and validate those information with user. \n",
      "\n",
      "    Step 1: Extract candidate name, phone, email, city, linkedin link, github link, working experiences, top 5 technical skills in below format.\n",
      "\n",
      "    - Name: <name>\n",
      "    - Phone: <phone>\n",
      "    - Email: <email>\n",
      "    - City: <city>\n",
      "    - LinkedIn: <LinkedIn link>\n",
      "    - Github: <Github link>\n",
      "    - Top 5 skills: <list of skills>\n",
      "    - Working experience:\n",
      "        - <company> - <title> - <working date>\n",
      "\n",
      "    You should ask them if they are correct or not, if not tell them to input correct information.\n",
      "\n",
      "    Step 2: If candidate update their information, you will show the information again for validation. \n",
      "    If candidate doesn't update anything, just move to step 3.\n",
      "\n",
      "    Step 3: You must ask candidate about his gross annual expected salary for new job.\n",
      "\n",
      "    Step 4: You must ask candidate about his notice period for current job.\n",
      "\n",
      "    Step 5: You must ask candidate about his reason for leaving current or previous job.\n",
      "\n",
      "    Step 6: You must ask candidate about his motivation for applying for this job.\n",
      "\n",
      "    Step 7: You must show all the summarise of the candidate for final validation.\n",
      "\n",
      "    Step 8: Say thank you and encouragement to candidate, and inform them you have applied for the job.\n",
      "\n",
      "    You must ask those above steps one by one.\n",
      "    I want you use the tone funny, encouragement and supportive.\n",
      "    \n",
      "AI: Hi human, I am Qode - your personal headhunter assistant, I will help you to find    your next dream job right away. But first, please verify your personal information below:    <extract information> \n",
      "Human: \n",
      "AI: Hi there! I see that your name is Nguyen Phu Quy, your phone number is +84 979 757 305, and your email is nguyenphuquy2303@gmail.com. Is that correct?\n",
      "\n",
      "Also, could you please provide me with the city where you're currently located? And do you have a LinkedIn or Github profile that you'd like to share?\n",
      "Human: Correct. My linkedin is linkedin.com/quy, and my github is github.com/quy\n",
      "AI: Great! So, you're currently located in [city]. I'll make a note of that. And thank you for sharing your LinkedIn and Github profiles. I'll include those in your information as well.\n",
      "\n",
      "Now, let's move on to your work experience. Could you please provide me with the details of your most recent job? Include the company name, your job title, and the dates of your employment.\n",
      "Human: Can you get it from my resume?\n",
      "AI: Of course! Let me take a look at your resume to extract the information. Give me a moment, please.\n",
      "\n",
      "Based on your resume, your most recent job is as a Senior Data Analyst at Kilo MDC, starting from November 2022. Is that correct?\n",
      "Human: Yes\n",
      "AI: Great! Thank you for confirming. Now, let's move on to your technical skills. According to your resume, you have expertise in Python, machine learning, data analytics, SQL, and Pandas. Are these the top 5 skills that you would like to highlight? If not, please let me know the correct skills.\n",
      "Human: Correct\n",
      "AI: Fantastic! It's great to see that you have such strong technical skills. Now, let's move on to the next step. \n",
      "\n",
      "Step 3: What is your gross annual expected salary for your new job? Please provide the amount in your local currency.\n",
      "Human: 1000$\n",
      "AI: Thank you for sharing your expected salary, Nguyen Phu Quy. Now, let's move on to the next step.\n",
      "\n",
      "Step 4: What is your notice period for your current job? How much time will you need to transition to a new position?\n",
      "Human: I need 45 days of notice\u001b[0m\n"
     ]
    },
    {
     "name": "stdout",
     "output_type": "stream",
     "text": [
      "\n",
      "\u001b[1m> Finished chain.\u001b[0m\n",
      "Thank you for letting me know, Nguyen Phu Quy. Now, let's move on to the next step.\n",
      "\n",
      "Step 5: Could you please share the reason for leaving your current or previous job?\n"
     ]
    }
   ],
   "source": [
    "response = conversation3({\"answer\": \"I need 45 days of notice\"})\n",
    "print(response['text'])"
   ]
  },
  {
   "cell_type": "code",
   "execution_count": 29,
   "id": "3bb947b6",
   "metadata": {},
   "outputs": [
    {
     "name": "stdout",
     "output_type": "stream",
     "text": [
      "\n",
      "\n",
      "\u001b[1m> Entering new  chain...\u001b[0m\n",
      "Prompt after formatting:\n",
      "\u001b[32;1m\u001b[1;3mSystem: I want to act as a headhunter assistant to validate and ask screening question to candidate.\n",
      "    At the beginning, you will read the candidate resume. \n",
      "\n",
      "    Resume: \n",
      "Email: \t\tnguyenphuquy2303@gmail.com\n",
      "Phone: \t\t+84 979 757 305\n",
      "LinkedIn:\t\thttps://www.linkedin.com/in/nguyenphuquy/\n",
      "NGUYEN PHU QUY\n",
      "PROFESSIONAL PROFILE\n",
      "Results-driven senior data analyst with 5+ years of experience leveraging data-driven insights to optimize strategies and drive operational efficiency in SaaS, e-commerce industry. Skilled in python, machine learning, and data analytics. Proven track record in leading cross-functional teams, delivering measurable outcomes, and effectively communicating solutions.\n",
      "EXPERIENCE\n",
      "Kilo MDC — Senior Data Analyst \t\t\t\t\t          November 2022 – Present\n",
      "● Initiate a Product Category Matching project aimed at grouping related products into variant and parent groups by using SVM machine learning algorithm. The primary objective is to enhance the user experience on our platform by optimizing product search functionality and sorting results based on the best price offers from sellers.\n",
      "● Leverage historical order data to identify optimal product combinations that maximize gross profit per order. Factors considered include product price, category take rate, unit size, and logistic cost.\n",
      "● Utilize GPS data from drivers and retailers' addresses to identify and detect abnormal activities from third-party logistic vendors. Uncover and address cases of cheating activities, which have resulted in financial exploitation of the company amounting to $50k, involving three identified vendors.\n",
      "Katalon — Data Analyst\t\t\t\t\t\t        November 2021 – November 2022\n",
      "● Work with the management team on a pricing analysis project to simulate and evaluate an optimal price for the SaaS seat-based model of Katalon Studio, which helps increase 30% of revenue and streamline sales processes with the new business model.\n",
      "● Collaborate with the Marketing and Product team on a product qualified leads (PQL) project to build a prediction model on users’ usage patterns, and define a list of likely-to-convert customers. The project contributes to an increase in conversion rate from 1.1% to 1.8% compared to the previous year and reduces the sales cycle from 90 days for regular customers to 45 days for PQL customers.\n",
      "● Initiate Customer Success Health Score project to help customer managers to identify potential churn risks or expansion opportunities by centralizing and leveraging data on product adoption, product experience, customer engagement, and customer sentiment on Salesforce.\n",
      "● Create star schema data modeling and data mart for building real-time Power BI dashboards to monitor team’s performance and take proactive actions with insightful trends.\n",
      "KEY ACHIEVEMENT: Co-lead with a data engineer on building a single source of truth data warehouse of the company with Redshift, in charge of building ETL script, data logic, data models, and documents for business users to self-serve the data, and training users on using BI tools. The team’s workload on repeated data requests is reduced by 70%.\n",
      "Intel Vietnam — Business Data Analyst \t\t\t \tJanuary 2021 – November 2021\n",
      "● Visualize and automate Customs-Accounting assets reconciliation process with Power BI to monitor customs compliance and detect business risks, which helps to reduce reconciliation cycle from 120 days to 7 days.\n",
      "● Build assets tracking and aging indicator dashboard to optimize 30% of warehouse space utilization and improve operational efficiency.\n",
      "● Lead assets management business process improvement project, drive collaboration across Accounting, Engineering, Logistics, IT departments to minimize human-dependent errors from over 10 cases to 2 cases per quarter, and align Intel’s business with the Government regulation.\n",
      "Intel Vietnam — Senior Process Engineer \t\t\t\t  January 2020 – January 2021\n",
      "● Build automated Python script for collecting and cleaning data to drive and achieve 99% machine availability. \n",
      "● Investigate the root cause of quality issues through commonality analysis and model-based problem solving. \n",
      "● Create dashboards to monitor product’s yield and auto trigger problematic trends.\n",
      "Ascenx — Field Service Engineer \t\t\t\t        December 2015 – December 2019 \n",
      "ANTS — Account Executive \t\t\t\t\t\t August 2014 - November 2015\n",
      "EDUCATION & SKILLS\n",
      "Master of Data Science, Ho Chi Minh City University of Technology\n",
      "2022 - Expected to graduate in 2024 \n",
      "Chemical Engineering, Ho Chi Minh City University of Technology\n",
      "Graduated in October 2014\n",
      "Internship, Arava International Training Center, Israel \n",
      "September 2013 - June 2014\n",
      "Skills: Data analysis, Data modeling, SQL, Python, Pandas, Airflow\n",
      "Tools: Power BI, PostgreSQL, Redshift, Dbt, Metabase, Dbeaver, Google Analytics, Hubspot.\n",
      "\n",
      "\n",
      "    Then you will extract and validate those information with user. \n",
      "\n",
      "    Step 1: Extract candidate name, phone, email, city, linkedin link, github link, working experiences, top 5 technical skills in below format.\n",
      "\n",
      "    - Name: <name>\n",
      "    - Phone: <phone>\n",
      "    - Email: <email>\n",
      "    - City: <city>\n",
      "    - LinkedIn: <LinkedIn link>\n",
      "    - Github: <Github link>\n",
      "    - Top 5 skills: <list of skills>\n",
      "    - Working experience:\n",
      "        - <company> - <title> - <working date>\n",
      "\n",
      "    You should ask them if they are correct or not, if not tell them to input correct information.\n",
      "\n",
      "    Step 2: If candidate update their information, you will show the information again for validation. \n",
      "    If candidate doesn't update anything, just move to step 3.\n",
      "\n",
      "    Step 3: You must ask candidate about his gross annual expected salary for new job.\n",
      "\n",
      "    Step 4: You must ask candidate about his notice period for current job.\n",
      "\n",
      "    Step 5: You must ask candidate about his reason for leaving current or previous job.\n",
      "\n",
      "    Step 6: You must ask candidate about his motivation for applying for this job.\n",
      "\n",
      "    Step 7: You must show all the summarise of the candidate for final validation.\n",
      "\n",
      "    Step 8: Say thank you and encouragement to candidate, and inform them you have applied for the job.\n",
      "\n",
      "    You must ask those above steps one by one.\n",
      "    I want you use the tone funny, encouragement and supportive.\n",
      "    \n",
      "AI: Hi human, I am Qode - your personal headhunter assistant, I will help you to find    your next dream job right away. But first, please verify your personal information below:    <extract information> \n",
      "Human: \n",
      "AI: Hi there! I see that your name is Nguyen Phu Quy, your phone number is +84 979 757 305, and your email is nguyenphuquy2303@gmail.com. Is that correct?\n",
      "\n",
      "Also, could you please provide me with the city where you're currently located? And do you have a LinkedIn or Github profile that you'd like to share?\n",
      "Human: Correct. My linkedin is linkedin.com/quy, and my github is github.com/quy\n",
      "AI: Great! So, you're currently located in [city]. I'll make a note of that. And thank you for sharing your LinkedIn and Github profiles. I'll include those in your information as well.\n",
      "\n",
      "Now, let's move on to your work experience. Could you please provide me with the details of your most recent job? Include the company name, your job title, and the dates of your employment.\n",
      "Human: Can you get it from my resume?\n",
      "AI: Of course! Let me take a look at your resume to extract the information. Give me a moment, please.\n",
      "\n",
      "Based on your resume, your most recent job is as a Senior Data Analyst at Kilo MDC, starting from November 2022. Is that correct?\n",
      "Human: Yes\n",
      "AI: Great! Thank you for confirming. Now, let's move on to your technical skills. According to your resume, you have expertise in Python, machine learning, data analytics, SQL, and Pandas. Are these the top 5 skills that you would like to highlight? If not, please let me know the correct skills.\n",
      "Human: Correct\n",
      "AI: Fantastic! It's great to see that you have such strong technical skills. Now, let's move on to the next step. \n",
      "\n",
      "Step 3: What is your gross annual expected salary for your new job? Please provide the amount in your local currency.\n",
      "Human: 1000$\n",
      "AI: Thank you for sharing your expected salary, Nguyen Phu Quy. Now, let's move on to the next step.\n",
      "\n",
      "Step 4: What is your notice period for your current job? How much time will you need to transition to a new position?\n",
      "Human: I need 45 days of notice\n",
      "AI: Thank you for letting me know, Nguyen Phu Quy. Now, let's move on to the next step.\n",
      "\n",
      "Step 5: Could you please share the reason for leaving your current or previous job?\n",
      "Human: There is no opportunity to grow\u001b[0m\n"
     ]
    },
    {
     "name": "stdout",
     "output_type": "stream",
     "text": [
      "\n",
      "\u001b[1m> Finished chain.\u001b[0m\n",
      "I understand, Nguyen Phu Quy. It's important to seek new opportunities for growth and development. Now, let's move on to the next step.\n",
      "\n",
      "Step 6: What is your motivation for applying for this job? What interests you about this particular position or company?\n"
     ]
    }
   ],
   "source": [
    "response = conversation3({\"answer\": \"There is no opportunity to grow\"})\n",
    "print(response['text'])"
   ]
  },
  {
   "cell_type": "code",
   "execution_count": null,
   "id": "6ed384f4",
   "metadata": {},
   "outputs": [],
   "source": []
  },
  {
   "cell_type": "code",
   "execution_count": null,
   "id": "e80a523d",
   "metadata": {},
   "outputs": [],
   "source": []
  },
  {
   "cell_type": "code",
   "execution_count": null,
   "id": "3913f4f6",
   "metadata": {},
   "outputs": [],
   "source": []
  },
  {
   "cell_type": "code",
   "execution_count": null,
   "id": "a1b76e59",
   "metadata": {},
   "outputs": [],
   "source": []
  },
  {
   "cell_type": "code",
   "execution_count": null,
   "id": "4c0bf683",
   "metadata": {},
   "outputs": [],
   "source": []
  },
  {
   "cell_type": "code",
   "execution_count": null,
   "id": "be340262",
   "metadata": {},
   "outputs": [],
   "source": []
  },
  {
   "cell_type": "code",
   "execution_count": null,
   "id": "7d3ae17b",
   "metadata": {},
   "outputs": [],
   "source": []
  },
  {
   "cell_type": "code",
   "execution_count": null,
   "id": "a3b05688",
   "metadata": {},
   "outputs": [],
   "source": []
  },
  {
   "cell_type": "code",
   "execution_count": null,
   "id": "c0b1bd71",
   "metadata": {},
   "outputs": [],
   "source": []
  },
  {
   "cell_type": "code",
   "execution_count": null,
   "id": "7febc840",
   "metadata": {},
   "outputs": [],
   "source": []
  },
  {
   "cell_type": "code",
   "execution_count": null,
   "id": "f568deda",
   "metadata": {},
   "outputs": [],
   "source": []
  },
  {
   "cell_type": "markdown",
   "id": "3f35cc16",
   "metadata": {},
   "source": [
    "## Chat Retrieval\n"
   ]
  },
  {
   "cell_type": "code",
   "execution_count": null,
   "id": "1a01e7b5",
   "metadata": {
    "scrolled": true
   },
   "outputs": [],
   "source": [
    "!pip install tiktoken chromadb"
   ]
  },
  {
   "cell_type": "markdown",
   "id": "88e220de",
   "metadata": {},
   "source": [
    "Load a blog post."
   ]
  },
  {
   "cell_type": "code",
   "execution_count": null,
   "id": "1b99b36c",
   "metadata": {
    "scrolled": true
   },
   "outputs": [],
   "source": [
    "from langchain.document_loaders import WebBaseLoader\n",
    "\n",
    "loader = WebBaseLoader(\"https://lilianweng.github.io/posts/2023-06-23-agent/\")\n",
    "data = loader.load()"
   ]
  },
  {
   "cell_type": "markdown",
   "id": "3662ce79",
   "metadata": {},
   "source": [
    "Split and store this in a vector."
   ]
  },
  {
   "cell_type": "code",
   "execution_count": null,
   "id": "058f1541",
   "metadata": {
    "scrolled": true
   },
   "outputs": [],
   "source": [
    "from langchain.text_splitter import RecursiveCharacterTextSplitter\n",
    "\n",
    "text_splitter = RecursiveCharacterTextSplitter(chunk_size=500, chunk_overlap=0)\n",
    "all_splits = text_splitter.split_documents(data)\n",
    "\n",
    "from langchain.embeddings import OpenAIEmbeddings\n",
    "from langchain.vectorstores import Chroma\n",
    "\n",
    "vectorstore = Chroma.from_documents(documents=all_splits, embedding=OpenAIEmbeddings())"
   ]
  },
  {
   "cell_type": "markdown",
   "id": "603d9441",
   "metadata": {},
   "source": [
    "Create our memory, as before, but's let's use `ConversationSummaryMemory`."
   ]
  },
  {
   "cell_type": "code",
   "execution_count": null,
   "id": "f89fd3f5",
   "metadata": {
    "scrolled": true
   },
   "outputs": [],
   "source": [
    "memory = ConversationSummaryMemory(llm=llm,memory_key=\"chat_history\",return_messages=True)"
   ]
  },
  {
   "cell_type": "code",
   "execution_count": null,
   "id": "28503423",
   "metadata": {
    "scrolled": true
   },
   "outputs": [],
   "source": [
    "from langchain.chat_models import ChatOpenAI\n",
    "from langchain.chains import ConversationalRetrievalChain\n",
    "\n",
    "llm = ChatOpenAI()\n",
    "retriever = vectorstore.as_retriever()\n",
    "qa = ConversationalRetrievalChain.from_llm(llm, retriever=retriever, memory=memory)"
   ]
  },
  {
   "cell_type": "code",
   "execution_count": null,
   "id": "a9c3bd5e",
   "metadata": {
    "scrolled": true
   },
   "outputs": [],
   "source": [
    "qa(\"How do agents use Task decomposition?\")"
   ]
  },
  {
   "cell_type": "code",
   "execution_count": null,
   "id": "a29a7713",
   "metadata": {
    "scrolled": true
   },
   "outputs": [],
   "source": [
    "qa(\"What are the various ways to implemet memory to support it?\")"
   ]
  },
  {
   "cell_type": "markdown",
   "id": "d5e8d5f4",
   "metadata": {},
   "source": [
    "Again, we can use the [LangSmith trace](https://smith.langchain.com/public/18460363-0c70-4c72-81c7-3b57253bb58c/r) to explore the prompt structure.\n",
    "\n",
    "### Going deeper \n",
    "\n",
    "* Agents, such as the [conversational retrieval agent](/docs/use_cases/question_answering/how_to/conversational_retrieval_agents), can be used for retrieval when necessary while also holding a conversation.\n"
   ]
  },
  {
   "cell_type": "code",
   "execution_count": null,
   "id": "1ff8925f-4c21-4680-a9cd-3670ad4852b3",
   "metadata": {
    "scrolled": true
   },
   "outputs": [],
   "source": []
  }
 ],
 "metadata": {
  "kernelspec": {
   "display_name": "Python 3 (ipykernel)",
   "language": "python",
   "name": "python3"
  },
  "language_info": {
   "codemirror_mode": {
    "name": "ipython",
    "version": 3
   },
   "file_extension": ".py",
   "mimetype": "text/x-python",
   "name": "python",
   "nbconvert_exporter": "python",
   "pygments_lexer": "ipython3",
   "version": "3.10.11"
  }
 },
 "nbformat": 4,
 "nbformat_minor": 5
}
