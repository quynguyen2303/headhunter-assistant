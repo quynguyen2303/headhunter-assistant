{
 "cells": [
  {
   "cell_type": "code",
   "execution_count": 1,
   "id": "a71f6fb0",
   "metadata": {},
   "outputs": [
    {
     "name": "stdout",
     "output_type": "stream",
     "text": [
      "Requirement already satisfied: pypdf in /Library/Frameworks/Python.framework/Versions/3.10/lib/python3.10/site-packages (3.9.0)\n",
      "Requirement already satisfied: pdfplumber in /Library/Frameworks/Python.framework/Versions/3.10/lib/python3.10/site-packages (0.10.2)\n",
      "Requirement already satisfied: pdfminer.six==20221105 in /Library/Frameworks/Python.framework/Versions/3.10/lib/python3.10/site-packages (from pdfplumber) (20221105)\n",
      "Requirement already satisfied: Pillow>=9.1 in /Library/Frameworks/Python.framework/Versions/3.10/lib/python3.10/site-packages (from pdfplumber) (10.0.0)\n",
      "Requirement already satisfied: pypdfium2>=4.18.0 in /Library/Frameworks/Python.framework/Versions/3.10/lib/python3.10/site-packages (from pdfplumber) (4.18.0)\n",
      "Requirement already satisfied: charset-normalizer>=2.0.0 in /Library/Frameworks/Python.framework/Versions/3.10/lib/python3.10/site-packages (from pdfminer.six==20221105->pdfplumber) (3.1.0)\n",
      "Requirement already satisfied: cryptography>=36.0.0 in /Library/Frameworks/Python.framework/Versions/3.10/lib/python3.10/site-packages (from pdfminer.six==20221105->pdfplumber) (41.0.1)\n",
      "Requirement already satisfied: cffi>=1.12 in /Library/Frameworks/Python.framework/Versions/3.10/lib/python3.10/site-packages (from cryptography>=36.0.0->pdfminer.six==20221105->pdfplumber) (1.15.1)\n",
      "Requirement already satisfied: pycparser in /Library/Frameworks/Python.framework/Versions/3.10/lib/python3.10/site-packages (from cffi>=1.12->cryptography>=36.0.0->pdfminer.six==20221105->pdfplumber) (2.21)\n",
      "Requirement already satisfied: PyPDF4 in /Library/Frameworks/Python.framework/Versions/3.10/lib/python3.10/site-packages (1.27.0)\n"
     ]
    }
   ],
   "source": [
    "!pip install pypdf\n",
    "!pip install pdfplumber\n",
    "!pip install PyPDF4"
   ]
  },
  {
   "cell_type": "code",
   "execution_count": 2,
   "id": "b6217281",
   "metadata": {},
   "outputs": [],
   "source": [
    "from langchain.document_loaders import PyPDFLoader\n",
    "\n",
    "loader = PyPDFLoader(\"sample/jd_1.pdf\")\n",
    "pages = loader.load_and_split()"
   ]
  },
  {
   "cell_type": "code",
   "execution_count": 3,
   "id": "7fd8a6e8",
   "metadata": {},
   "outputs": [
    {
     "data": {
      "text/plain": [
       "2"
      ]
     },
     "execution_count": 3,
     "metadata": {},
     "output_type": "execute_result"
    }
   ],
   "source": [
    "len(pages)"
   ]
  },
  {
   "cell_type": "code",
   "execution_count": 5,
   "id": "ff5f9f52",
   "metadata": {},
   "outputs": [
    {
     "data": {
      "text/plain": [
       "Document(page_content=\"About  us FULL  STACK  ENGINEER  \\n \\nQode is dedicated to helping technical talent around the world find meaningful careers \\nthat match their skills and interests. Our platform provides a range of resources and \\ntools that empower job seekers to take control of their careers and conne ct with top \\nemployers across a variety of industries. We believe that every individual deserves to \\nfind work that they're passionate about, and we are committed to making that vision a \\nreality.  \\n \\nQode's team of experienced professionals is passionate about  creating a better world of \\nwork by providing innovative solutions that improve the job search process for both job \\nseekers and employers. We believe in transparency, trust, and collaboration, and we \\nstrive to build strong relationships with our cu stomers and partners. Through our \\nplatform, we aim to create a more engaged and fulfilled global workforce that drives \\ninnovation and growth.  \\n \\nResponsibilities  \\n \\n● Design  and build  a marketplace  for tech  talents  and recruiters  everywhere  in the \\nworld  (new  product).  \\n● Participate  in hiring  and building  the technical  team  (new  team).  \\n● Participate  in deﬁning  and improving  the product.  \\n● Work  closely  with  the entire  product  development  team,  involve  in all the product  \\ndevelopment  activities  and interact  with  other  departments.  \\n● Seek  to understand  and satisfy  our customers’  needs  and problems.  \\n \\nQualiﬁcations  \\n \\nMust -have  \\n● 3+ years  of experience  of web development.  Strong  experience  of backend  and \\nAPI design.  \\n● Understand  deeply  and use these  technologies  effectively:  javascript,  node.js,  \\nreact,  next.js.  \\n● Familiar  with  popular  relational  and NoSQL  databases.  \\n● Good  understanding  of web app security,  scalability  and performance.  \\n● Good  product  mindset  and ownership .  \\n● Can communicate  in English  (meetings,  brainstorming,  presentations).  \\n \\nNice -to-have  \\n● Knowledge  of system  design . \\n● Knowledge  of UI/UX,  design  systems .\", metadata={'source': 'sample/jd_1.pdf', 'page': 0})"
      ]
     },
     "execution_count": 5,
     "metadata": {},
     "output_type": "execute_result"
    }
   ],
   "source": [
    "pages[0]"
   ]
  },
  {
   "cell_type": "code",
   "execution_count": 2,
   "id": "76a92109",
   "metadata": {},
   "outputs": [],
   "source": [
    "import pdfplumber\n",
    "import PyPDF4\n",
    "import re\n",
    "import os\n",
    "import sys\n",
    "from typing import Callable, List, Tuple, Dict\n",
    "\n",
    "from langchain.docstore.document import Document\n",
    "from langchain.text_splitter import RecursiveCharacterTextSplitter\n",
    "from langchain.vectorstores import Chroma\n",
    "from langchain.embeddings import OpenAIEmbeddings\n",
    "\n",
    "import time\n",
    "\n",
    "\n",
    "from dotenv import load_dotenv"
   ]
  },
  {
   "cell_type": "code",
   "execution_count": 3,
   "id": "c81eec76",
   "metadata": {},
   "outputs": [],
   "source": [
    "def extract_metadata_from_pdf(file_path: str) -> dict:\n",
    "    with open(file_path, \"rb\") as pdf_file:\n",
    "        reader = PyPDF4.PdfFileReader(pdf_file)  # Change this line\n",
    "        metadata = reader.getDocumentInfo()\n",
    "        return {\n",
    "            \"title\": metadata.get(\"/Title\", \"\").strip(),\n",
    "            \"author\": metadata.get(\"/Author\", \"\").strip(),\n",
    "            \"creation_date\": metadata.get(\"/CreationDate\", \"\").strip(),\n",
    "        }\n",
    "\n",
    "\n",
    "# def extract_pages_from_pdf(file_path: str) -> List[Tuple[int, str]]:\n",
    "#     \"\"\"\n",
    "#     Extracts the text from each page of the PDF.\n",
    "\n",
    "#     :param file_path: The path to the PDF file.\n",
    "#     :return: A list of tuples containing the page number and the extracted text.\n",
    "#     \"\"\"\n",
    "#     if not os.path.isfile(file_path):\n",
    "#         raise FileNotFoundError(f\"File not found: {file_path}\")\n",
    "\n",
    "#     with pdfplumber.open(file_path) as pdf:\n",
    "#         pages = []\n",
    "#         for page_num, page in enumerate(pdf.pages):\n",
    "#             text = page.extract_text()\n",
    "#             if text.strip():  # Check if extracted text is not empty\n",
    "#                 pages.append((page_num + 1, text))\n",
    "#     return pages\n",
    "\n",
    "\n",
    "# def parse_pdf(file_path: str) -> Tuple[List[Tuple[int, str]], Dict[str, str]]:\n",
    "#     \"\"\"\n",
    "#     Extracts the title and text from each page of the PDF.\n",
    "\n",
    "#     :param file_path: The path to the PDF file.\n",
    "#     :return: A tuple containing the title and a list of tuples with page numbers and extracted text.\n",
    "#     \"\"\"\n",
    "#     if not os.path.isfile(file_path):\n",
    "#         raise FileNotFoundError(f\"File not found: {file_path}\")\n",
    "\n",
    "#     metadata = extract_metadata_from_pdf(file_path)\n",
    "#     pages = extract_pages_from_pdf(file_path)\n",
    "\n",
    "#     return pages, metadata\n",
    "\n",
    "\n",
    "def merge_hyphenated_words(text: str) -> str:\n",
    "    return re.sub(r\"(\\w)-\\n(\\w)\", r\"\\1\\2\", text)\n",
    "\n",
    "\n",
    "def fix_newlines(text: str) -> str:\n",
    "    return re.sub(r\"(?<!\\n)\\n(?!\\n)\", \" \", text)\n",
    "\n",
    "\n",
    "def remove_multiple_newlines(text: str) -> str:\n",
    "    return re.sub(r\"\\n{2,}\", \"\\n\", text)\n",
    "\n",
    "\n",
    "# def clean_text(\n",
    "#     pages: List[Tuple[int, str]], cleaning_functions: List[Callable[[str], str]]\n",
    "# ) -> List[Tuple[int, str]]:\n",
    "#     cleaned_pages = []\n",
    "#     for page_num, text in pages:\n",
    "#         for cleaning_function in cleaning_functions:\n",
    "#             text = cleaning_function(text)\n",
    "#         cleaned_pages.append((page_num, text))\n",
    "#     return cleaned_pages\n",
    "\n",
    "\n",
    "# def text_to_docs(text: List[str], metadata: Dict[str, str]) -> List[Document]:\n",
    "#     \"\"\"Converts list of strings to a list of Documents with metadata.\"\"\"\n",
    "#     doc_chunks = []\n",
    "\n",
    "#     for page_num, page in text:\n",
    "#         text_splitter = RecursiveCharacterTextSplitter(\n",
    "#             chunk_size=1000,\n",
    "#             separators=[\"\\n\\n\", \"\\n\", \".\", \"!\", \"?\", \",\", \" \", \"\"],\n",
    "#             chunk_overlap=200,\n",
    "#         )\n",
    "#         chunks = text_splitter.split_text(page)\n",
    "#         for i, chunk in enumerate(chunks):\n",
    "#             doc = Document(\n",
    "#                 page_content=chunk,\n",
    "#                 metadata={\n",
    "#                     \"page_number\": page_num,\n",
    "#                     \"chunk\": i,\n",
    "#                     \"source\": f\"p{page_num}-{i}\",\n",
    "#                     **metadata,\n",
    "#                 },\n",
    "#             )\n",
    "#             doc_chunks.append(doc)\n",
    "\n",
    "#     return doc_chunks\n",
    "\n",
    "#Without pages\n",
    "def parse_pdf_without_pages(file_path: str) -> Tuple[List[str], Dict[str, str]]:\n",
    "    \"\"\"\n",
    "    Extracts the title and text from each page of the PDF.\n",
    "\n",
    "    :param file_path: The path to the PDF file.\n",
    "    :return: A tuple containing the title and a list of tuples with page numbers and extracted text.\n",
    "    \"\"\"\n",
    "    if not os.path.isfile(file_path):\n",
    "        raise FileNotFoundError(f\"File not found: {file_path}\")\n",
    "\n",
    "    metadata = extract_metadata_from_pdf(file_path)\n",
    "    pages = extract_text_from_pdf(file_path)\n",
    "\n",
    "    return pages, metadata\n",
    "\n",
    "# Without pages\n",
    "def extract_text_from_pdf(file_path: str) -> List[str]:\n",
    "    \"\"\"\n",
    "    Extracts the text from each page of the PDF.\n",
    "\n",
    "    :param file_path: The path to the PDF file.\n",
    "    :return: A list of tuples containing the page number and the extracted text.\n",
    "    \"\"\"\n",
    "    if not os.path.isfile(file_path):\n",
    "        raise FileNotFoundError(f\"File not found: {file_path}\")\n",
    "\n",
    "    with pdfplumber.open(file_path) as pdf:\n",
    "        pages = []\n",
    "        text = \"\"\n",
    "        for page_num, page in enumerate(pdf.pages):\n",
    "            text += page.extract_text()\n",
    "        if text.strip():  # Check if extracted text is not empty\n",
    "            pages.append(text)\n",
    "    return pages\n",
    "\n",
    "# Without pages\n",
    "def clean_text_without_pages(\n",
    "    pages: List[str], cleaning_functions: List[Callable[[str], str]]\n",
    ") -> List[str]:\n",
    "    cleaned_pages = []\n",
    "    for text in pages:\n",
    "        for cleaning_function in cleaning_functions:\n",
    "            text = cleaning_function(text)\n",
    "        cleaned_pages.append(text)\n",
    "    return cleaned_pages\n",
    "\n",
    "# Without pages\n",
    "def text_to_docs_without_pages(text: List[str], metadata: Dict[str, str]) -> List[Document]:\n",
    "    \"\"\"Converts list of strings to a list of Documents with metadata.\"\"\"\n",
    "    doc_chunks = []\n",
    "\n",
    "    for page in text:\n",
    "        text_splitter = RecursiveCharacterTextSplitter(\n",
    "            chunk_size=1000,\n",
    "            separators=[\"\\n\\n\", \"\\n\", \".\", \"!\", \"?\", \",\", \" \", \"\"],\n",
    "            chunk_overlap=200,\n",
    "        )\n",
    "        chunks = text_splitter.split_text(page)\n",
    "        for i, chunk in enumerate(chunks):\n",
    "            doc = Document(\n",
    "                page_content=chunk,\n",
    "                metadata={\n",
    "                    \"chunk\": i,\n",
    "                    **metadata,\n",
    "                },\n",
    "            )\n",
    "            doc_chunks.append(doc)\n",
    "\n",
    "    return doc_chunks"
   ]
  },
  {
   "cell_type": "code",
   "execution_count": 4,
   "id": "8c8573be",
   "metadata": {},
   "outputs": [
    {
     "name": "stdout",
     "output_type": "stream",
     "text": [
      "[\"Nguyen Thanh Phong\\nGolang Developer\\nDate of birth: April, 29th 1997\\nGender: Male\\nPhone: 0832210125\\nEmail: thanhphong9718@gmail.com\\nAddress: 5/3 Le Duc Tho Street, Go Vap District, Ho Chi Minh City\\nEDUCATION\\nSep 2015 - Sep 2019 HUTECH University\\nMajor: Software Technology\\nRanking: Good\\nWORK EXPERIENCE\\nJan 2023 - Present Phenikaa MaaS\\nPosition: Golang Developer\\nProject information:\\n- MaaS Connect App (A comprehensive HR connection solution and\\nface recognition for some client like: FE Credit, link:\\nhttps://maasconnect.vn)\\n- VF Staff XMĐ App (A smart application to help manage and organize\\nevents effectively for VinFast employees)\\nMain responsibilities:\\n- Discuss with teams and client's team to come up with solutions\\n- Read and analyze the requirement\\n- Design and implement APIs\\n- Write unit test using Go’s testing package\\n- API integration\\n- Fix bugs\\nTechnology used:\\n- Programming Languages: Golang\\n- Lib: Gin, ORM (Gorm), Swagger, GoAdmin\\n- Cache: Redis\\n- Database: Postgresql\\n- Other: Docker, Cronjob, JWT\\nJun 2022 - Dec 2022 Ban Vien\\nPosition: Golang Developer (working onsite at VIB bank)\\nProject information:\\n- MyVIB 2.0 App Mobile banking\\nMain responsibilities:\\n- Read and analyze the requirement\\n- Design and implement APIs\\n- Write unit test using Go’s testing package\\n- Improve features with a large number of users- Integrate with master card API and some other vendors\\nlike UrBox,Got It\\n- Fix bugs\\nTechnology used:\\n- Programming Languages: Golang\\n- Lib: Gorilla/mux, ORM (Gorm), Swagger, Go-kit\\n- Message queue: RabbitMQ\\n- Cache: Redis\\n- Database: Postgresql\\n- Other: Docker, Cronjob, JWT, Microservices\\nOct 2020 - May 2022 S3 Corp\\nPosition: Golang Developer\\nProject information:\\n- The SP Utilities app. With the app, customers can learn and manage\\ntheir utilities consumption, analyse and reduce their carbon footprint,\\nand get rewarded along the way and allows users to make bill payments\\nMain responsibilities:\\n- Analyze and design the requirement from customer's document\\n- Design and implement APIs based on detail design\\n- Implement the Admin UI\\n- Write unit test using Go’s testing package\\n- Fix issues via feedback the customers\\n- Working with client\\nTechnology used:\\n- Programming Languages:\\n+ Golang: Net/http, Go-chi, Goroutines, Testify, Go ORM(sqlboiler)\\n- Database: PostgreSQL\\n- Front-end:\\n+ ReactJS: React hooks\\n- Others: GraphQL, Docker, K8s, Redis, RabbitMQ,\\nJWT, Microservices\\nMay 2020 - Sep 2020 FPT Software HCM\\nPosition: Java Developer\\nProject information:\\n- The project entitled “Telecom management system” deals with fully\\nautomated system used by the Telecom department. The main\\nobjective of this project is to automate the services provided by telecom\\ncompanies, by which customer can use all the services online. A\\ncustomer can apply for a new telephone connection or internet by filling\\nthe form and can request for transferring phone or internet connection\\nto another location\\nMain responsibilities:\\n- Read and analyze the requirement from customer's document\\n- Implement screen based on Detail Design\\n- Executing unit test\\n- Fix issues via feedback the customers\\nTechnology used:\\n- Programming Languages: Java, JavaScript\\n- Framework: Spring MVC - Mybatis framework, Spring Security\\n- Database: Oracle- Library: JQuery, JSTL\\nSep 2019 - Apr 2020 FPT Software DA NANG\\nPosition: Java Developer\\nProject information:\\n- Logistics management website for Japanese customer\\nMain responsibilities:\\n- Read and analyze the requirement\\n- Coding function based on Detail Design\\n- Write test case (Unit Test) and screen capture for case by case\\n- Maintenance the system according to customer requirements\\n- Fix issues via feedback the customers\\nTechnology used:\\n- Programming Languages: Java, JavaScript\\n- Framework: Struts1 + JDBC\\n- Database: PostgreSQL\\nMay 2019 - Aug 2019 FPT Software HCM\\nPosition: Fresher\\nProject information:\\n- Student management is website management about student\\ninformation storage, including grades and class, login with\\nauthentication is administrator and user\\nMain responsibilities:\\n- Read and analyze the requirement of mentor\\n- Analyze database\\n- Design and implement APIs at backend service\\nTechnology used:\\n- Programming Languages: Java\\n- Framework: Spring Boot, Hibernate\\n- Database: MySQL\\n- Front-end: Angular 8\\nCERTIFICATIONS\\n2019 B1 - English Certification\\nTOOLS & IDE\\n- Goland\\n- Eclipse\\n- Visual Studio Code\\n- Source Tree\\n- SVN\\n- Git\\n- Oracle SQL Developer\\n- MySQL Workbench\\n- Docker\\n- Dbeaver\\n- Postman\\n© topcv.vn\"]\n",
      "{'title': '', 'author': '', 'creation_date': ''}\n",
      "Execution time: 0.20105695724487305 seconds\n"
     ]
    }
   ],
   "source": [
    "if __name__ == \"__main__\":\n",
    "    load_dotenv()\n",
    "\n",
    "    start_time = time.time()\n",
    "\n",
    "    # Step 1: Parse PDF\n",
    "    file_path = \"sample/resume_8.pdf\"\n",
    "\n",
    "    raw_pages, metadata = parse_pdf_without_pages(file_path)\n",
    "    print(raw_pages)\n",
    "    print(metadata)\n",
    "\n",
    "    end_time = time.time()\n",
    "    execution_time = end_time - start_time\n",
    "    print(f\"Execution time: {execution_time} seconds\")"
   ]
  },
  {
   "cell_type": "code",
   "execution_count": 12,
   "id": "6358da7a",
   "metadata": {},
   "outputs": [
    {
     "data": {
      "text/plain": [
       "[\"FULL STACK ENGINEER\\nAbout us\\nQode is dedicated to helping technical talent around the world find meaningful careers\\nthat match their skills and interests. Our platform provides a range of resources and\\ntools that empower job seekers to take control of their careers and connect with top\\nemployers across a variety of industries. We believe that every individual deserves to\\nfind work that they're passionate about, and we are committed to making that vision a\\nreality.\\nQode's team of experienced professionals is passionate about creating a better world of\\nwork by providing innovative solutions that improve the job search process for both job\\nseekers and employers. We believe in transparency, trust, and collaboration, and we\\nstrive to build strong relationships with our customers and partners. Through our\\nplatform, we aim to create a more engaged and fulfilled global workforce that drives\\ninnovation and growth.\\nResponsibilities\\n● Design and build a marketplace for tech talents and recruiters everywhere in the\\nworld (new product).\\n● Participate in hiring and building the technical team (new team).\\n● Participate in defining and improving the product.\\n● Work closely with the entire product development team, involve in all the product\\ndevelopment activities and interact with other departments.\\n● Seek to understand and satisfy our customers’ needs and problems.\\nQualifications\\nMust-have\\n● 3+ years of experience of web development. Strong experience of backend and\\nAPI design.\\n● Understand deeply and use these technologies effectively: javascript, node.js,\\nreact, next.js.\\n● Familiar with popular relational and NoSQL databases.\\n● Good understanding of web app security, scalability and performance.\\n● Good product mindset and ownership.\\n● Can communicate in English (meetings, brainstorming, presentations).\\nNice-to-have\\n● Knowledge of system design.\\n● Knowledge of UI/UX, design systems.● Knowledge of public clouds (AWS, GCP, Azure).\\n● Knowledge of AI/ML.\"]"
      ]
     },
     "execution_count": 12,
     "metadata": {},
     "output_type": "execute_result"
    }
   ],
   "source": [
    "raw_pages"
   ]
  },
  {
   "cell_type": "code",
   "execution_count": 5,
   "id": "95e67543",
   "metadata": {},
   "outputs": [],
   "source": [
    "# Step 2: Create text chunks\n",
    "cleaning_functions = [\n",
    "    merge_hyphenated_words,\n",
    "    fix_newlines,\n",
    "    remove_multiple_newlines,\n",
    "    ]\n",
    "cleaned_text_pdf = clean_text_without_pages(raw_pages, cleaning_functions)\n",
    "document_chunks = text_to_docs_without_pages(cleaned_text_pdf, metadata)\n",
    "\n"
   ]
  },
  {
   "cell_type": "code",
   "execution_count": 6,
   "id": "1deefa18",
   "metadata": {},
   "outputs": [
    {
     "data": {
      "text/plain": [
       "[\"Nguyen Thanh Phong Golang Developer Date of birth: April, 29th 1997 Gender: Male Phone: 0832210125 Email: thanhphong9718@gmail.com Address: 5/3 Le Duc Tho Street, Go Vap District, Ho Chi Minh City EDUCATION Sep 2015 - Sep 2019 HUTECH University Major: Software Technology Ranking: Good WORK EXPERIENCE Jan 2023 - Present Phenikaa MaaS Position: Golang Developer Project information: - MaaS Connect App (A comprehensive HR connection solution and face recognition for some client like: FE Credit, link: https://maasconnect.vn) - VF Staff XMĐ App (A smart application to help manage and organize events effectively for VinFast employees) Main responsibilities: - Discuss with teams and client's team to come up with solutions - Read and analyze the requirement - Design and implement APIs - Write unit test using Go’s testing package - API integration - Fix bugs Technology used: - Programming Languages: Golang - Lib: Gin, ORM (Gorm), Swagger, GoAdmin - Cache: Redis - Database: Postgresql - Other: Docker, Cronjob, JWT Jun 2022 - Dec 2022 Ban Vien Position: Golang Developer (working onsite at VIB bank) Project information: - MyVIB 2.0 App Mobile banking Main responsibilities: - Read and analyze the requirement - Design and implement APIs - Write unit test using Go’s testing package - Improve features with a large number of users- Integrate with master card API and some other vendors like UrBox,Got It - Fix bugs Technology used: - Programming Languages: Golang - Lib: Gorilla/mux, ORM (Gorm), Swagger, Go-kit - Message queue: RabbitMQ - Cache: Redis - Database: Postgresql - Other: Docker, Cronjob, JWT, Microservices Oct 2020 - May 2022 S3 Corp Position: Golang Developer Project information: - The SP Utilities app. With the app, customers can learn and manage their utilities consumption, analyse and reduce their carbon footprint, and get rewarded along the way and allows users to make bill payments Main responsibilities: - Analyze and design the requirement from customer's document - Design and implement APIs based on detail design - Implement the Admin UI - Write unit test using Go’s testing package - Fix issues via feedback the customers - Working with client Technology used: - Programming Languages: + Golang: Net/http, Go-chi, Goroutines, Testify, Go ORM(sqlboiler) - Database: PostgreSQL - Front-end: + ReactJS: React hooks - Others: GraphQL, Docker, K8s, Redis, RabbitMQ, JWT, Microservices May 2020 - Sep 2020 FPT Software HCM Position: Java Developer Project information: - The project entitled “Telecom management system” deals with fully automated system used by the Telecom department. The main objective of this project is to automate the services provided by telecom companies, by which customer can use all the services online. A customer can apply for a new telephone connection or internet by filling the form and can request for transferring phone or internet connection to another location Main responsibilities: - Read and analyze the requirement from customer's document - Implement screen based on Detail Design - Executing unit test - Fix issues via feedback the customers Technology used: - Programming Languages: Java, JavaScript - Framework: Spring MVC - Mybatis framework, Spring Security - Database: Oracle- Library: JQuery, JSTL Sep 2019 - Apr 2020 FPT Software DA NANG Position: Java Developer Project information: - Logistics management website for Japanese customer Main responsibilities: - Read and analyze the requirement - Coding function based on Detail Design - Write test case (Unit Test) and screen capture for case by case - Maintenance the system according to customer requirements - Fix issues via feedback the customers Technology used: - Programming Languages: Java, JavaScript - Framework: Struts1 + JDBC - Database: PostgreSQL May 2019 - Aug 2019 FPT Software HCM Position: Fresher Project information: - Student management is website management about student information storage, including grades and class, login with authentication is administrator and user Main responsibilities: - Read and analyze the requirement of mentor - Analyze database - Design and implement APIs at backend service Technology used: - Programming Languages: Java - Framework: Spring Boot, Hibernate - Database: MySQL - Front-end: Angular 8 CERTIFICATIONS 2019 B1 - English Certification TOOLS & IDE - Goland - Eclipse - Visual Studio Code - Source Tree - SVN - Git - Oracle SQL Developer - MySQL Workbench - Docker - Dbeaver - Postman © topcv.vn\"]"
      ]
     },
     "execution_count": 6,
     "metadata": {},
     "output_type": "execute_result"
    }
   ],
   "source": [
    "cleaned_text_pdf"
   ]
  },
  {
   "cell_type": "code",
   "execution_count": 15,
   "id": "05101f65",
   "metadata": {},
   "outputs": [
    {
     "data": {
      "text/plain": [
       "[Document(page_content=\"FULL STACK ENGINEER About us Qode is dedicated to helping technical talent around the world find meaningful careers that match their skills and interests. Our platform provides a range of resources and tools that empower job seekers to take control of their careers and connect with top employers across a variety of industries. We believe that every individual deserves to find work that they're passionate about, and we are committed to making that vision a reality. Qode's team of experienced professionals is passionate about creating a better world of work by providing innovative solutions that improve the job search process for both job seekers and employers. We believe in transparency, trust, and collaboration, and we strive to build strong relationships with our customers and partners. Through our platform, we aim to create a more engaged and fulfilled global workforce that drives innovation and growth. Responsibilities ● Design and build a marketplace for tech talents and recruiters\", metadata={'chunk': 0, 'title': '', 'author': '', 'creation_date': ''}),\n",
       " Document(page_content='hrough our platform, we aim to create a more engaged and fulfilled global workforce that drives innovation and growth. Responsibilities ● Design and build a marketplace for tech talents and recruiters everywhere in the world (new product). ● Participate in hiring and building the technical team (new team). ● Participate in defining and improving the product. ● Work closely with the entire product development team, involve in all the product development activities and interact with other departments. ● Seek to understand and satisfy our customers’ needs and problems. Qualifications Must-have ● 3+ years of experience of web development. Strong experience of backend and API design. ● Understand deeply and use these technologies effectively: javascript, node.js, react, next.js. ● Familiar with popular relational and NoSQL databases. ● Good understanding of web app security, scalability and performance. ● Good product mindset and ownership. ● Can communicate in English (meetings, brainstorm', metadata={'chunk': 1, 'title': '', 'author': '', 'creation_date': ''}),\n",
       " Document(page_content='popular relational and NoSQL databases. ● Good understanding of web app security, scalability and performance. ● Good product mindset and ownership. ● Can communicate in English (meetings, brainstorming, presentations). Nice-to-have ● Knowledge of system design. ● Knowledge of UI/UX, design systems.● Knowledge of public clouds (AWS, GCP, Azure). ● Knowledge of AI/ML.', metadata={'chunk': 2, 'title': '', 'author': '', 'creation_date': ''})]"
      ]
     },
     "execution_count": 15,
     "metadata": {},
     "output_type": "execute_result"
    }
   ],
   "source": [
    "document_chunks"
   ]
  },
  {
   "cell_type": "code",
   "execution_count": 16,
   "id": "be6690e9",
   "metadata": {},
   "outputs": [],
   "source": [
    "    # Optional: Reduce embedding cost by only using the first 23 pages\n",
    "#     document_chunks = document_chunks[:70]\n",
    "\n",
    "    # Step 3 + 4: Generate embeddings and store them in DB\n",
    "embeddings = OpenAIEmbeddings()\n",
    "\n",
    "vector_store = Chroma.from_documents(\n",
    "        document_chunks,\n",
    "        embeddings,\n",
    "        collection_name=\"jd_1\",\n",
    "        persist_directory=\"data/chroma/jd\",\n",
    "    )\n",
    "\n",
    "    # Save DB locally\n",
    "vector_store.persist()"
   ]
  },
  {
   "cell_type": "code",
   "execution_count": 21,
   "id": "a06f2813",
   "metadata": {},
   "outputs": [],
   "source": [
    "# from langchain.vectorstores import FAISS\n",
    "\n",
    "# faiss_store = FAISS.from_documents(\n",
    "#     document_chunks,\n",
    "#     embeddings,\n",
    "# )\n",
    "\n",
    "# # Save DB locally\n",
    "# faiss_store.save_local(\"data/faiss/resume_sample_1\")\n",
    "\n"
   ]
  },
  {
   "cell_type": "code",
   "execution_count": 19,
   "id": "b3684651",
   "metadata": {},
   "outputs": [
    {
     "name": "stdout",
     "output_type": "stream",
     "text": [
      "Collecting faiss-cpu\n",
      "  Using cached faiss_cpu-1.7.4-cp310-cp310-macosx_11_0_arm64.whl (2.7 MB)\n",
      "Installing collected packages: faiss-cpu\n",
      "Successfully installed faiss-cpu-1.7.4\n"
     ]
    }
   ],
   "source": [
    "!pip install faiss-cpu"
   ]
  },
  {
   "cell_type": "code",
   "execution_count": null,
   "id": "270665e0",
   "metadata": {},
   "outputs": [],
   "source": []
  }
 ],
 "metadata": {
  "kernelspec": {
   "display_name": "Python 3 (ipykernel)",
   "language": "python",
   "name": "python3"
  },
  "language_info": {
   "codemirror_mode": {
    "name": "ipython",
    "version": 3
   },
   "file_extension": ".py",
   "mimetype": "text/x-python",
   "name": "python",
   "nbconvert_exporter": "python",
   "pygments_lexer": "ipython3",
   "version": "3.10.11"
  }
 },
 "nbformat": 4,
 "nbformat_minor": 5
}
