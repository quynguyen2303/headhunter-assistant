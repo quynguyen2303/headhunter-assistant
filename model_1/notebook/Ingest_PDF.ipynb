{
 "cells": [
  {
   "cell_type": "code",
   "execution_count": 7,
   "id": "a71f6fb0",
   "metadata": {},
   "outputs": [
    {
     "name": "stdout",
     "output_type": "stream",
     "text": [
      "Requirement already satisfied: pypdf in /Library/Frameworks/Python.framework/Versions/3.10/lib/python3.10/site-packages (3.9.0)\n",
      "Collecting pdfplumber\n",
      "  Obtaining dependency information for pdfplumber from https://files.pythonhosted.org/packages/c1/f9/1a41afffe5e7a98ab9b6a6dd3dab9d99b677fae2536f676397c4506f6554/pdfplumber-0.10.2-py3-none-any.whl.metadata\n",
      "  Downloading pdfplumber-0.10.2-py3-none-any.whl.metadata (35 kB)\n",
      "Requirement already satisfied: pdfminer.six==20221105 in /Library/Frameworks/Python.framework/Versions/3.10/lib/python3.10/site-packages (from pdfplumber) (20221105)\n",
      "Requirement already satisfied: Pillow>=9.1 in /Library/Frameworks/Python.framework/Versions/3.10/lib/python3.10/site-packages (from pdfplumber) (10.0.0)\n",
      "Collecting pypdfium2>=4.18.0 (from pdfplumber)\n",
      "  Obtaining dependency information for pypdfium2>=4.18.0 from https://files.pythonhosted.org/packages/3b/28/a62cc4c717be9441a987476e3b91028f989584e14ba6f7bf0892b3a28edc/pypdfium2-4.18.0-py3-none-macosx_11_0_arm64.whl.metadata\n",
      "  Downloading pypdfium2-4.18.0-py3-none-macosx_11_0_arm64.whl.metadata (41 kB)\n",
      "\u001b[2K     \u001b[38;2;114;156;31m━━━━━━━━━━━━━━━━━━━━━━━━━━━━━━━━━━━━━━━━\u001b[0m \u001b[32m41.3/41.3 kB\u001b[0m \u001b[31m3.0 MB/s\u001b[0m eta \u001b[36m0:00:00\u001b[0m\n",
      "\u001b[?25hRequirement already satisfied: charset-normalizer>=2.0.0 in /Library/Frameworks/Python.framework/Versions/3.10/lib/python3.10/site-packages (from pdfminer.six==20221105->pdfplumber) (3.1.0)\n",
      "Requirement already satisfied: cryptography>=36.0.0 in /Library/Frameworks/Python.framework/Versions/3.10/lib/python3.10/site-packages (from pdfminer.six==20221105->pdfplumber) (41.0.1)\n",
      "Requirement already satisfied: cffi>=1.12 in /Library/Frameworks/Python.framework/Versions/3.10/lib/python3.10/site-packages (from cryptography>=36.0.0->pdfminer.six==20221105->pdfplumber) (1.15.1)\n",
      "Requirement already satisfied: pycparser in /Library/Frameworks/Python.framework/Versions/3.10/lib/python3.10/site-packages (from cffi>=1.12->cryptography>=36.0.0->pdfminer.six==20221105->pdfplumber) (2.21)\n",
      "Downloading pdfplumber-0.10.2-py3-none-any.whl (47 kB)\n",
      "\u001b[2K   \u001b[38;2;114;156;31m━━━━━━━━━━━━━━━━━━━━━━━━━━━━━━━━━━━━━━━━\u001b[0m \u001b[32m47.5/47.5 kB\u001b[0m \u001b[31m5.1 MB/s\u001b[0m eta \u001b[36m0:00:00\u001b[0m\n",
      "\u001b[?25hUsing cached pypdfium2-4.18.0-py3-none-macosx_11_0_arm64.whl (2.8 MB)\n",
      "Installing collected packages: pypdfium2, pdfplumber\n",
      "Successfully installed pdfplumber-0.10.2 pypdfium2-4.18.0\n",
      "Collecting PyPDF4\n",
      "  Downloading PyPDF4-1.27.0.tar.gz (63 kB)\n",
      "\u001b[2K     \u001b[38;2;114;156;31m━━━━━━━━━━━━━━━━━━━━━━━━━━━━━━━━━━━━━━━━\u001b[0m \u001b[32m63.9/63.9 kB\u001b[0m \u001b[31m1.3 MB/s\u001b[0m eta \u001b[36m0:00:00\u001b[0m MB/s\u001b[0m eta \u001b[36m0:00:01\u001b[0m\n",
      "\u001b[?25h  Installing build dependencies ... \u001b[?25ldone\n",
      "\u001b[?25h  Getting requirements to build wheel ... \u001b[?25ldone\n",
      "\u001b[?25h  Preparing metadata (pyproject.toml) ... \u001b[?25ldone\n",
      "\u001b[?25hBuilding wheels for collected packages: PyPDF4\n",
      "  Building wheel for PyPDF4 (pyproject.toml) ... \u001b[?25ldone\n",
      "\u001b[?25h  Created wheel for PyPDF4: filename=PyPDF4-1.27.0-py3-none-any.whl size=61225 sha256=4d1bf5b6e640bcd074bfcd83b8bae5d881c38672697a95aa1545b246b8222a82\n",
      "  Stored in directory: /Users/quy/Library/Caches/pip/wheels/83/cc/14/cb307e5c99235c4497c7895cdb60b4f7ba2a738b6a5fc0d423\n",
      "Successfully built PyPDF4\n",
      "Installing collected packages: PyPDF4\n",
      "Successfully installed PyPDF4-1.27.0\n"
     ]
    }
   ],
   "source": [
    "!pip install pypdf\n",
    "!pip install pdfplumber\n",
    "!pip install PyPDF4"
   ]
  },
  {
   "cell_type": "code",
   "execution_count": 2,
   "id": "b6217281",
   "metadata": {},
   "outputs": [],
   "source": [
    "from langchain.document_loaders import PyPDFLoader\n",
    "\n",
    "loader = PyPDFLoader(\"../src/data/sample.pdf\")\n",
    "pages = loader.load_and_split()"
   ]
  },
  {
   "cell_type": "code",
   "execution_count": 4,
   "id": "7fd8a6e8",
   "metadata": {},
   "outputs": [
    {
     "data": {
      "text/plain": [
       "3"
      ]
     },
     "execution_count": 4,
     "metadata": {},
     "output_type": "execute_result"
    }
   ],
   "source": [
    "len(pages)"
   ]
  },
  {
   "cell_type": "code",
   "execution_count": 6,
   "id": "ff5f9f52",
   "metadata": {},
   "outputs": [
    {
     "data": {
      "text/plain": [
       "Document(page_content=\"●\\nC o a c h i n g\\na n d\\nt r a i n i n g\\nf o r\\nt e a m\\nm e m b e r\\n●\\nA p p l y\\nD e s i g n\\np a t t e r n\\na n d\\ns o f t w a r e\\na r c h i t e c t u r e\\nr i g o r o u s l y\\nf o r\\nC o m p a n y ' s\\nC o r e\\nF r a m e w o r k\\n●\\nR e s e a r c h\\nD e e p\\nL e a r n i n g\\nt e c h n i q u e\\nf o r\\nm e d i c a l\\ni m a g e\\nc l a s s i ﬁ c a t i o n .\\nResult:\\n●\\nC o n t r i b u t e d\\ns u c c e s s f u l l y\\nt o\\nt h e\\na r c h i t e c t u r e\\nd e s i g n\\na n d\\nc o d i n g\\np h a s e\\no f\\nc o m p a n y\\nf r a m e w o r k\\na s\\nw e l l\\na s\\nn e w\\np r o d u c t\\nd e v e l o p m e n t\\n●\\nR e c e i v e d\\ne x c e l l e n t\\np e r f o r m a n c e\\nr e v i e w\\ne v e r y\\ny e a r\\nCodix,\\nV i e t n a m\\n—\\nC\\n&\\nS Q L\\nD e v e l o p e r \\nh t t p s : / / w w w . c o d i x . e u / e n\\nJ u l y\\n2 0 1 3\\n-\\nF e b\\n2 0 1 4\\nD e v e l o p\\nE n t e r p r i s e\\nS o l u t i o n\\nS o f t w a r e\\nf o r\\nF i n a n c i a l\\nE u r o p e a n\\nO r g a n i z a t i o n :\\nb a n k ,\\nf a c t o r i n g\\nc o m p a n y ,\\nI n s u r a n c e\\nC o r p o r a t i o n\\n… . .\\ne t c\\nRenesas,\\nV i e t N a m\\n—\\nE m b e d d e d\\nS o f t w a r e\\nE n g i n e e r \\nh t t p s : / / w w w . r e n e s a s . c o m / s g / e n /\\nM a r c h\\n2 0 1 2\\n-\\nJ u l y\\n2 0 1 3\\nD e v e l o p\\nM u l t i m e d i a\\nP l a t f o r m\\no n\\nE m b e d d e d\\nL i n u x\\nO p e r a t i n g \\nS y s t e m\\nf o r\\nA u t o m o t i v e\\ns y s t e m\\nE D U C A T I O N\\nHo\\nChi\\nMinh\\nUniversity\\nof\\nScience,\\nS o f t w a r e\\nE n g i n e e r i n g\\nS e p t\\n2 0 0 8\\n-\\nS e p t\\n2 0 1 2\\nCoursera\\nDeep\\nLearning\\nSpecialization\\n:\\nhttps://www.coursera.org/account/accomplishments/specialization/cer\\ntiﬁcate/T7D7ZQLJCF5E\", metadata={'source': '../src/data/sample.pdf', 'page': 2})"
      ]
     },
     "execution_count": 6,
     "metadata": {},
     "output_type": "execute_result"
    }
   ],
   "source": [
    "pages[2]"
   ]
  },
  {
   "cell_type": "code",
   "execution_count": 9,
   "id": "76a92109",
   "metadata": {},
   "outputs": [],
   "source": [
    "import pdfplumber\n",
    "import PyPDF4\n",
    "import re\n",
    "import os\n",
    "import sys\n",
    "from typing import Callable, List, Tuple, Dict\n",
    "\n",
    "from langchain.docstore.document import Document\n",
    "from langchain.text_splitter import RecursiveCharacterTextSplitter\n",
    "from langchain.vectorstores import Chroma\n",
    "from langchain.embeddings import OpenAIEmbeddings\n",
    "\n",
    "import time\n",
    "\n",
    "\n",
    "from dotenv import load_dotenv"
   ]
  },
  {
   "cell_type": "code",
   "execution_count": 24,
   "id": "c81eec76",
   "metadata": {},
   "outputs": [],
   "source": [
    "def extract_metadata_from_pdf(file_path: str) -> dict:\n",
    "    with open(file_path, \"rb\") as pdf_file:\n",
    "        reader = PyPDF4.PdfFileReader(pdf_file)  # Change this line\n",
    "        metadata = reader.getDocumentInfo()\n",
    "        return {\n",
    "            \"title\": metadata.get(\"/Title\", \"\").strip(),\n",
    "            \"author\": metadata.get(\"/Author\", \"\").strip(),\n",
    "            \"creation_date\": metadata.get(\"/CreationDate\", \"\").strip(),\n",
    "        }\n",
    "\n",
    "\n",
    "def extract_pages_from_pdf(file_path: str) -> List[Tuple[int, str]]:\n",
    "    \"\"\"\n",
    "    Extracts the text from each page of the PDF.\n",
    "\n",
    "    :param file_path: The path to the PDF file.\n",
    "    :return: A list of tuples containing the page number and the extracted text.\n",
    "    \"\"\"\n",
    "    if not os.path.isfile(file_path):\n",
    "        raise FileNotFoundError(f\"File not found: {file_path}\")\n",
    "\n",
    "    with pdfplumber.open(file_path) as pdf:\n",
    "        pages = []\n",
    "        for page_num, page in enumerate(pdf.pages):\n",
    "            text = page.extract_text()\n",
    "            if text.strip():  # Check if extracted text is not empty\n",
    "                pages.append((page_num + 1, text))\n",
    "    return pages\n",
    "\n",
    "\n",
    "\n",
    "\n",
    "def parse_pdf(file_path: str) -> Tuple[List[Tuple[int, str]], Dict[str, str]]:\n",
    "    \"\"\"\n",
    "    Extracts the title and text from each page of the PDF.\n",
    "\n",
    "    :param file_path: The path to the PDF file.\n",
    "    :return: A tuple containing the title and a list of tuples with page numbers and extracted text.\n",
    "    \"\"\"\n",
    "    if not os.path.isfile(file_path):\n",
    "        raise FileNotFoundError(f\"File not found: {file_path}\")\n",
    "\n",
    "    metadata = extract_metadata_from_pdf(file_path)\n",
    "    pages = extract_pages_from_pdf(file_path)\n",
    "\n",
    "    return pages, metadata\n",
    "\n",
    "\n",
    "def merge_hyphenated_words(text: str) -> str:\n",
    "    return re.sub(r\"(\\w)-\\n(\\w)\", r\"\\1\\2\", text)\n",
    "\n",
    "\n",
    "def fix_newlines(text: str) -> str:\n",
    "    return re.sub(r\"(?<!\\n)\\n(?!\\n)\", \" \", text)\n",
    "\n",
    "\n",
    "def remove_multiple_newlines(text: str) -> str:\n",
    "    return re.sub(r\"\\n{2,}\", \"\\n\", text)\n",
    "\n",
    "\n",
    "def clean_text(\n",
    "    pages: List[Tuple[int, str]], cleaning_functions: List[Callable[[str], str]]\n",
    ") -> List[Tuple[int, str]]:\n",
    "    cleaned_pages = []\n",
    "    for page_num, text in pages:\n",
    "        for cleaning_function in cleaning_functions:\n",
    "            text = cleaning_function(text)\n",
    "        cleaned_pages.append((page_num, text))\n",
    "    return cleaned_pages\n",
    "\n",
    "\n",
    "\n",
    "def text_to_docs(text: List[str], metadata: Dict[str, str]) -> List[Document]:\n",
    "    \"\"\"Converts list of strings to a list of Documents with metadata.\"\"\"\n",
    "    doc_chunks = []\n",
    "\n",
    "    for page_num, page in text:\n",
    "        text_splitter = RecursiveCharacterTextSplitter(\n",
    "            chunk_size=1000,\n",
    "            separators=[\"\\n\\n\", \"\\n\", \".\", \"!\", \"?\", \",\", \" \", \"\"],\n",
    "            chunk_overlap=200,\n",
    "        )\n",
    "        chunks = text_splitter.split_text(page)\n",
    "        for i, chunk in enumerate(chunks):\n",
    "            doc = Document(\n",
    "                page_content=chunk,\n",
    "                metadata={\n",
    "                    \"page_number\": page_num,\n",
    "                    \"chunk\": i,\n",
    "                    \"source\": f\"p{page_num}-{i}\",\n",
    "                    **metadata,\n",
    "                },\n",
    "            )\n",
    "            doc_chunks.append(doc)\n",
    "\n",
    "    return doc_chunks\n",
    "\n",
    "#Without pages\n",
    "def parse_pdf_without_pages(file_path: str) -> Tuple[List[str], Dict[str, str]]:\n",
    "    \"\"\"\n",
    "    Extracts the title and text from each page of the PDF.\n",
    "\n",
    "    :param file_path: The path to the PDF file.\n",
    "    :return: A tuple containing the title and a list of tuples with page numbers and extracted text.\n",
    "    \"\"\"\n",
    "    if not os.path.isfile(file_path):\n",
    "        raise FileNotFoundError(f\"File not found: {file_path}\")\n",
    "\n",
    "    metadata = extract_metadata_from_pdf(file_path)\n",
    "    pages = extract_text_from_pdf(file_path)\n",
    "\n",
    "    return pages, metadata\n",
    "\n",
    "# Without pages\n",
    "def extract_text_from_pdf(file_path: str) -> List[str]:\n",
    "    \"\"\"\n",
    "    Extracts the text from each page of the PDF.\n",
    "\n",
    "    :param file_path: The path to the PDF file.\n",
    "    :return: A list of tuples containing the page number and the extracted text.\n",
    "    \"\"\"\n",
    "    if not os.path.isfile(file_path):\n",
    "        raise FileNotFoundError(f\"File not found: {file_path}\")\n",
    "\n",
    "    with pdfplumber.open(file_path) as pdf:\n",
    "        pages = []\n",
    "        text = \"\"\n",
    "        for page_num, page in enumerate(pdf.pages):\n",
    "            text += page.extract_text()\n",
    "        if text.strip():  # Check if extracted text is not empty\n",
    "            pages.append(text)\n",
    "    return pages\n",
    "\n",
    "# Without pages\n",
    "def clean_text_without_pages(\n",
    "    pages: List[str], cleaning_functions: List[Callable[[str], str]]\n",
    ") -> List[str]:\n",
    "    cleaned_pages = []\n",
    "    for text in pages:\n",
    "        for cleaning_function in cleaning_functions:\n",
    "            text = cleaning_function(text)\n",
    "        cleaned_pages.append(text)\n",
    "    return cleaned_pages\n",
    "\n",
    "# Without pages\n",
    "def text_to_docs_without_pages(text: List[str], metadata: Dict[str, str]) -> List[Document]:\n",
    "    \"\"\"Converts list of strings to a list of Documents with metadata.\"\"\"\n",
    "    doc_chunks = []\n",
    "\n",
    "    for page in text:\n",
    "        text_splitter = RecursiveCharacterTextSplitter(\n",
    "            chunk_size=1000,\n",
    "            separators=[\"\\n\\n\", \"\\n\", \".\", \"!\", \"?\", \",\", \" \", \"\"],\n",
    "            chunk_overlap=200,\n",
    "        )\n",
    "        chunks = text_splitter.split_text(page)\n",
    "        for i, chunk in enumerate(chunks):\n",
    "            doc = Document(\n",
    "                page_content=chunk,\n",
    "                metadata={\n",
    "                    \"chunk\": i,\n",
    "                    **metadata,\n",
    "                },\n",
    "            )\n",
    "            doc_chunks.append(doc)\n",
    "\n",
    "    return doc_chunks"
   ]
  },
  {
   "cell_type": "code",
   "execution_count": 11,
   "id": "8c8573be",
   "metadata": {},
   "outputs": [
    {
     "name": "stdout",
     "output_type": "stream",
     "text": [
      "[(1, \"District7\\nDo Ngoc Tan\\nHoChiMinhCity,Vietnam\\n(+84)772954324\\ndarkknightkhtn2008@gmail.com\\nI’maSoftwareEngineerwhohas strongpassionwithinnovation\\nscienceandtechnologies\\nhttps://www.linkedin.com/in/do-ngoc-tan-64260072/\\nEXPERIENCE SKILLS\\nLanguages:C++20,Rust\\nRustOpenSourceContributor-ForFun: Fluvioisa\\nGolang,Python,Javascript\\nhigh-performancedistributeddatastreamingplatformthat'swritteninRust,\\nbuilttomakeiteasytorunreal-timeapplications-https://www.fluvio.io/\\nMachineLearning:\\nPytorch\\nMay2023-Now\\n● Contributetofluvioopensource: Blockchain:Tendermint,\\nhttps://github.com/infinyon/fluvio Cosmos,Ethereum.\\nAWARDS\\nAStartupinDataPrivacy—LeadEngineer(Rust,C++)\\nApril2023-Now TopWinnerofBlockchain\\nHackathonEventHostedBy\\nTake theinitiativetore-writesystemfromJStoRust\\nPolicyPal\\nWorldQuant,Vietnam—SeniorEngineer/Lead\\nEngineer(C++):WorldQuant,LLCisaninternationalhedgefundand\\nquantitativeinvestmentmanagementfirmheadquarteredinOldGreenwich, LANGUAGES\\nConnecticut\\nhttps://www.worldquant.com/\\nVietnamese,English,\\nNov2020-April2023\\nFrench(basic)\\n● Writeandmaintainsoftwaretoingestandtransformdata\\nfordownstreamconsumption\\n● Processandanalyzefinancialmarketdata\\n● Leadateamof15developers in5countries,demonstrate\\nleadershipwithtraining,codereviewingandpropose\\nsolutionforhandlingtasks\\n● RustEvangelistofthefirm.\\nResult:\\n● Solvedmanycomplexandimportanttasks\\n● Leadtheteamtoachievebusinesstargetfromquant\\nreseacherssucessfully\\n● Gainpromotionandgoodperformancereviewfromleader\"), (2, \"GrasshopperAsia,VietnamandSingapore—High\\nFrequencyTradingSoftwareEngineer(C++/Rust):Grasshopperisa\\nleadingSingaporeanproprietarytradingfirmprovidingliquidityinglobal\\nmarkets\\nhttps://grasshopperasia.com/\\nAug2019-Nov2020\\n● Beingasa firstC++VietnameseSoftwareEngineer,and\\nbuilttheC++teaminVietnamthatworkingcloselywith\\nSingaporeteam\\n● MaintainandimplementHighfrequencyconnectivity\\nmoduleofbothmarketdataandorderexecution\\nconnectingtoexchanges:CME(implementedILink3\\nprotocol),SGX,OSE,TSE\\n● Finishtheimplementationoforderexecutionmodule\\nconnectedtoCMEviaIlink3protocol.\\n● Re-writesomeexecutionmodulesinRust\\nResult:\\n● Gainedtheverygoodperformanceevaluationfromheadof\\nengineering\\n● Saveforthecompany'scost5000USDeverymonthby\\nutilizingexistingCorvildatavendor\\nShareRing,Vietnam—SeniorBlockchainEngineer:Theworld’s\\nfirsttrustedtokenforsharingservices.Onewaytopayforsharingeverything,\\nnomatterwhatitisorwhereyouare.\\nhttps://sharering.network/en\\nFeb2018-Jul2019\\n● Buildingcompany’sownblockchainplatformfromscratch\\nbasedonTendermintandCosmos-SdkusingGolang\\n● Writingclientlibraryformobileandweb\\nfront-end/Back-endbyNodeJstointeractwithShareRing\\nblockchain.IalsowriteanewJSlibraryfortheTendermint\\nCommunity:https://github.com/TanNgocDo/Js-Amino\\nMaunaKeaTechnologies,VietnamandParis—R&D\\nSoftwareEngineer: MaunaKeaTechnologiesisaglobalmedicaldevice\\ncompanyfocusedonendomicroscopy.Theirflagshipproduct-Cellvizioisthe\\nadvancedtechnologygeneratesopticalbiopsiesusingtheworld'ssmallest\\nflexiblemicroscope,providingclinicianswithmicroscopicimagesoftissue\\ninstantaneouslyandinaminimally-invasivemanner\\nhttp://www.maunakeatech.com\\nFeb2014-Feb 2018\\n● Developcross-platformsoftwareforCellvizioMedical\\nDeviceandViewersoftwareforresearcher inDesktop\"), (3, \"● Coachingandtrainingforteammember\\n● ApplyDesignpatternandsoftwarearchitecturerigorously\\nforCompany'sCoreFramework\\n● ResearchDeepLearningtechniqueformedicalimage\\nclassification.\\nResult:\\n● Contributedsuccessfully tothearchitecturedesignand\\ncodingphaseofcompanyframeworkaswellasnew\\nproductdevelopment\\n● Received excellent performancerevieweveryyear\\nCodix,Vietnam—C&SQLDeveloper\\nhttps://www.codix.eu/en\\nJuly2013-Feb2014\\nDevelopEnterpriseSolutionSoftware forFinancialEuropean\\nOrganization:bank,factoringcompany,InsuranceCorporation…..\\netc\\nRenesas,VietNam—EmbeddedSoftwareEngineer\\nhttps://www.renesas.com/sg/en/\\nMarch2012-July2013\\nDevelopMultimediaPlatformonEmbeddedLinuxOperating\\nSystemforAutomotive system\\nEDUCATION\\nHoChiMinhUniversityofScience, SoftwareEngineering\\nSept2008-Sept2012\\nCoursera\\nDeepLearningSpecialization:\\nhttps://www.coursera.org/account/accomplishments/specialization/cer\\ntificate/T7D7ZQLJCF5E\")]\n",
      "{'title': 'Resume_edit', 'author': '', 'creation_date': ''}\n",
      "Execution time: 0.2151951789855957 seconds\n"
     ]
    }
   ],
   "source": [
    "if __name__ == \"__main__\":\n",
    "    load_dotenv()\n",
    "\n",
    "    start_time = time.time()\n",
    "\n",
    "    # Step 1: Parse PDF\n",
    "    file_path = \"../src/data/sample.pdf\"\n",
    "\n",
    "    # convert(file_path)\n",
    "\n",
    "    # if is_doc_or_docx_by_extension(file_path):\n",
    "    #     convert(file_path)\n",
    "    #     file_path = file_path.replace(\".docx\", \".pdf\")\n",
    "\n",
    "    raw_pages, metadata = parse_pdf(file_path)\n",
    "    print(raw_pages)\n",
    "    print(metadata)\n",
    "\n",
    "\n",
    "    end_time = time.time()\n",
    "    execution_time = end_time - start_time\n",
    "    print(f\"Execution time: {execution_time} seconds\")"
   ]
  },
  {
   "cell_type": "code",
   "execution_count": 12,
   "id": "6358da7a",
   "metadata": {},
   "outputs": [
    {
     "data": {
      "text/plain": [
       "[(1,\n",
       "  \"District7\\nDo Ngoc Tan\\nHoChiMinhCity,Vietnam\\n(+84)772954324\\ndarkknightkhtn2008@gmail.com\\nI’maSoftwareEngineerwhohas strongpassionwithinnovation\\nscienceandtechnologies\\nhttps://www.linkedin.com/in/do-ngoc-tan-64260072/\\nEXPERIENCE SKILLS\\nLanguages:C++20,Rust\\nRustOpenSourceContributor-ForFun: Fluvioisa\\nGolang,Python,Javascript\\nhigh-performancedistributeddatastreamingplatformthat'swritteninRust,\\nbuilttomakeiteasytorunreal-timeapplications-https://www.fluvio.io/\\nMachineLearning:\\nPytorch\\nMay2023-Now\\n● Contributetofluvioopensource: Blockchain:Tendermint,\\nhttps://github.com/infinyon/fluvio Cosmos,Ethereum.\\nAWARDS\\nAStartupinDataPrivacy—LeadEngineer(Rust,C++)\\nApril2023-Now TopWinnerofBlockchain\\nHackathonEventHostedBy\\nTake theinitiativetore-writesystemfromJStoRust\\nPolicyPal\\nWorldQuant,Vietnam—SeniorEngineer/Lead\\nEngineer(C++):WorldQuant,LLCisaninternationalhedgefundand\\nquantitativeinvestmentmanagementfirmheadquarteredinOldGreenwich, LANGUAGES\\nConnecticut\\nhttps://www.worldquant.com/\\nVietnamese,English,\\nNov2020-April2023\\nFrench(basic)\\n● Writeandmaintainsoftwaretoingestandtransformdata\\nfordownstreamconsumption\\n● Processandanalyzefinancialmarketdata\\n● Leadateamof15developers in5countries,demonstrate\\nleadershipwithtraining,codereviewingandpropose\\nsolutionforhandlingtasks\\n● RustEvangelistofthefirm.\\nResult:\\n● Solvedmanycomplexandimportanttasks\\n● Leadtheteamtoachievebusinesstargetfromquant\\nreseacherssucessfully\\n● Gainpromotionandgoodperformancereviewfromleader\"),\n",
       " (2,\n",
       "  \"GrasshopperAsia,VietnamandSingapore—High\\nFrequencyTradingSoftwareEngineer(C++/Rust):Grasshopperisa\\nleadingSingaporeanproprietarytradingfirmprovidingliquidityinglobal\\nmarkets\\nhttps://grasshopperasia.com/\\nAug2019-Nov2020\\n● Beingasa firstC++VietnameseSoftwareEngineer,and\\nbuilttheC++teaminVietnamthatworkingcloselywith\\nSingaporeteam\\n● MaintainandimplementHighfrequencyconnectivity\\nmoduleofbothmarketdataandorderexecution\\nconnectingtoexchanges:CME(implementedILink3\\nprotocol),SGX,OSE,TSE\\n● Finishtheimplementationoforderexecutionmodule\\nconnectedtoCMEviaIlink3protocol.\\n● Re-writesomeexecutionmodulesinRust\\nResult:\\n● Gainedtheverygoodperformanceevaluationfromheadof\\nengineering\\n● Saveforthecompany'scost5000USDeverymonthby\\nutilizingexistingCorvildatavendor\\nShareRing,Vietnam—SeniorBlockchainEngineer:Theworld’s\\nfirsttrustedtokenforsharingservices.Onewaytopayforsharingeverything,\\nnomatterwhatitisorwhereyouare.\\nhttps://sharering.network/en\\nFeb2018-Jul2019\\n● Buildingcompany’sownblockchainplatformfromscratch\\nbasedonTendermintandCosmos-SdkusingGolang\\n● Writingclientlibraryformobileandweb\\nfront-end/Back-endbyNodeJstointeractwithShareRing\\nblockchain.IalsowriteanewJSlibraryfortheTendermint\\nCommunity:https://github.com/TanNgocDo/Js-Amino\\nMaunaKeaTechnologies,VietnamandParis—R&D\\nSoftwareEngineer: MaunaKeaTechnologiesisaglobalmedicaldevice\\ncompanyfocusedonendomicroscopy.Theirflagshipproduct-Cellvizioisthe\\nadvancedtechnologygeneratesopticalbiopsiesusingtheworld'ssmallest\\nflexiblemicroscope,providingclinicianswithmicroscopicimagesoftissue\\ninstantaneouslyandinaminimally-invasivemanner\\nhttp://www.maunakeatech.com\\nFeb2014-Feb 2018\\n● Developcross-platformsoftwareforCellvizioMedical\\nDeviceandViewersoftwareforresearcher inDesktop\"),\n",
       " (3,\n",
       "  \"● Coachingandtrainingforteammember\\n● ApplyDesignpatternandsoftwarearchitecturerigorously\\nforCompany'sCoreFramework\\n● ResearchDeepLearningtechniqueformedicalimage\\nclassification.\\nResult:\\n● Contributedsuccessfully tothearchitecturedesignand\\ncodingphaseofcompanyframeworkaswellasnew\\nproductdevelopment\\n● Received excellent performancerevieweveryyear\\nCodix,Vietnam—C&SQLDeveloper\\nhttps://www.codix.eu/en\\nJuly2013-Feb2014\\nDevelopEnterpriseSolutionSoftware forFinancialEuropean\\nOrganization:bank,factoringcompany,InsuranceCorporation…..\\netc\\nRenesas,VietNam—EmbeddedSoftwareEngineer\\nhttps://www.renesas.com/sg/en/\\nMarch2012-July2013\\nDevelopMultimediaPlatformonEmbeddedLinuxOperating\\nSystemforAutomotive system\\nEDUCATION\\nHoChiMinhUniversityofScience, SoftwareEngineering\\nSept2008-Sept2012\\nCoursera\\nDeepLearningSpecialization:\\nhttps://www.coursera.org/account/accomplishments/specialization/cer\\ntificate/T7D7ZQLJCF5E\")]"
      ]
     },
     "execution_count": 12,
     "metadata": {},
     "output_type": "execute_result"
    }
   ],
   "source": [
    "raw_pages"
   ]
  },
  {
   "cell_type": "code",
   "execution_count": 13,
   "id": "95e67543",
   "metadata": {},
   "outputs": [],
   "source": [
    "    # Step 2: Create text chunks\n",
    "cleaning_functions = [\n",
    "    merge_hyphenated_words,\n",
    "    fix_newlines,\n",
    "    remove_multiple_newlines,\n",
    "    ]\n",
    "cleaned_text_pdf = clean_text(raw_pages, cleaning_functions)\n",
    "document_chunks = text_to_docs(cleaned_text_pdf, metadata)\n",
    "\n",
    "#     # Optional: Reduce embedding cost by only using the first 23 pages\n",
    "#     document_chunks = document_chunks[:70]\n",
    "\n",
    "#     # Step 3 + 4: Generate embeddings and store them in DB\n",
    "#     embeddings = OpenAIEmbeddings()\n",
    "#     vector_store = Chroma.from_documents(\n",
    "#         document_chunks,\n",
    "#         embeddings,\n",
    "#         collection_name=\"april-2023-economic\",\n",
    "#         persist_directory=\"src/data/chroma\",\n",
    "#     )\n",
    "\n",
    "#     # Save DB locally\n",
    "#     vector_store.persist()"
   ]
  },
  {
   "cell_type": "code",
   "execution_count": 14,
   "id": "1deefa18",
   "metadata": {},
   "outputs": [
    {
     "data": {
      "text/plain": [
       "[(1,\n",
       "  \"District7 Do Ngoc Tan HoChiMinhCity,Vietnam (+84)772954324 darkknightkhtn2008@gmail.com I’maSoftwareEngineerwhohas strongpassionwithinnovation scienceandtechnologies https://www.linkedin.com/in/do-ngoc-tan-64260072/ EXPERIENCE SKILLS Languages:C++20,Rust RustOpenSourceContributor-ForFun: Fluvioisa Golang,Python,Javascript high-performancedistributeddatastreamingplatformthat'swritteninRust, builttomakeiteasytorunreal-timeapplications-https://www.fluvio.io/ MachineLearning: Pytorch May2023-Now ● Contributetofluvioopensource: Blockchain:Tendermint, https://github.com/infinyon/fluvio Cosmos,Ethereum. AWARDS AStartupinDataPrivacy—LeadEngineer(Rust,C++) April2023-Now TopWinnerofBlockchain HackathonEventHostedBy Take theinitiativetore-writesystemfromJStoRust PolicyPal WorldQuant,Vietnam—SeniorEngineer/Lead Engineer(C++):WorldQuant,LLCisaninternationalhedgefundand quantitativeinvestmentmanagementfirmheadquarteredinOldGreenwich, LANGUAGES Connecticut https://www.worldquant.com/ Vietnamese,English, Nov2020-April2023 French(basic) ● Writeandmaintainsoftwaretoingestandtransformdata fordownstreamconsumption ● Processandanalyzefinancialmarketdata ● Leadateamof15developers in5countries,demonstrate leadershipwithtraining,codereviewingandpropose solutionforhandlingtasks ● RustEvangelistofthefirm. Result: ● Solvedmanycomplexandimportanttasks ● Leadtheteamtoachievebusinesstargetfromquant reseacherssucessfully ● Gainpromotionandgoodperformancereviewfromleader\"),\n",
       " (2,\n",
       "  \"GrasshopperAsia,VietnamandSingapore—High FrequencyTradingSoftwareEngineer(C++/Rust):Grasshopperisa leadingSingaporeanproprietarytradingfirmprovidingliquidityinglobal markets https://grasshopperasia.com/ Aug2019-Nov2020 ● Beingasa firstC++VietnameseSoftwareEngineer,and builttheC++teaminVietnamthatworkingcloselywith Singaporeteam ● MaintainandimplementHighfrequencyconnectivity moduleofbothmarketdataandorderexecution connectingtoexchanges:CME(implementedILink3 protocol),SGX,OSE,TSE ● Finishtheimplementationoforderexecutionmodule connectedtoCMEviaIlink3protocol. ● Re-writesomeexecutionmodulesinRust Result: ● Gainedtheverygoodperformanceevaluationfromheadof engineering ● Saveforthecompany'scost5000USDeverymonthby utilizingexistingCorvildatavendor ShareRing,Vietnam—SeniorBlockchainEngineer:Theworld’s firsttrustedtokenforsharingservices.Onewaytopayforsharingeverything, nomatterwhatitisorwhereyouare. https://sharering.network/en Feb2018-Jul2019 ● Buildingcompany’sownblockchainplatformfromscratch basedonTendermintandCosmos-SdkusingGolang ● Writingclientlibraryformobileandweb front-end/Back-endbyNodeJstointeractwithShareRing blockchain.IalsowriteanewJSlibraryfortheTendermint Community:https://github.com/TanNgocDo/Js-Amino MaunaKeaTechnologies,VietnamandParis—R&D SoftwareEngineer: MaunaKeaTechnologiesisaglobalmedicaldevice companyfocusedonendomicroscopy.Theirflagshipproduct-Cellvizioisthe advancedtechnologygeneratesopticalbiopsiesusingtheworld'ssmallest flexiblemicroscope,providingclinicianswithmicroscopicimagesoftissue instantaneouslyandinaminimally-invasivemanner http://www.maunakeatech.com Feb2014-Feb 2018 ● Developcross-platformsoftwareforCellvizioMedical DeviceandViewersoftwareforresearcher inDesktop\"),\n",
       " (3,\n",
       "  \"● Coachingandtrainingforteammember ● ApplyDesignpatternandsoftwarearchitecturerigorously forCompany'sCoreFramework ● ResearchDeepLearningtechniqueformedicalimage classification. Result: ● Contributedsuccessfully tothearchitecturedesignand codingphaseofcompanyframeworkaswellasnew productdevelopment ● Received excellent performancerevieweveryyear Codix,Vietnam—C&SQLDeveloper https://www.codix.eu/en July2013-Feb2014 DevelopEnterpriseSolutionSoftware forFinancialEuropean Organization:bank,factoringcompany,InsuranceCorporation….. etc Renesas,VietNam—EmbeddedSoftwareEngineer https://www.renesas.com/sg/en/ March2012-July2013 DevelopMultimediaPlatformonEmbeddedLinuxOperating SystemforAutomotive system EDUCATION HoChiMinhUniversityofScience, SoftwareEngineering Sept2008-Sept2012 Coursera DeepLearningSpecialization: https://www.coursera.org/account/accomplishments/specialization/cer tificate/T7D7ZQLJCF5E\")]"
      ]
     },
     "execution_count": 14,
     "metadata": {},
     "output_type": "execute_result"
    }
   ],
   "source": [
    "cleaned_text_pdf"
   ]
  },
  {
   "cell_type": "code",
   "execution_count": 15,
   "id": "b04ee337",
   "metadata": {},
   "outputs": [
    {
     "data": {
      "text/plain": [
       "[Document(page_content=\"District7 Do Ngoc Tan HoChiMinhCity,Vietnam (+84)772954324 darkknightkhtn2008@gmail.com I’maSoftwareEngineerwhohas strongpassionwithinnovation scienceandtechnologies https://www.linkedin.com/in/do-ngoc-tan-64260072/ EXPERIENCE SKILLS Languages:C++20,Rust RustOpenSourceContributor-ForFun: Fluvioisa Golang,Python,Javascript high-performancedistributeddatastreamingplatformthat'swritteninRust, builttomakeiteasytorunreal-timeapplications-https://www.fluvio.io/ MachineLearning: Pytorch May2023-Now ● Contributetofluvioopensource: Blockchain:Tendermint, https://github.com/infinyon/fluvio Cosmos,Ethereum. AWARDS AStartupinDataPrivacy—LeadEngineer(Rust,C++) April2023-Now TopWinnerofBlockchain HackathonEventHostedBy Take theinitiativetore-writesystemfromJStoRust PolicyPal WorldQuant,Vietnam—SeniorEngineer/Lead Engineer(C++):WorldQuant,LLCisaninternationalhedgefundand quantitativeinvestmentmanagementfirmheadquarteredinOldGreenwich, LANGUAGES Connecticut https://www.worldquant.com/ Vietnamese,Engli\", metadata={'page_number': 1, 'chunk': 0, 'source': 'p1-0', 'title': 'Resume_edit', 'author': '', 'creation_date': ''}),\n",
       " Document(page_content='ineer/Lead Engineer(C++):WorldQuant,LLCisaninternationalhedgefundand quantitativeinvestmentmanagementfirmheadquarteredinOldGreenwich, LANGUAGES Connecticut https://www.worldquant.com/ Vietnamese,English, Nov2020-April2023 French(basic) ● Writeandmaintainsoftwaretoingestandtransformdata fordownstreamconsumption ● Processandanalyzefinancialmarketdata ● Leadateamof15developers in5countries,demonstrate leadershipwithtraining,codereviewingandpropose solutionforhandlingtasks ● RustEvangelistofthefirm. Result: ● Solvedmanycomplexandimportanttasks ● Leadtheteamtoachievebusinesstargetfromquant reseacherssucessfully ● Gainpromotionandgoodperformancereviewfromleader', metadata={'page_number': 1, 'chunk': 1, 'source': 'p1-1', 'title': 'Resume_edit', 'author': '', 'creation_date': ''}),\n",
       " Document(page_content=\"GrasshopperAsia,VietnamandSingapore—High FrequencyTradingSoftwareEngineer(C++/Rust):Grasshopperisa leadingSingaporeanproprietarytradingfirmprovidingliquidityinglobal markets https://grasshopperasia.com/ Aug2019-Nov2020 ● Beingasa firstC++VietnameseSoftwareEngineer,and builttheC++teaminVietnamthatworkingcloselywith Singaporeteam ● MaintainandimplementHighfrequencyconnectivity moduleofbothmarketdataandorderexecution connectingtoexchanges:CME(implementedILink3 protocol),SGX,OSE,TSE ● Finishtheimplementationoforderexecutionmodule connectedtoCMEviaIlink3protocol. ● Re-writesomeexecutionmodulesinRust Result: ● Gainedtheverygoodperformanceevaluationfromheadof engineering ● Saveforthecompany'scost5000USDeverymonthby utilizingexistingCorvildatavendor ShareRing,Vietnam—SeniorBlockchainEngineer:Theworld’s firsttrustedtokenforsharingservices.Onewaytopayforsharingeverything, nomatterwhatitisorwhereyouare. https://sharering.network/en Feb2018-Jul2019 ● Buildingcompany’sownblockchainplatformfromscrat\", metadata={'page_number': 2, 'chunk': 0, 'source': 'p2-0', 'title': 'Resume_edit', 'author': '', 'creation_date': ''}),\n",
       " Document(page_content=\"rld’s firsttrustedtokenforsharingservices.Onewaytopayforsharingeverything, nomatterwhatitisorwhereyouare. https://sharering.network/en Feb2018-Jul2019 ● Buildingcompany’sownblockchainplatformfromscratch basedonTendermintandCosmos-SdkusingGolang ● Writingclientlibraryformobileandweb front-end/Back-endbyNodeJstointeractwithShareRing blockchain.IalsowriteanewJSlibraryfortheTendermint Community:https://github.com/TanNgocDo/Js-Amino MaunaKeaTechnologies,VietnamandParis—R&D SoftwareEngineer: MaunaKeaTechnologiesisaglobalmedicaldevice companyfocusedonendomicroscopy.Theirflagshipproduct-Cellvizioisthe advancedtechnologygeneratesopticalbiopsiesusingtheworld'ssmallest flexiblemicroscope,providingclinicianswithmicroscopicimagesoftissue instantaneouslyandinaminimally-invasivemanner http://www.maunakeatech.com Feb2014-Feb 2018 ● Developcross-platformsoftwareforCellvizioMedical DeviceandViewersoftwareforresearcher inDesktop\", metadata={'page_number': 2, 'chunk': 1, 'source': 'p2-1', 'title': 'Resume_edit', 'author': '', 'creation_date': ''}),\n",
       " Document(page_content=\"● Coachingandtrainingforteammember ● ApplyDesignpatternandsoftwarearchitecturerigorously forCompany'sCoreFramework ● ResearchDeepLearningtechniqueformedicalimage classification. Result: ● Contributedsuccessfully tothearchitecturedesignand codingphaseofcompanyframeworkaswellasnew productdevelopment ● Received excellent performancerevieweveryyear Codix,Vietnam—C&SQLDeveloper https://www.codix.eu/en July2013-Feb2014 DevelopEnterpriseSolutionSoftware forFinancialEuropean Organization:bank,factoringcompany,InsuranceCorporation….. etc Renesas,VietNam—EmbeddedSoftwareEngineer https://www.renesas.com/sg/en/ March2012-July2013 DevelopMultimediaPlatformonEmbeddedLinuxOperating SystemforAutomotive system EDUCATION HoChiMinhUniversityofScience, SoftwareEngineering Sept2008-Sept2012 Coursera DeepLearningSpecialization: https://www.coursera.org/account/accomplishments/specialization/cer tificate/T7D7ZQLJCF5E\", metadata={'page_number': 3, 'chunk': 0, 'source': 'p3-0', 'title': 'Resume_edit', 'author': '', 'creation_date': ''})]"
      ]
     },
     "execution_count": 15,
     "metadata": {},
     "output_type": "execute_result"
    }
   ],
   "source": [
    "document_chunks"
   ]
  },
  {
   "cell_type": "code",
   "execution_count": 25,
   "id": "463eec80",
   "metadata": {},
   "outputs": [
    {
     "name": "stdout",
     "output_type": "stream",
     "text": [
      "[\"District7\\nDo Ngoc Tan\\nHoChiMinhCity,Vietnam\\n(+84)772954324\\ndarkknightkhtn2008@gmail.com\\nI’maSoftwareEngineerwhohas strongpassionwithinnovation\\nscienceandtechnologies\\nhttps://www.linkedin.com/in/do-ngoc-tan-64260072/\\nEXPERIENCE SKILLS\\nLanguages:C++20,Rust\\nRustOpenSourceContributor-ForFun: Fluvioisa\\nGolang,Python,Javascript\\nhigh-performancedistributeddatastreamingplatformthat'swritteninRust,\\nbuilttomakeiteasytorunreal-timeapplications-https://www.fluvio.io/\\nMachineLearning:\\nPytorch\\nMay2023-Now\\n● Contributetofluvioopensource: Blockchain:Tendermint,\\nhttps://github.com/infinyon/fluvio Cosmos,Ethereum.\\nAWARDS\\nAStartupinDataPrivacy—LeadEngineer(Rust,C++)\\nApril2023-Now TopWinnerofBlockchain\\nHackathonEventHostedBy\\nTake theinitiativetore-writesystemfromJStoRust\\nPolicyPal\\nWorldQuant,Vietnam—SeniorEngineer/Lead\\nEngineer(C++):WorldQuant,LLCisaninternationalhedgefundand\\nquantitativeinvestmentmanagementfirmheadquarteredinOldGreenwich, LANGUAGES\\nConnecticut\\nhttps://www.worldquant.com/\\nVietnamese,English,\\nNov2020-April2023\\nFrench(basic)\\n● Writeandmaintainsoftwaretoingestandtransformdata\\nfordownstreamconsumption\\n● Processandanalyzefinancialmarketdata\\n● Leadateamof15developers in5countries,demonstrate\\nleadershipwithtraining,codereviewingandpropose\\nsolutionforhandlingtasks\\n● RustEvangelistofthefirm.\\nResult:\\n● Solvedmanycomplexandimportanttasks\\n● Leadtheteamtoachievebusinesstargetfromquant\\nreseacherssucessfully\\n● GainpromotionandgoodperformancereviewfromleaderGrasshopperAsia,VietnamandSingapore—High\\nFrequencyTradingSoftwareEngineer(C++/Rust):Grasshopperisa\\nleadingSingaporeanproprietarytradingfirmprovidingliquidityinglobal\\nmarkets\\nhttps://grasshopperasia.com/\\nAug2019-Nov2020\\n● Beingasa firstC++VietnameseSoftwareEngineer,and\\nbuilttheC++teaminVietnamthatworkingcloselywith\\nSingaporeteam\\n● MaintainandimplementHighfrequencyconnectivity\\nmoduleofbothmarketdataandorderexecution\\nconnectingtoexchanges:CME(implementedILink3\\nprotocol),SGX,OSE,TSE\\n● Finishtheimplementationoforderexecutionmodule\\nconnectedtoCMEviaIlink3protocol.\\n● Re-writesomeexecutionmodulesinRust\\nResult:\\n● Gainedtheverygoodperformanceevaluationfromheadof\\nengineering\\n● Saveforthecompany'scost5000USDeverymonthby\\nutilizingexistingCorvildatavendor\\nShareRing,Vietnam—SeniorBlockchainEngineer:Theworld’s\\nfirsttrustedtokenforsharingservices.Onewaytopayforsharingeverything,\\nnomatterwhatitisorwhereyouare.\\nhttps://sharering.network/en\\nFeb2018-Jul2019\\n● Buildingcompany’sownblockchainplatformfromscratch\\nbasedonTendermintandCosmos-SdkusingGolang\\n● Writingclientlibraryformobileandweb\\nfront-end/Back-endbyNodeJstointeractwithShareRing\\nblockchain.IalsowriteanewJSlibraryfortheTendermint\\nCommunity:https://github.com/TanNgocDo/Js-Amino\\nMaunaKeaTechnologies,VietnamandParis—R&D\\nSoftwareEngineer: MaunaKeaTechnologiesisaglobalmedicaldevice\\ncompanyfocusedonendomicroscopy.Theirflagshipproduct-Cellvizioisthe\\nadvancedtechnologygeneratesopticalbiopsiesusingtheworld'ssmallest\\nflexiblemicroscope,providingclinicianswithmicroscopicimagesoftissue\\ninstantaneouslyandinaminimally-invasivemanner\\nhttp://www.maunakeatech.com\\nFeb2014-Feb 2018\\n● Developcross-platformsoftwareforCellvizioMedical\\nDeviceandViewersoftwareforresearcher inDesktop● Coachingandtrainingforteammember\\n● ApplyDesignpatternandsoftwarearchitecturerigorously\\nforCompany'sCoreFramework\\n● ResearchDeepLearningtechniqueformedicalimage\\nclassification.\\nResult:\\n● Contributedsuccessfully tothearchitecturedesignand\\ncodingphaseofcompanyframeworkaswellasnew\\nproductdevelopment\\n● Received excellent performancerevieweveryyear\\nCodix,Vietnam—C&SQLDeveloper\\nhttps://www.codix.eu/en\\nJuly2013-Feb2014\\nDevelopEnterpriseSolutionSoftware forFinancialEuropean\\nOrganization:bank,factoringcompany,InsuranceCorporation…..\\netc\\nRenesas,VietNam—EmbeddedSoftwareEngineer\\nhttps://www.renesas.com/sg/en/\\nMarch2012-July2013\\nDevelopMultimediaPlatformonEmbeddedLinuxOperating\\nSystemforAutomotive system\\nEDUCATION\\nHoChiMinhUniversityofScience, SoftwareEngineering\\nSept2008-Sept2012\\nCoursera\\nDeepLearningSpecialization:\\nhttps://www.coursera.org/account/accomplishments/specialization/cer\\ntificate/T7D7ZQLJCF5E\"]\n",
      "{'title': 'Resume_edit', 'author': '', 'creation_date': ''}\n"
     ]
    }
   ],
   "source": [
    "raw_pages, metadata = parse_pdf_without_pages(file_path)\n",
    "print(raw_pages)\n",
    "print(metadata)\n",
    "\n",
    "\n",
    "# Step 2.1: Create text chunks\n",
    "cleaning_functions = [\n",
    "    merge_hyphenated_words,\n",
    "    fix_newlines,\n",
    "    remove_multiple_newlines,\n",
    "    ]\n",
    "cleaned_text_pdf = clean_text_without_pages(raw_pages, cleaning_functions)\n",
    "document_chunks = text_to_docs_without_pages(cleaned_text_pdf, metadata)"
   ]
  },
  {
   "cell_type": "code",
   "execution_count": 26,
   "id": "1914b5ca",
   "metadata": {},
   "outputs": [
    {
     "data": {
      "text/plain": [
       "[\"District7 Do Ngoc Tan HoChiMinhCity,Vietnam (+84)772954324 darkknightkhtn2008@gmail.com I’maSoftwareEngineerwhohas strongpassionwithinnovation scienceandtechnologies https://www.linkedin.com/in/do-ngoc-tan-64260072/ EXPERIENCE SKILLS Languages:C++20,Rust RustOpenSourceContributor-ForFun: Fluvioisa Golang,Python,Javascript high-performancedistributeddatastreamingplatformthat'swritteninRust, builttomakeiteasytorunreal-timeapplications-https://www.fluvio.io/ MachineLearning: Pytorch May2023-Now ● Contributetofluvioopensource: Blockchain:Tendermint, https://github.com/infinyon/fluvio Cosmos,Ethereum. AWARDS AStartupinDataPrivacy—LeadEngineer(Rust,C++) April2023-Now TopWinnerofBlockchain HackathonEventHostedBy Take theinitiativetore-writesystemfromJStoRust PolicyPal WorldQuant,Vietnam—SeniorEngineer/Lead Engineer(C++):WorldQuant,LLCisaninternationalhedgefundand quantitativeinvestmentmanagementfirmheadquarteredinOldGreenwich, LANGUAGES Connecticut https://www.worldquant.com/ Vietnamese,English, Nov2020-April2023 French(basic) ● Writeandmaintainsoftwaretoingestandtransformdata fordownstreamconsumption ● Processandanalyzefinancialmarketdata ● Leadateamof15developers in5countries,demonstrate leadershipwithtraining,codereviewingandpropose solutionforhandlingtasks ● RustEvangelistofthefirm. Result: ● Solvedmanycomplexandimportanttasks ● Leadtheteamtoachievebusinesstargetfromquant reseacherssucessfully ● GainpromotionandgoodperformancereviewfromleaderGrasshopperAsia,VietnamandSingapore—High FrequencyTradingSoftwareEngineer(C++/Rust):Grasshopperisa leadingSingaporeanproprietarytradingfirmprovidingliquidityinglobal markets https://grasshopperasia.com/ Aug2019-Nov2020 ● Beingasa firstC++VietnameseSoftwareEngineer,and builttheC++teaminVietnamthatworkingcloselywith Singaporeteam ● MaintainandimplementHighfrequencyconnectivity moduleofbothmarketdataandorderexecution connectingtoexchanges:CME(implementedILink3 protocol),SGX,OSE,TSE ● Finishtheimplementationoforderexecutionmodule connectedtoCMEviaIlink3protocol. ● Re-writesomeexecutionmodulesinRust Result: ● Gainedtheverygoodperformanceevaluationfromheadof engineering ● Saveforthecompany'scost5000USDeverymonthby utilizingexistingCorvildatavendor ShareRing,Vietnam—SeniorBlockchainEngineer:Theworld’s firsttrustedtokenforsharingservices.Onewaytopayforsharingeverything, nomatterwhatitisorwhereyouare. https://sharering.network/en Feb2018-Jul2019 ● Buildingcompany’sownblockchainplatformfromscratch basedonTendermintandCosmos-SdkusingGolang ● Writingclientlibraryformobileandweb front-end/Back-endbyNodeJstointeractwithShareRing blockchain.IalsowriteanewJSlibraryfortheTendermint Community:https://github.com/TanNgocDo/Js-Amino MaunaKeaTechnologies,VietnamandParis—R&D SoftwareEngineer: MaunaKeaTechnologiesisaglobalmedicaldevice companyfocusedonendomicroscopy.Theirflagshipproduct-Cellvizioisthe advancedtechnologygeneratesopticalbiopsiesusingtheworld'ssmallest flexiblemicroscope,providingclinicianswithmicroscopicimagesoftissue instantaneouslyandinaminimally-invasivemanner http://www.maunakeatech.com Feb2014-Feb 2018 ● Developcross-platformsoftwareforCellvizioMedical DeviceandViewersoftwareforresearcher inDesktop● Coachingandtrainingforteammember ● ApplyDesignpatternandsoftwarearchitecturerigorously forCompany'sCoreFramework ● ResearchDeepLearningtechniqueformedicalimage classification. Result: ● Contributedsuccessfully tothearchitecturedesignand codingphaseofcompanyframeworkaswellasnew productdevelopment ● Received excellent performancerevieweveryyear Codix,Vietnam—C&SQLDeveloper https://www.codix.eu/en July2013-Feb2014 DevelopEnterpriseSolutionSoftware forFinancialEuropean Organization:bank,factoringcompany,InsuranceCorporation….. etc Renesas,VietNam—EmbeddedSoftwareEngineer https://www.renesas.com/sg/en/ March2012-July2013 DevelopMultimediaPlatformonEmbeddedLinuxOperating SystemforAutomotive system EDUCATION HoChiMinhUniversityofScience, SoftwareEngineering Sept2008-Sept2012 Coursera DeepLearningSpecialization: https://www.coursera.org/account/accomplishments/specialization/cer tificate/T7D7ZQLJCF5E\"]"
      ]
     },
     "execution_count": 26,
     "metadata": {},
     "output_type": "execute_result"
    }
   ],
   "source": [
    "cleaned_text_pdf"
   ]
  },
  {
   "cell_type": "code",
   "execution_count": 27,
   "id": "7cd852ca",
   "metadata": {},
   "outputs": [
    {
     "data": {
      "text/plain": [
       "[Document(page_content=\"District7 Do Ngoc Tan HoChiMinhCity,Vietnam (+84)772954324 darkknightkhtn2008@gmail.com I’maSoftwareEngineerwhohas strongpassionwithinnovation scienceandtechnologies https://www.linkedin.com/in/do-ngoc-tan-64260072/ EXPERIENCE SKILLS Languages:C++20,Rust RustOpenSourceContributor-ForFun: Fluvioisa Golang,Python,Javascript high-performancedistributeddatastreamingplatformthat'swritteninRust, builttomakeiteasytorunreal-timeapplications-https://www.fluvio.io/ MachineLearning: Pytorch May2023-Now ● Contributetofluvioopensource: Blockchain:Tendermint, https://github.com/infinyon/fluvio Cosmos,Ethereum. AWARDS AStartupinDataPrivacy—LeadEngineer(Rust,C++) April2023-Now TopWinnerofBlockchain HackathonEventHostedBy Take theinitiativetore-writesystemfromJStoRust PolicyPal WorldQuant,Vietnam—SeniorEngineer/Lead Engineer(C++):WorldQuant,LLCisaninternationalhedgefundand quantitativeinvestmentmanagementfirmheadquarteredinOldGreenwich, LANGUAGES Connecticut https://www.worldquant.com/ Vietnamese,Engli\", metadata={'chunk': 0, 'title': 'Resume_edit', 'author': '', 'creation_date': ''}),\n",
       " Document(page_content='ineer/Lead Engineer(C++):WorldQuant,LLCisaninternationalhedgefundand quantitativeinvestmentmanagementfirmheadquarteredinOldGreenwich, LANGUAGES Connecticut https://www.worldquant.com/ Vietnamese,English, Nov2020-April2023 French(basic) ● Writeandmaintainsoftwaretoingestandtransformdata fordownstreamconsumption ● Processandanalyzefinancialmarketdata ● Leadateamof15developers in5countries,demonstrate leadershipwithtraining,codereviewingandpropose solutionforhandlingtasks ● RustEvangelistofthefirm. Result: ● Solvedmanycomplexandimportanttasks ● Leadtheteamtoachievebusinesstargetfromquant reseacherssucessfully ● GainpromotionandgoodperformancereviewfromleaderGrasshopperAsia,VietnamandSingapore—High FrequencyTradingSoftwareEngineer(C++/Rust):Grasshopperisa leadingSingaporeanproprietarytradingfirmprovidingliquidityinglobal markets https://grasshopperasia.com/ Aug2019-Nov2020 ● Beingasa firstC++VietnameseSoftwareEngineer,and builttheC++teaminVietnamthatworkingcloselywith Singaporeteam ● Maint', metadata={'chunk': 1, 'title': 'Resume_edit', 'author': '', 'creation_date': ''}),\n",
       " Document(page_content=\"rmprovidingliquidityinglobal markets https://grasshopperasia.com/ Aug2019-Nov2020 ● Beingasa firstC++VietnameseSoftwareEngineer,and builttheC++teaminVietnamthatworkingcloselywith Singaporeteam ● MaintainandimplementHighfrequencyconnectivity moduleofbothmarketdataandorderexecution connectingtoexchanges:CME(implementedILink3 protocol),SGX,OSE,TSE ● Finishtheimplementationoforderexecutionmodule connectedtoCMEviaIlink3protocol. ● Re-writesomeexecutionmodulesinRust Result: ● Gainedtheverygoodperformanceevaluationfromheadof engineering ● Saveforthecompany'scost5000USDeverymonthby utilizingexistingCorvildatavendor ShareRing,Vietnam—SeniorBlockchainEngineer:Theworld’s firsttrustedtokenforsharingservices.Onewaytopayforsharingeverything, nomatterwhatitisorwhereyouare. https://sharering.network/en Feb2018-Jul2019 ● Buildingcompany’sownblockchainplatformfromscratch basedonTendermintandCosmos-SdkusingGolang ● Writingclientlibraryformobileandweb front-end/Back-endbyNodeJstointeractwithShareRing bloc\", metadata={'chunk': 2, 'title': 'Resume_edit', 'author': '', 'creation_date': ''}),\n",
       " Document(page_content=\"b2018-Jul2019 ● Buildingcompany’sownblockchainplatformfromscratch basedonTendermintandCosmos-SdkusingGolang ● Writingclientlibraryformobileandweb front-end/Back-endbyNodeJstointeractwithShareRing blockchain.IalsowriteanewJSlibraryfortheTendermint Community:https://github.com/TanNgocDo/Js-Amino MaunaKeaTechnologies,VietnamandParis—R&D SoftwareEngineer: MaunaKeaTechnologiesisaglobalmedicaldevice companyfocusedonendomicroscopy.Theirflagshipproduct-Cellvizioisthe advancedtechnologygeneratesopticalbiopsiesusingtheworld'ssmallest flexiblemicroscope,providingclinicianswithmicroscopicimagesoftissue instantaneouslyandinaminimally-invasivemanner http://www.maunakeatech.com Feb2014-Feb 2018 ● Developcross-platformsoftwareforCellvizioMedical DeviceandViewersoftwareforresearcher inDesktop● Coachingandtrainingforteammember ● ApplyDesignpatternandsoftwarearchitecturerigorously forCompany'sCoreFramework ● ResearchDeepLearningtechniqueformedicalimage classification. Result: ● Contributedsuccessfully to\", metadata={'chunk': 3, 'title': 'Resume_edit', 'author': '', 'creation_date': ''}),\n",
       " Document(page_content=\"rainingforteammember ● ApplyDesignpatternandsoftwarearchitecturerigorously forCompany'sCoreFramework ● ResearchDeepLearningtechniqueformedicalimage classification. Result: ● Contributedsuccessfully tothearchitecturedesignand codingphaseofcompanyframeworkaswellasnew productdevelopment ● Received excellent performancerevieweveryyear Codix,Vietnam—C&SQLDeveloper https://www.codix.eu/en July2013-Feb2014 DevelopEnterpriseSolutionSoftware forFinancialEuropean Organization:bank,factoringcompany,InsuranceCorporation….. etc Renesas,VietNam—EmbeddedSoftwareEngineer https://www.renesas.com/sg/en/ March2012-July2013 DevelopMultimediaPlatformonEmbeddedLinuxOperating SystemforAutomotive system EDUCATION HoChiMinhUniversityofScience, SoftwareEngineering Sept2008-Sept2012 Coursera DeepLearningSpecialization: https://www.coursera.org/account/accomplishments/specialization/cer tificate/T7D7ZQLJCF5E\", metadata={'chunk': 4, 'title': 'Resume_edit', 'author': '', 'creation_date': ''})]"
      ]
     },
     "execution_count": 27,
     "metadata": {},
     "output_type": "execute_result"
    }
   ],
   "source": [
    "document_chunks"
   ]
  },
  {
   "cell_type": "code",
   "execution_count": null,
   "id": "be6690e9",
   "metadata": {},
   "outputs": [],
   "source": []
  }
 ],
 "metadata": {
  "kernelspec": {
   "display_name": "Python 3 (ipykernel)",
   "language": "python",
   "name": "python3"
  },
  "language_info": {
   "codemirror_mode": {
    "name": "ipython",
    "version": 3
   },
   "file_extension": ".py",
   "mimetype": "text/x-python",
   "name": "python",
   "nbconvert_exporter": "python",
   "pygments_lexer": "ipython3",
   "version": "3.10.11"
  }
 },
 "nbformat": 4,
 "nbformat_minor": 5
}
